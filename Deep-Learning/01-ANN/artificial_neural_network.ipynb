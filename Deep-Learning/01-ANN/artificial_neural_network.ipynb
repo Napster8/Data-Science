{
 "cells": [
  {
   "cell_type": "markdown",
   "metadata": {
    "colab_type": "text",
    "id": "lP6JLo1tGNBg"
   },
   "source": [
    "# Artificial Neural Network (ANN)\n",
    "\n",
    "Work by: Raghavendra Tapas"
   ]
  },
  {
   "cell_type": "markdown",
   "metadata": {
    "colab_type": "text",
    "id": "gWZyYmS_UE_L"
   },
   "source": [
    "### Importing the libraries"
   ]
  },
  {
   "cell_type": "code",
   "execution_count": 1,
   "metadata": {
    "colab": {},
    "colab_type": "code",
    "id": "MxkJoQBkUIHC"
   },
   "outputs": [],
   "source": [
    "import numpy as np\n",
    "import pandas as pd\n",
    "import tensorflow as tf"
   ]
  },
  {
   "cell_type": "code",
   "execution_count": 2,
   "metadata": {
    "colab": {
     "base_uri": "https://localhost:8080/",
     "height": 34
    },
    "colab_type": "code",
    "id": "ZaTwK7ojXr2F",
    "outputId": "0b27a96d-d11a-43e8-ab4b-87c1f01896fe"
   },
   "outputs": [
    {
     "data": {
      "text/plain": [
       "'2.5.0'"
      ]
     },
     "execution_count": 2,
     "metadata": {},
     "output_type": "execute_result"
    }
   ],
   "source": [
    "tf.__version__"
   ]
  },
  {
   "cell_type": "markdown",
   "metadata": {
    "colab_type": "text",
    "id": "1E0Q3aoKUCRX"
   },
   "source": [
    "## Data Preprocessing"
   ]
  },
  {
   "cell_type": "markdown",
   "metadata": {
    "colab_type": "text",
    "id": "cKWAkFVGUU0Z"
   },
   "source": [
    "### Importing the dataset\n",
    "\n",
    "* x - all the features except exited column\n",
    "* y - value to be predicted"
   ]
  },
  {
   "cell_type": "code",
   "execution_count": 22,
   "metadata": {
    "colab": {},
    "colab_type": "code",
    "id": "MXUkhkMfU4wq"
   },
   "outputs": [],
   "source": [
    "dataset = pd.read_csv('Churn_Modelling.csv')\n",
    "x = dataset.iloc[:, 3:-1].values\n",
    "y = dataset.iloc[:, -1].values"
   ]
  },
  {
   "cell_type": "code",
   "execution_count": 23,
   "metadata": {},
   "outputs": [
    {
     "data": {
      "text/html": [
       "<div>\n",
       "<style scoped>\n",
       "    .dataframe tbody tr th:only-of-type {\n",
       "        vertical-align: middle;\n",
       "    }\n",
       "\n",
       "    .dataframe tbody tr th {\n",
       "        vertical-align: top;\n",
       "    }\n",
       "\n",
       "    .dataframe thead th {\n",
       "        text-align: right;\n",
       "    }\n",
       "</style>\n",
       "<table border=\"1\" class=\"dataframe\">\n",
       "  <thead>\n",
       "    <tr style=\"text-align: right;\">\n",
       "      <th></th>\n",
       "      <th>RowNumber</th>\n",
       "      <th>CustomerId</th>\n",
       "      <th>Surname</th>\n",
       "      <th>CreditScore</th>\n",
       "      <th>Geography</th>\n",
       "      <th>Gender</th>\n",
       "      <th>Age</th>\n",
       "      <th>Tenure</th>\n",
       "      <th>Balance</th>\n",
       "      <th>NumOfProducts</th>\n",
       "      <th>HasCrCard</th>\n",
       "      <th>IsActiveMember</th>\n",
       "      <th>EstimatedSalary</th>\n",
       "      <th>Exited</th>\n",
       "    </tr>\n",
       "  </thead>\n",
       "  <tbody>\n",
       "    <tr>\n",
       "      <th>0</th>\n",
       "      <td>1</td>\n",
       "      <td>15634602</td>\n",
       "      <td>Hargrave</td>\n",
       "      <td>619</td>\n",
       "      <td>France</td>\n",
       "      <td>Female</td>\n",
       "      <td>42</td>\n",
       "      <td>2</td>\n",
       "      <td>0.00</td>\n",
       "      <td>1</td>\n",
       "      <td>1</td>\n",
       "      <td>1</td>\n",
       "      <td>101348.88</td>\n",
       "      <td>1</td>\n",
       "    </tr>\n",
       "    <tr>\n",
       "      <th>1</th>\n",
       "      <td>2</td>\n",
       "      <td>15647311</td>\n",
       "      <td>Hill</td>\n",
       "      <td>608</td>\n",
       "      <td>Spain</td>\n",
       "      <td>Female</td>\n",
       "      <td>41</td>\n",
       "      <td>1</td>\n",
       "      <td>83807.86</td>\n",
       "      <td>1</td>\n",
       "      <td>0</td>\n",
       "      <td>1</td>\n",
       "      <td>112542.58</td>\n",
       "      <td>0</td>\n",
       "    </tr>\n",
       "    <tr>\n",
       "      <th>2</th>\n",
       "      <td>3</td>\n",
       "      <td>15619304</td>\n",
       "      <td>Onio</td>\n",
       "      <td>502</td>\n",
       "      <td>France</td>\n",
       "      <td>Female</td>\n",
       "      <td>42</td>\n",
       "      <td>8</td>\n",
       "      <td>159660.80</td>\n",
       "      <td>3</td>\n",
       "      <td>1</td>\n",
       "      <td>0</td>\n",
       "      <td>113931.57</td>\n",
       "      <td>1</td>\n",
       "    </tr>\n",
       "    <tr>\n",
       "      <th>3</th>\n",
       "      <td>4</td>\n",
       "      <td>15701354</td>\n",
       "      <td>Boni</td>\n",
       "      <td>699</td>\n",
       "      <td>France</td>\n",
       "      <td>Female</td>\n",
       "      <td>39</td>\n",
       "      <td>1</td>\n",
       "      <td>0.00</td>\n",
       "      <td>2</td>\n",
       "      <td>0</td>\n",
       "      <td>0</td>\n",
       "      <td>93826.63</td>\n",
       "      <td>0</td>\n",
       "    </tr>\n",
       "    <tr>\n",
       "      <th>4</th>\n",
       "      <td>5</td>\n",
       "      <td>15737888</td>\n",
       "      <td>Mitchell</td>\n",
       "      <td>850</td>\n",
       "      <td>Spain</td>\n",
       "      <td>Female</td>\n",
       "      <td>43</td>\n",
       "      <td>2</td>\n",
       "      <td>125510.82</td>\n",
       "      <td>1</td>\n",
       "      <td>1</td>\n",
       "      <td>1</td>\n",
       "      <td>79084.10</td>\n",
       "      <td>0</td>\n",
       "    </tr>\n",
       "    <tr>\n",
       "      <th>...</th>\n",
       "      <td>...</td>\n",
       "      <td>...</td>\n",
       "      <td>...</td>\n",
       "      <td>...</td>\n",
       "      <td>...</td>\n",
       "      <td>...</td>\n",
       "      <td>...</td>\n",
       "      <td>...</td>\n",
       "      <td>...</td>\n",
       "      <td>...</td>\n",
       "      <td>...</td>\n",
       "      <td>...</td>\n",
       "      <td>...</td>\n",
       "      <td>...</td>\n",
       "    </tr>\n",
       "    <tr>\n",
       "      <th>9995</th>\n",
       "      <td>9996</td>\n",
       "      <td>15606229</td>\n",
       "      <td>Obijiaku</td>\n",
       "      <td>771</td>\n",
       "      <td>France</td>\n",
       "      <td>Male</td>\n",
       "      <td>39</td>\n",
       "      <td>5</td>\n",
       "      <td>0.00</td>\n",
       "      <td>2</td>\n",
       "      <td>1</td>\n",
       "      <td>0</td>\n",
       "      <td>96270.64</td>\n",
       "      <td>0</td>\n",
       "    </tr>\n",
       "    <tr>\n",
       "      <th>9996</th>\n",
       "      <td>9997</td>\n",
       "      <td>15569892</td>\n",
       "      <td>Johnstone</td>\n",
       "      <td>516</td>\n",
       "      <td>France</td>\n",
       "      <td>Male</td>\n",
       "      <td>35</td>\n",
       "      <td>10</td>\n",
       "      <td>57369.61</td>\n",
       "      <td>1</td>\n",
       "      <td>1</td>\n",
       "      <td>1</td>\n",
       "      <td>101699.77</td>\n",
       "      <td>0</td>\n",
       "    </tr>\n",
       "    <tr>\n",
       "      <th>9997</th>\n",
       "      <td>9998</td>\n",
       "      <td>15584532</td>\n",
       "      <td>Liu</td>\n",
       "      <td>709</td>\n",
       "      <td>France</td>\n",
       "      <td>Female</td>\n",
       "      <td>36</td>\n",
       "      <td>7</td>\n",
       "      <td>0.00</td>\n",
       "      <td>1</td>\n",
       "      <td>0</td>\n",
       "      <td>1</td>\n",
       "      <td>42085.58</td>\n",
       "      <td>1</td>\n",
       "    </tr>\n",
       "    <tr>\n",
       "      <th>9998</th>\n",
       "      <td>9999</td>\n",
       "      <td>15682355</td>\n",
       "      <td>Sabbatini</td>\n",
       "      <td>772</td>\n",
       "      <td>Germany</td>\n",
       "      <td>Male</td>\n",
       "      <td>42</td>\n",
       "      <td>3</td>\n",
       "      <td>75075.31</td>\n",
       "      <td>2</td>\n",
       "      <td>1</td>\n",
       "      <td>0</td>\n",
       "      <td>92888.52</td>\n",
       "      <td>1</td>\n",
       "    </tr>\n",
       "    <tr>\n",
       "      <th>9999</th>\n",
       "      <td>10000</td>\n",
       "      <td>15628319</td>\n",
       "      <td>Walker</td>\n",
       "      <td>792</td>\n",
       "      <td>France</td>\n",
       "      <td>Female</td>\n",
       "      <td>28</td>\n",
       "      <td>4</td>\n",
       "      <td>130142.79</td>\n",
       "      <td>1</td>\n",
       "      <td>1</td>\n",
       "      <td>0</td>\n",
       "      <td>38190.78</td>\n",
       "      <td>0</td>\n",
       "    </tr>\n",
       "  </tbody>\n",
       "</table>\n",
       "<p>10000 rows × 14 columns</p>\n",
       "</div>"
      ],
      "text/plain": [
       "      RowNumber  CustomerId    Surname  CreditScore Geography  Gender  Age  \\\n",
       "0             1    15634602   Hargrave          619    France  Female   42   \n",
       "1             2    15647311       Hill          608     Spain  Female   41   \n",
       "2             3    15619304       Onio          502    France  Female   42   \n",
       "3             4    15701354       Boni          699    France  Female   39   \n",
       "4             5    15737888   Mitchell          850     Spain  Female   43   \n",
       "...         ...         ...        ...          ...       ...     ...  ...   \n",
       "9995       9996    15606229   Obijiaku          771    France    Male   39   \n",
       "9996       9997    15569892  Johnstone          516    France    Male   35   \n",
       "9997       9998    15584532        Liu          709    France  Female   36   \n",
       "9998       9999    15682355  Sabbatini          772   Germany    Male   42   \n",
       "9999      10000    15628319     Walker          792    France  Female   28   \n",
       "\n",
       "      Tenure    Balance  NumOfProducts  HasCrCard  IsActiveMember  \\\n",
       "0          2       0.00              1          1               1   \n",
       "1          1   83807.86              1          0               1   \n",
       "2          8  159660.80              3          1               0   \n",
       "3          1       0.00              2          0               0   \n",
       "4          2  125510.82              1          1               1   \n",
       "...      ...        ...            ...        ...             ...   \n",
       "9995       5       0.00              2          1               0   \n",
       "9996      10   57369.61              1          1               1   \n",
       "9997       7       0.00              1          0               1   \n",
       "9998       3   75075.31              2          1               0   \n",
       "9999       4  130142.79              1          1               0   \n",
       "\n",
       "      EstimatedSalary  Exited  \n",
       "0           101348.88       1  \n",
       "1           112542.58       0  \n",
       "2           113931.57       1  \n",
       "3            93826.63       0  \n",
       "4            79084.10       0  \n",
       "...               ...     ...  \n",
       "9995         96270.64       0  \n",
       "9996        101699.77       0  \n",
       "9997         42085.58       1  \n",
       "9998         92888.52       1  \n",
       "9999         38190.78       0  \n",
       "\n",
       "[10000 rows x 14 columns]"
      ]
     },
     "execution_count": 23,
     "metadata": {},
     "output_type": "execute_result"
    }
   ],
   "source": [
    "dataset"
   ]
  },
  {
   "cell_type": "code",
   "execution_count": 24,
   "metadata": {
    "colab": {
     "base_uri": "https://localhost:8080/",
     "height": 137
    },
    "colab_type": "code",
    "id": "VYP9cQTWbzuI",
    "outputId": "797e7a64-9bac-436a-8c9c-94437e5e7587"
   },
   "outputs": [
    {
     "name": "stdout",
     "output_type": "stream",
     "text": [
      "[[619 'France' 'Female' ... 1 1 101348.88]\n",
      " [608 'Spain' 'Female' ... 0 1 112542.58]\n",
      " [502 'France' 'Female' ... 1 0 113931.57]\n",
      " ...\n",
      " [709 'France' 'Female' ... 0 1 42085.58]\n",
      " [772 'Germany' 'Male' ... 1 0 92888.52]\n",
      " [792 'France' 'Female' ... 1 0 38190.78]]\n"
     ]
    }
   ],
   "source": [
    "print(x)"
   ]
  },
  {
   "cell_type": "code",
   "execution_count": 25,
   "metadata": {
    "colab": {
     "base_uri": "https://localhost:8080/",
     "height": 34
    },
    "colab_type": "code",
    "id": "38vKGE6Nb2RR",
    "outputId": "a815e42a-e0dd-4cb5-ab97-b17ead98fbc3"
   },
   "outputs": [
    {
     "name": "stdout",
     "output_type": "stream",
     "text": [
      "[1 0 1 ... 1 1 0]\n"
     ]
    }
   ],
   "source": [
    "print(y)"
   ]
  },
  {
   "cell_type": "markdown",
   "metadata": {
    "colab_type": "text",
    "id": "N6bQ0UgSU-NJ"
   },
   "source": [
    "### Encoding Categorical Data\n",
    "\n",
    "Label Encoding the \"Gender\" column"
   ]
  },
  {
   "cell_type": "code",
   "execution_count": 26,
   "metadata": {
    "colab": {},
    "colab_type": "code",
    "id": "PxVKWXxLbczC"
   },
   "outputs": [],
   "source": [
    "from sklearn.preprocessing import LabelEncoder\n",
    "le = LabelEncoder()\n",
    "x[:, 2] = le.fit_transform(x[:, 2])"
   ]
  },
  {
   "cell_type": "code",
   "execution_count": 27,
   "metadata": {
    "colab": {
     "base_uri": "https://localhost:8080/",
     "height": 137
    },
    "colab_type": "code",
    "id": "-M1KboxFb6OO",
    "outputId": "e2b8c7e8-0cbc-4cdf-f4eb-7f0853a00b88"
   },
   "outputs": [
    {
     "data": {
      "text/plain": [
       "numpy.ndarray"
      ]
     },
     "execution_count": 27,
     "metadata": {},
     "output_type": "execute_result"
    }
   ],
   "source": [
    "type(x)"
   ]
  },
  {
   "cell_type": "markdown",
   "metadata": {
    "colab_type": "text",
    "id": "CUxGZezpbMcb"
   },
   "source": [
    "One Hot Encoding the \"Geography\" column"
   ]
  },
  {
   "cell_type": "code",
   "execution_count": 8,
   "metadata": {
    "colab": {},
    "colab_type": "code",
    "id": "AMXC8-KMVirw"
   },
   "outputs": [],
   "source": [
    "from sklearn.compose import ColumnTransformer\n",
    "from sklearn.preprocessing import OneHotEncoder\n",
    "ct = ColumnTransformer(transformers = [('encoder', OneHotEncoder(), [1])], remainder='passthrough')\n",
    "x = np.array(ct.fit_transform(x))"
   ]
  },
  {
   "cell_type": "markdown",
   "metadata": {
    "colab_type": "text",
    "id": "vHol938cW8zd"
   },
   "source": [
    "### Splitting the dataset into the Training set and Test set"
   ]
  },
  {
   "cell_type": "code",
   "execution_count": 9,
   "metadata": {
    "colab": {},
    "colab_type": "code",
    "id": "Z-TDt0Y_XEfc",
    "tags": []
   },
   "outputs": [],
   "source": [
    "from sklearn.model_selection import train_test_split\n",
    "x_train, x_test, y_train, y_test = train_test_split(x, y, test_size = 0.2, random_state = 0)"
   ]
  },
  {
   "cell_type": "markdown",
   "metadata": {
    "colab_type": "text",
    "id": "RE_FcHyfV3TQ"
   },
   "source": [
    "### Feature Scaling"
   ]
  },
  {
   "cell_type": "code",
   "execution_count": 10,
   "metadata": {
    "colab": {},
    "colab_type": "code",
    "id": "ViCrE00rV8Sk",
    "tags": []
   },
   "outputs": [],
   "source": [
    "from sklearn.preprocessing import StandardScaler\n",
    "sc = StandardScaler()\n",
    "x_train = sc.fit_transform(x_train)\n",
    "x_test = sc.transform(x_test)"
   ]
  },
  {
   "cell_type": "markdown",
   "metadata": {
    "colab_type": "text",
    "id": "-zfEzkRVXIwF"
   },
   "source": [
    "## Building the ANN\n",
    "\n",
    "How many neurons to choose is a trial and error process in deep learning.\n",
    "\n",
    "* **1st layer:** `rectifier` activation function, `6` neurons\n",
    "* **2nd layer:** `rectifier` activation function, `6` neurons\n",
    "* **Output layer:** `sigmoid` activation function,  `1` neuron, because the variable we are trying to predict is `binary classification` problem.\n",
    "\n",
    "i.e. Whether or not the customer leaves the bank. (Yes or No)"
   ]
  },
  {
   "cell_type": "markdown",
   "metadata": {
    "colab_type": "text",
    "id": "KvdeScabXtlB"
   },
   "source": [
    "### Initializing the ANN"
   ]
  },
  {
   "cell_type": "code",
   "execution_count": 28,
   "metadata": {
    "colab": {},
    "colab_type": "code",
    "id": "3dtrScHxXQox"
   },
   "outputs": [],
   "source": [
    "ann = tf.keras.models.Sequential()"
   ]
  },
  {
   "cell_type": "markdown",
   "metadata": {
    "colab_type": "text",
    "id": "rP6urV6SX7kS"
   },
   "source": [
    "### Adding the input layer and the first hidden layer"
   ]
  },
  {
   "cell_type": "code",
   "execution_count": 29,
   "metadata": {
    "colab": {},
    "colab_type": "code",
    "id": "bppGycBXYCQr"
   },
   "outputs": [],
   "source": [
    "ann.add(tf.keras.layers.Dense(units=6, activation='relu'))"
   ]
  },
  {
   "cell_type": "markdown",
   "metadata": {
    "colab_type": "text",
    "id": "BELWAc_8YJze"
   },
   "source": [
    "### Adding the second hidden layer"
   ]
  },
  {
   "cell_type": "code",
   "execution_count": 30,
   "metadata": {
    "colab": {},
    "colab_type": "code",
    "id": "JneR0u0sYRTd"
   },
   "outputs": [],
   "source": [
    "ann.add(tf.keras.layers.Dense(units=6, activation='relu'))"
   ]
  },
  {
   "cell_type": "markdown",
   "metadata": {
    "colab_type": "text",
    "id": "OyNEe6RXYcU4"
   },
   "source": [
    "### Adding the output layer"
   ]
  },
  {
   "cell_type": "code",
   "execution_count": 31,
   "metadata": {
    "colab": {},
    "colab_type": "code",
    "id": "Cn3x41RBYfvY"
   },
   "outputs": [],
   "source": [
    "ann.add(tf.keras.layers.Dense(units=1, activation='sigmoid'))"
   ]
  },
  {
   "cell_type": "markdown",
   "metadata": {
    "colab_type": "text",
    "id": "JT4u2S1_Y4WG"
   },
   "source": [
    "## Training the ANN\n",
    "\n",
    "* `Adam optimizer`: Adaptive Moment Estimation or Adam optimizer combines two gradient descent methodologies. Adaptive Moment Estimation is an algorithm for optimization technique for gradient descent. The method is really efficient when working with large problem involving a lot of data or parameters.\n",
    "\n",
    "* `Binary Cross-Entropy`: Cross-entropy is a measure of the difference between two probability distributions for a given random variable or set of events. Since we’re trying to compute a loss, we need to penalize bad predictions. If the probability associated with the true class is 1.0, we need its loss to be zero. Conversely, if that probability is low, say, 0.01, we need its loss to be huge."
   ]
  },
  {
   "cell_type": "markdown",
   "metadata": {
    "colab_type": "text",
    "id": "8GWlJChhY_ZI"
   },
   "source": [
    "### Compiling the ANN"
   ]
  },
  {
   "cell_type": "code",
   "execution_count": 32,
   "metadata": {
    "colab": {},
    "colab_type": "code",
    "id": "fG3RrwDXZEaS"
   },
   "outputs": [],
   "source": [
    "ann.compile(optimizer = 'adam', loss = 'binary_crossentropy', metrics = ['accuracy'])"
   ]
  },
  {
   "cell_type": "markdown",
   "metadata": {
    "colab_type": "text",
    "id": "0QR_G5u7ZLSM"
   },
   "source": [
    "### Training the ANN on the Training set\n",
    "\n",
    "* Batch gradient descent is faster to compute. Usually batch size is taken to be 32.\n",
    "* One epoch consists of one full training cycle on the training set. Once every sample in the set is seen, you start again - marking the beginning of the 2nd epoch."
   ]
  },
  {
   "cell_type": "code",
   "execution_count": 34,
   "metadata": {
    "colab": {
     "base_uri": "https://localhost:8080/",
     "height": 1000
    },
    "colab_type": "code",
    "collapsed": true,
    "id": "nHZ-LKv_ZRb3",
    "jupyter": {
     "outputs_hidden": true
    },
    "outputId": "718cc4b0-b5aa-40f0-9b20-d3d31730a531",
    "tags": []
   },
   "outputs": [
    {
     "name": "stdout",
     "output_type": "stream",
     "text": [
      "Epoch 1/100\n",
      "667/667 [==============================] - 2s 3ms/step - loss: 0.3358 - accuracy: 0.8650\n",
      "Epoch 2/100\n",
      "667/667 [==============================] - 2s 3ms/step - loss: 0.3339 - accuracy: 0.8644\n",
      "Epoch 3/100\n",
      "667/667 [==============================] - 2s 3ms/step - loss: 0.3332 - accuracy: 0.8671\n",
      "Epoch 4/100\n",
      "667/667 [==============================] - 2s 3ms/step - loss: 0.3335 - accuracy: 0.8636\n",
      "Epoch 5/100\n",
      "667/667 [==============================] - 2s 3ms/step - loss: 0.3327 - accuracy: 0.8671\n",
      "Epoch 6/100\n",
      "667/667 [==============================] - 2s 3ms/step - loss: 0.3327 - accuracy: 0.8670\n",
      "Epoch 7/100\n",
      "667/667 [==============================] - 2s 3ms/step - loss: 0.3319 - accuracy: 0.8666\n",
      "Epoch 8/100\n",
      "667/667 [==============================] - 2s 3ms/step - loss: 0.3325 - accuracy: 0.8643\n",
      "Epoch 9/100\n",
      "667/667 [==============================] - 2s 2ms/step - loss: 0.3323 - accuracy: 0.8639\n",
      "Epoch 10/100\n",
      "667/667 [==============================] - 2s 2ms/step - loss: 0.3317 - accuracy: 0.8668\n",
      "Epoch 11/100\n",
      "667/667 [==============================] - 2s 2ms/step - loss: 0.3321 - accuracy: 0.8648\n",
      "Epoch 12/100\n",
      "667/667 [==============================] - 2s 3ms/step - loss: 0.3317 - accuracy: 0.8649\n",
      "Epoch 13/100\n",
      "667/667 [==============================] - 2s 3ms/step - loss: 0.3319 - accuracy: 0.8629\n",
      "Epoch 14/100\n",
      "667/667 [==============================] - 2s 3ms/step - loss: 0.3309 - accuracy: 0.8645\n",
      "Epoch 15/100\n",
      "667/667 [==============================] - 2s 3ms/step - loss: 0.3310 - accuracy: 0.8677\n",
      "Epoch 16/100\n",
      "667/667 [==============================] - 2s 3ms/step - loss: 0.3317 - accuracy: 0.8664\n",
      "Epoch 17/100\n",
      "667/667 [==============================] - 2s 3ms/step - loss: 0.3309 - accuracy: 0.8649\n",
      "Epoch 18/100\n",
      "667/667 [==============================] - 2s 3ms/step - loss: 0.3314 - accuracy: 0.8656\n",
      "Epoch 19/100\n",
      "667/667 [==============================] - 2s 3ms/step - loss: 0.3314 - accuracy: 0.8665\n",
      "Epoch 20/100\n",
      "667/667 [==============================] - 2s 3ms/step - loss: 0.3307 - accuracy: 0.8640\n",
      "Epoch 21/100\n",
      "667/667 [==============================] - 2s 3ms/step - loss: 0.3308 - accuracy: 0.8662\n",
      "Epoch 22/100\n",
      "667/667 [==============================] - 2s 3ms/step - loss: 0.3304 - accuracy: 0.8654\n",
      "Epoch 23/100\n",
      "667/667 [==============================] - 2s 3ms/step - loss: 0.3312 - accuracy: 0.8643\n",
      "Epoch 24/100\n",
      "667/667 [==============================] - 2s 2ms/step - loss: 0.3306 - accuracy: 0.8656\n",
      "Epoch 25/100\n",
      "667/667 [==============================] - 2s 3ms/step - loss: 0.3306 - accuracy: 0.8652\n",
      "Epoch 26/100\n",
      "667/667 [==============================] - 2s 3ms/step - loss: 0.3301 - accuracy: 0.8654\n",
      "Epoch 27/100\n",
      "667/667 [==============================] - 2s 3ms/step - loss: 0.3305 - accuracy: 0.8655\n",
      "Epoch 28/100\n",
      "667/667 [==============================] - 2s 3ms/step - loss: 0.3304 - accuracy: 0.8652\n",
      "Epoch 29/100\n",
      "667/667 [==============================] - 2s 2ms/step - loss: 0.3306 - accuracy: 0.8635\n",
      "Epoch 30/100\n",
      "667/667 [==============================] - 2s 3ms/step - loss: 0.3298 - accuracy: 0.8662\n",
      "Epoch 31/100\n",
      "667/667 [==============================] - 2s 3ms/step - loss: 0.3301 - accuracy: 0.8649\n",
      "Epoch 32/100\n",
      "667/667 [==============================] - 2s 3ms/step - loss: 0.3292 - accuracy: 0.8652\n",
      "Epoch 33/100\n",
      "667/667 [==============================] - 2s 3ms/step - loss: 0.3299 - accuracy: 0.8654\n",
      "Epoch 34/100\n",
      "667/667 [==============================] - 2s 3ms/step - loss: 0.3293 - accuracy: 0.8652\n",
      "Epoch 35/100\n",
      "667/667 [==============================] - 2s 3ms/step - loss: 0.3301 - accuracy: 0.8675\n",
      "Epoch 36/100\n",
      "667/667 [==============================] - 2s 2ms/step - loss: 0.3295 - accuracy: 0.8654\n",
      "Epoch 37/100\n",
      "667/667 [==============================] - 2s 2ms/step - loss: 0.3302 - accuracy: 0.8640\n",
      "Epoch 38/100\n",
      "667/667 [==============================] - 2s 2ms/step - loss: 0.3298 - accuracy: 0.8645\n",
      "Epoch 39/100\n",
      "667/667 [==============================] - 2s 3ms/step - loss: 0.3296 - accuracy: 0.8627\n",
      "Epoch 40/100\n",
      "667/667 [==============================] - 2s 3ms/step - loss: 0.3298 - accuracy: 0.8643\n",
      "Epoch 41/100\n",
      "667/667 [==============================] - 2s 3ms/step - loss: 0.3296 - accuracy: 0.8640\n",
      "Epoch 42/100\n",
      "667/667 [==============================] - 2s 3ms/step - loss: 0.3299 - accuracy: 0.8649\n",
      "Epoch 43/100\n",
      "667/667 [==============================] - 2s 3ms/step - loss: 0.3298 - accuracy: 0.8675\n",
      "Epoch 44/100\n",
      "667/667 [==============================] - 2s 3ms/step - loss: 0.3300 - accuracy: 0.8639\n",
      "Epoch 45/100\n",
      "667/667 [==============================] - 2s 3ms/step - loss: 0.3286 - accuracy: 0.8650\n",
      "Epoch 46/100\n",
      "667/667 [==============================] - 2s 2ms/step - loss: 0.3294 - accuracy: 0.8659\n",
      "Epoch 47/100\n",
      "667/667 [==============================] - 2s 3ms/step - loss: 0.3285 - accuracy: 0.8652\n",
      "Epoch 48/100\n",
      "667/667 [==============================] - 2s 3ms/step - loss: 0.3289 - accuracy: 0.8659\n",
      "Epoch 49/100\n",
      "667/667 [==============================] - 2s 3ms/step - loss: 0.3294 - accuracy: 0.8650\n",
      "Epoch 50/100\n",
      "667/667 [==============================] - 2s 3ms/step - loss: 0.3293 - accuracy: 0.8640\n",
      "Epoch 51/100\n",
      "667/667 [==============================] - 2s 2ms/step - loss: 0.3289 - accuracy: 0.8643\n",
      "Epoch 52/100\n",
      "667/667 [==============================] - 2s 3ms/step - loss: 0.3289 - accuracy: 0.8644: 0s - loss:\n",
      "Epoch 53/100\n",
      "667/667 [==============================] - ETA: 0s - loss: 0.3291 - accuracy: 0.8649 ETA: 0s - loss: 0.331 - 2s 3ms/step - loss: 0.3289 - accuracy: 0.8648\n",
      "Epoch 54/100\n",
      "667/667 [==============================] - 2s 3ms/step - loss: 0.3288 - accuracy: 0.8664\n",
      "Epoch 55/100\n",
      "667/667 [==============================] - 2s 3ms/step - loss: 0.3291 - accuracy: 0.8656\n",
      "Epoch 56/100\n",
      "667/667 [==============================] - 2s 3ms/step - loss: 0.3290 - accuracy: 0.8650\n",
      "Epoch 57/100\n",
      "667/667 [==============================] - 2s 3ms/step - loss: 0.3283 - accuracy: 0.8650\n",
      "Epoch 58/100\n",
      "667/667 [==============================] - 2s 3ms/step - loss: 0.3290 - accuracy: 0.8652\n",
      "Epoch 59/100\n",
      "667/667 [==============================] - 2s 3ms/step - loss: 0.3285 - accuracy: 0.8658\n",
      "Epoch 60/100\n",
      "667/667 [==============================] - 2s 2ms/step - loss: 0.3283 - accuracy: 0.8650\n",
      "Epoch 61/100\n",
      "667/667 [==============================] - 2s 3ms/step - loss: 0.3287 - accuracy: 0.8654\n",
      "Epoch 62/100\n",
      "667/667 [==============================] - 2s 2ms/step - loss: 0.3282 - accuracy: 0.8661\n",
      "Epoch 63/100\n",
      "667/667 [==============================] - 2s 2ms/step - loss: 0.3283 - accuracy: 0.8659\n",
      "Epoch 64/100\n",
      "667/667 [==============================] - 2s 2ms/step - loss: 0.3285 - accuracy: 0.8652\n",
      "Epoch 65/100\n",
      "667/667 [==============================] - 2s 3ms/step - loss: 0.3283 - accuracy: 0.8650\n",
      "Epoch 66/100\n",
      "667/667 [==============================] - 2s 3ms/step - loss: 0.3279 - accuracy: 0.8671\n",
      "Epoch 67/100\n",
      "667/667 [==============================] - 2s 2ms/step - loss: 0.3280 - accuracy: 0.8630\n",
      "Epoch 68/100\n",
      "667/667 [==============================] - 2s 3ms/step - loss: 0.3284 - accuracy: 0.8644\n",
      "Epoch 69/100\n",
      "667/667 [==============================] - 2s 3ms/step - loss: 0.3279 - accuracy: 0.8675\n",
      "Epoch 70/100\n",
      "667/667 [==============================] - 2s 3ms/step - loss: 0.3283 - accuracy: 0.8648\n",
      "Epoch 71/100\n",
      "667/667 [==============================] - 2s 3ms/step - loss: 0.3272 - accuracy: 0.8649\n",
      "Epoch 72/100\n",
      "667/667 [==============================] - 2s 3ms/step - loss: 0.3281 - accuracy: 0.8656\n",
      "Epoch 73/100\n",
      "667/667 [==============================] - 2s 3ms/step - loss: 0.3277 - accuracy: 0.8651\n",
      "Epoch 74/100\n",
      "667/667 [==============================] - 2s 3ms/step - loss: 0.3279 - accuracy: 0.8668\n",
      "Epoch 75/100\n",
      "667/667 [==============================] - 2s 3ms/step - loss: 0.3287 - accuracy: 0.8636\n",
      "Epoch 76/100\n",
      "667/667 [==============================] - 2s 3ms/step - loss: 0.3280 - accuracy: 0.8658\n",
      "Epoch 77/100\n",
      "667/667 [==============================] - 2s 3ms/step - loss: 0.3279 - accuracy: 0.8656\n",
      "Epoch 78/100\n",
      "667/667 [==============================] - 2s 3ms/step - loss: 0.3279 - accuracy: 0.8656\n",
      "Epoch 79/100\n",
      "667/667 [==============================] - 2s 3ms/step - loss: 0.3278 - accuracy: 0.8633\n",
      "Epoch 80/100\n",
      "667/667 [==============================] - 2s 3ms/step - loss: 0.3277 - accuracy: 0.8680\n",
      "Epoch 81/100\n",
      "667/667 [==============================] - 2s 3ms/step - loss: 0.3277 - accuracy: 0.8683\n",
      "Epoch 82/100\n",
      "667/667 [==============================] - 2s 3ms/step - loss: 0.3274 - accuracy: 0.8664\n",
      "Epoch 83/100\n",
      "667/667 [==============================] - 2s 3ms/step - loss: 0.3280 - accuracy: 0.8666\n",
      "Epoch 84/100\n",
      "667/667 [==============================] - 2s 3ms/step - loss: 0.3269 - accuracy: 0.8673\n",
      "Epoch 85/100\n",
      "667/667 [==============================] - 2s 3ms/step - loss: 0.3272 - accuracy: 0.8651\n",
      "Epoch 86/100\n",
      "667/667 [==============================] - 2s 3ms/step - loss: 0.3277 - accuracy: 0.8639\n",
      "Epoch 87/100\n",
      "667/667 [==============================] - 2s 3ms/step - loss: 0.3269 - accuracy: 0.8670\n",
      "Epoch 88/100\n",
      "667/667 [==============================] - 2s 3ms/step - loss: 0.3268 - accuracy: 0.8669\n",
      "Epoch 89/100\n",
      "667/667 [==============================] - 2s 3ms/step - loss: 0.3277 - accuracy: 0.8660\n",
      "Epoch 90/100\n",
      "667/667 [==============================] - 2s 2ms/step - loss: 0.3272 - accuracy: 0.8665\n",
      "Epoch 91/100\n",
      "667/667 [==============================] - 2s 3ms/step - loss: 0.3269 - accuracy: 0.8661\n",
      "Epoch 92/100\n",
      "667/667 [==============================] - 2s 3ms/step - loss: 0.3278 - accuracy: 0.8658\n",
      "Epoch 93/100\n",
      "667/667 [==============================] - 2s 3ms/step - loss: 0.3280 - accuracy: 0.8654\n",
      "Epoch 94/100\n",
      "667/667 [==============================] - 2s 3ms/step - loss: 0.3274 - accuracy: 0.8650\n",
      "Epoch 95/100\n",
      "667/667 [==============================] - 2s 2ms/step - loss: 0.3278 - accuracy: 0.8648\n",
      "Epoch 96/100\n",
      "667/667 [==============================] - 2s 3ms/step - loss: 0.3270 - accuracy: 0.8633\n",
      "Epoch 97/100\n",
      "667/667 [==============================] - 2s 3ms/step - loss: 0.3275 - accuracy: 0.8648\n",
      "Epoch 98/100\n",
      "667/667 [==============================] - 2s 3ms/step - loss: 0.3272 - accuracy: 0.8659\n",
      "Epoch 99/100\n",
      "667/667 [==============================] - 3s 4ms/step - loss: 0.3272 - accuracy: 0.8665\n",
      "Epoch 100/100\n",
      "667/667 [==============================] - 3s 4ms/step - loss: 0.3274 - accuracy: 0.8659\n"
     ]
    },
    {
     "data": {
      "text/plain": [
       "<tensorflow.python.keras.callbacks.History at 0x11dad1c2bb0>"
      ]
     },
     "execution_count": 34,
     "metadata": {},
     "output_type": "execute_result"
    }
   ],
   "source": [
    "ann.fit(x_train, y_train, batch_size = 32, epochs = 100)"
   ]
  },
  {
   "cell_type": "markdown",
   "metadata": {},
   "source": [
    "Epoch 100/100\n",
    "667/667 [==============================] - 3s 4ms/step - loss: 0.3274 - accuracy: 0.8659"
   ]
  },
  {
   "cell_type": "markdown",
   "metadata": {
    "colab_type": "text",
    "id": "tJj5k2MxZga3"
   },
   "source": [
    "## Making the predictions and evaluating the model"
   ]
  },
  {
   "cell_type": "markdown",
   "metadata": {
    "colab_type": "text",
    "id": "84QFoqGYeXHL"
   },
   "source": [
    "### Predicting the result of a single observation"
   ]
  },
  {
   "cell_type": "markdown",
   "metadata": {
    "colab_type": "text",
    "id": "wGjx94g2n7OV"
   },
   "source": [
    "Therefore, our ANN model predicts that this customer stays in the bank!\n",
    "\n",
    "**Important note 1:** Notice that the values of the features were all input in a double pair of square brackets. That's because the \"predict\" method always expects a 2D array as the format of its inputs. And putting our values into a double pair of square brackets makes the input exactly a 2D array.\n",
    "\n",
    "**Important note 2:** Notice also that the \"France\" country was not input as a string in the last column but as \"1, 0, 0\" in the first three columns. That's because of course the predict method expects the one-hot-encoded values of the state, and as we see in the first row of the matrix of features X, \"France\" was encoded as \"1, 0, 0\". And be careful to include these values in the first three columns, because the dummy variables are always created in the first columns.\n",
    "\n",
    "Use our ANN model to predict if the customer with the following informations will leave the bank: \n",
    "\n",
    "* Geography: France \n",
    "* Credit Score: 600\n",
    "* Gender: Male\n",
    "* Age: 40 years old\n",
    "* Tenure: 3 years\n",
    "* Balance: \\$ 60000, \n",
    "* Number of Products: 2, \n",
    "* Does this customer have a credit card ? Yes\n",
    "* Is this customer an Active Member: Yes\n",
    "* Estimated Salary: \\$ 50000\n",
    "\n",
    "So, should we say goodbye to that customer ?"
   ]
  },
  {
   "cell_type": "markdown",
   "metadata": {},
   "source": [
    "* Assumption: Threshold Probability = 0.5\n",
    "* Less than 0.5 = False. The person will not leave the bank\n",
    "* More than 0.5 = True. The person will leave the bank"
   ]
  },
  {
   "cell_type": "code",
   "execution_count": 39,
   "metadata": {},
   "outputs": [
    {
     "name": "stdout",
     "output_type": "stream",
     "text": [
      "[[False]]\n"
     ]
    }
   ],
   "source": [
    "print(ann.predict(sc.transform([[1, 0, 0, 600, 1, 40, 3, 60000, 2, 1, 1, 50000]])) > 0.5)"
   ]
  },
  {
   "cell_type": "code",
   "execution_count": 40,
   "metadata": {},
   "outputs": [
    {
     "name": "stdout",
     "output_type": "stream",
     "text": [
      "[[0.07359219]]\n"
     ]
    }
   ],
   "source": [
    "print(ann.predict(sc.transform([[1, 0, 0, 600, 1, 40, 3, 60000, 2, 1, 1, 50000]])))"
   ]
  },
  {
   "cell_type": "markdown",
   "metadata": {},
   "source": [
    "* Geography: Spain ---> [0,1,0]\n",
    "* Credit Score: 750\n",
    "* Gender: Female\n",
    "* Age: 35 years old\n",
    "* Tenure: 10 years\n",
    "* Balance: \\$ 70000, \n",
    "* Number of Products: 4, \n",
    "* Does this customer have a credit card ? Yes\n",
    "* Is this customer an Active Member: No\n",
    "* Estimated Salary: \\$ 50000"
   ]
  },
  {
   "cell_type": "code",
   "execution_count": 36,
   "metadata": {
    "colab_type": "text",
    "id": "CGRo3eacgDdC",
    "tags": []
   },
   "outputs": [
    {
     "name": "stdout",
     "output_type": "stream",
     "text": [
      "[[ True]]\n"
     ]
    }
   ],
   "source": [
    "print(ann.predict(sc.transform([[0, 1, 0, 750, 1, 35, 10, 70000, 4, 1, 0, 50000]])) > 0.5)"
   ]
  },
  {
   "cell_type": "code",
   "execution_count": 41,
   "metadata": {},
   "outputs": [
    {
     "name": "stdout",
     "output_type": "stream",
     "text": [
      "[[0.8739985]]\n"
     ]
    }
   ],
   "source": [
    "print(ann.predict(sc.transform([[0, 1, 0, 750, 1, 35, 10, 70000, 4, 1, 0, 50000]])))"
   ]
  },
  {
   "cell_type": "markdown",
   "metadata": {
    "colab_type": "text",
    "id": "u7yx47jPZt11"
   },
   "source": [
    "### Predicting the Test set results"
   ]
  },
  {
   "cell_type": "code",
   "execution_count": 19,
   "metadata": {
    "colab": {
     "base_uri": "https://localhost:8080/",
     "height": 137
    },
    "colab_type": "code",
    "id": "nIyEeQdRZwgs",
    "outputId": "82330ba8-9bdc-4fd1-d3cf-b6d78ee7c2a3"
   },
   "outputs": [
    {
     "name": "stdout",
     "output_type": "stream",
     "text": [
      "[[0 0]\n",
      " [0 1]\n",
      " [0 0]\n",
      " ...\n",
      " [0 0]\n",
      " [0 0]\n",
      " [0 0]]\n"
     ]
    }
   ],
   "source": [
    "y_pred = ann.predict(x_test)\n",
    "y_pred = (y_pred > 0.5)\n",
    "print(np.concatenate((y_pred.reshape(len(y_pred),1), y_test.reshape(len(y_test),1)),1))"
   ]
  },
  {
   "cell_type": "markdown",
   "metadata": {
    "colab_type": "text",
    "id": "o0oyfLWoaEGw"
   },
   "source": [
    "### Making the Confusion Matrix"
   ]
  },
  {
   "cell_type": "code",
   "execution_count": 20,
   "metadata": {
    "colab": {
     "base_uri": "https://localhost:8080/",
     "height": 68
    },
    "colab_type": "code",
    "id": "ci6K_r6LaF6P",
    "outputId": "4d854e9e-22d5-432f-f6e5-a102fe3ae0bd"
   },
   "outputs": [
    {
     "name": "stdout",
     "output_type": "stream",
     "text": [
      "[[1500   95]\n",
      " [ 183  222]]\n"
     ]
    },
    {
     "data": {
      "text/plain": [
       "0.861"
      ]
     },
     "execution_count": 20,
     "metadata": {},
     "output_type": "execute_result"
    }
   ],
   "source": [
    "from sklearn.metrics import confusion_matrix, accuracy_score\n",
    "cm = confusion_matrix(y_test, y_pred)\n",
    "print(cm)\n",
    "accuracy_score(y_test, y_pred)"
   ]
  },
  {
   "cell_type": "code",
   "execution_count": 49,
   "metadata": {},
   "outputs": [
    {
     "data": {
      "image/png": "[encoded data removed]",
      "text/plain": [
       "<Figure size 360x360 with 1 Axes>"
      ]
     },
     "metadata": {},
     "output_type": "display_data"
    }
   ],
   "source": [
    "import matplotlib.pyplot as plt\n",
    "def plot_conf_mat(conf_mat):\n",
    "    \"\"\"\n",
    "    Function that Plots a confusion matrix using seaborn's heatmap()\n",
    "    \"\"\"\n",
    "    fig, ax = plt.subplots(figsize = (5,5))\n",
    "    ax = sns.heatmap(conf_mat, annot=True, cbar = False, cmap=\"Greens\")\n",
    "    plt.xlabel(\"True label\")\n",
    "    plt.ylabel(\"Predicted label\");\n",
    "    \n",
    "plot_conf_mat(cm)"
   ]
  },
  {
   "cell_type": "code",
   "execution_count": null,
   "metadata": {},
   "outputs": [],
   "source": []
  },
  {
   "cell_type": "code",
   "execution_count": null,
   "metadata": {},
   "outputs": [],
   "source": []
  },
  {
   "cell_type": "code",
   "execution_count": null,
   "metadata": {},
   "outputs": [],
   "source": []
  },
  {
   "cell_type": "code",
   "execution_count": null,
   "metadata": {},
   "outputs": [],
   "source": []
  },
  {
   "cell_type": "code",
   "execution_count": null,
   "metadata": {},
   "outputs": [],
   "source": []
  }
 ],
 "metadata": {
  "colab": {
   "collapsed_sections": [],
   "name": "artificial_neural_network.ipynb",
   "provenance": [],
   "toc_visible": true
  },
  "kernelspec": {
   "display_name": "Python 3",
   "language": "python",
   "name": "python3"
  },
  "language_info": {
   "codemirror_mode": {
    "name": "ipython",
    "version": 3
   },
   "file_extension": ".py",
   "mimetype": "text/x-python",
   "name": "python",
   "nbconvert_exporter": "python",
   "pygments_lexer": "ipython3",
   "version": "3.8.10"
  }
 },
 "nbformat": 4,
 "nbformat_minor": 4
}
