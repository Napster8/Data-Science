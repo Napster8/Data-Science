{
 "cells": [
  {
   "cell_type": "markdown",
   "id": "609f9d2d-3c92-4959-98e0-46397807a644",
   "metadata": {},
   "source": [
    "# Age as a Risk Factor of COVID-19 Mortality in the Philippines\n",
    "\n",
    "Dataset Source: https://www.kaggle.com/saurabhshahane/covid19-age-risk-factor\n",
    "\n",
    "Excel dataset with the following columns: Case No., Age, Sex, Nationality, Status, Transmission. \n",
    "\n",
    "Data were extracted from https://endcov.ph/cases/\n",
    "\n",
    "<b> Acknowledgements </b>\n",
    "\n",
    "Medina, Michael Arieh (2020), “Data for: Age as a Risk Factor of COVID-19 Mortality in the Philippines”, Mendeley Data, V2, doi: 10.17632/gxxnmgcfnd.2\n",
    "\n",
    "`Brief Disclaimer:` It is to be noted here that this study was only meant for educational purposes. The conclusions or observations drawn were not meant to hurt any nationality, any individual, group.\n",
    "\n",
    "<b> Question: Given the age, find out the chances of recovery. </b>"
   ]
  },
  {
   "cell_type": "markdown",
   "id": "b291f6c3-a687-4c14-8b4b-a6ea1f81197a",
   "metadata": {},
   "source": [
    "## Dependencies or Libraries\n",
    "\n",
    "- Importing useful libraries like numpy, pandas, matplotlib and seaborn\n",
    "- `% matplotlib` is a magic function that renders the figure in a notebook (instead of displaying a dump of the figure object)."
   ]
  },
  {
   "cell_type": "code",
   "execution_count": 1,
   "id": "c8883398-4922-488e-9cfd-d9508d290a01",
   "metadata": {},
   "outputs": [],
   "source": [
    "import numpy as np\n",
    "import pandas as pd\n",
    "import matplotlib.pyplot as plt\n",
    "%matplotlib inline\n",
    "import seaborn as sns"
   ]
  },
  {
   "cell_type": "markdown",
   "id": "5eecefc4-4169-4f43-956b-43b899bf9b66",
   "metadata": {},
   "source": [
    "<b> Side note:</b>  The dataset was in \"dataset`.xlsx`\" format which was converted to \"dataset`.csv`\". Importing CSV files can be much faster, and it also consumes less memory."
   ]
  },
  {
   "cell_type": "code",
   "execution_count": 2,
   "id": "225115dc-d633-4479-b835-41c6a74be4b8",
   "metadata": {},
   "outputs": [
    {
     "data": {
      "text/html": [
       "<div>\n",
       "<style scoped>\n",
       "    .dataframe tbody tr th:only-of-type {\n",
       "        vertical-align: middle;\n",
       "    }\n",
       "\n",
       "    .dataframe tbody tr th {\n",
       "        vertical-align: top;\n",
       "    }\n",
       "\n",
       "    .dataframe thead th {\n",
       "        text-align: right;\n",
       "    }\n",
       "</style>\n",
       "<table border=\"1\" class=\"dataframe\">\n",
       "  <thead>\n",
       "    <tr style=\"text-align: right;\">\n",
       "      <th></th>\n",
       "      <th>Case</th>\n",
       "      <th>Age</th>\n",
       "      <th>Sex</th>\n",
       "      <th>Nationality</th>\n",
       "      <th>Status</th>\n",
       "      <th>Transmission</th>\n",
       "    </tr>\n",
       "  </thead>\n",
       "  <tbody>\n",
       "    <tr>\n",
       "      <th>0</th>\n",
       "      <td>PH1</td>\n",
       "      <td>38</td>\n",
       "      <td>Female</td>\n",
       "      <td>Chinese</td>\n",
       "      <td>Recovered</td>\n",
       "      <td>Imported</td>\n",
       "    </tr>\n",
       "    <tr>\n",
       "      <th>1</th>\n",
       "      <td>PH2</td>\n",
       "      <td>44</td>\n",
       "      <td>Male</td>\n",
       "      <td>Chinese</td>\n",
       "      <td>Deceased</td>\n",
       "      <td>Imported</td>\n",
       "    </tr>\n",
       "    <tr>\n",
       "      <th>2</th>\n",
       "      <td>PH3</td>\n",
       "      <td>60</td>\n",
       "      <td>Female</td>\n",
       "      <td>Chinese</td>\n",
       "      <td>Recovered</td>\n",
       "      <td>Imported</td>\n",
       "    </tr>\n",
       "    <tr>\n",
       "      <th>3</th>\n",
       "      <td>PH4</td>\n",
       "      <td>48</td>\n",
       "      <td>Male</td>\n",
       "      <td>Filipino</td>\n",
       "      <td>Recovered</td>\n",
       "      <td>Imported</td>\n",
       "    </tr>\n",
       "    <tr>\n",
       "      <th>4</th>\n",
       "      <td>PH5</td>\n",
       "      <td>62</td>\n",
       "      <td>Male</td>\n",
       "      <td>Filipino</td>\n",
       "      <td>Deceased</td>\n",
       "      <td>Local</td>\n",
       "    </tr>\n",
       "  </tbody>\n",
       "</table>\n",
       "</div>"
      ],
      "text/plain": [
       "  Case  Age     Sex Nationality     Status Transmission\n",
       "0  PH1   38  Female     Chinese  Recovered     Imported\n",
       "1  PH2   44    Male     Chinese   Deceased     Imported\n",
       "2  PH3   60  Female     Chinese  Recovered     Imported\n",
       "3  PH4   48    Male    Filipino  Recovered     Imported\n",
       "4  PH5   62    Male    Filipino   Deceased        Local"
      ]
     },
     "execution_count": 2,
     "metadata": {},
     "output_type": "execute_result"
    }
   ],
   "source": [
    "# importing the dataset into pandas dataframe(df) to understand its contents\n",
    "\n",
    "df = pd.read_csv('dataset.csv')\n",
    "df.head()"
   ]
  },
  {
   "cell_type": "code",
   "execution_count": 3,
   "id": "7e923f4e-8de1-4377-8d2f-ff6d1e0d0c29",
   "metadata": {},
   "outputs": [
    {
     "data": {
      "text/html": [
       "<div>\n",
       "<style scoped>\n",
       "    .dataframe tbody tr th:only-of-type {\n",
       "        vertical-align: middle;\n",
       "    }\n",
       "\n",
       "    .dataframe tbody tr th {\n",
       "        vertical-align: top;\n",
       "    }\n",
       "\n",
       "    .dataframe thead th {\n",
       "        text-align: right;\n",
       "    }\n",
       "</style>\n",
       "<table border=\"1\" class=\"dataframe\">\n",
       "  <thead>\n",
       "    <tr style=\"text-align: right;\">\n",
       "      <th></th>\n",
       "      <th>Case</th>\n",
       "      <th>Age</th>\n",
       "      <th>Sex</th>\n",
       "      <th>Nationality</th>\n",
       "      <th>Transmission</th>\n",
       "      <th>Status</th>\n",
       "    </tr>\n",
       "  </thead>\n",
       "  <tbody>\n",
       "    <tr>\n",
       "      <th>0</th>\n",
       "      <td>PH1</td>\n",
       "      <td>38</td>\n",
       "      <td>Female</td>\n",
       "      <td>Chinese</td>\n",
       "      <td>Imported</td>\n",
       "      <td>Recovered</td>\n",
       "    </tr>\n",
       "    <tr>\n",
       "      <th>1</th>\n",
       "      <td>PH2</td>\n",
       "      <td>44</td>\n",
       "      <td>Male</td>\n",
       "      <td>Chinese</td>\n",
       "      <td>Imported</td>\n",
       "      <td>Deceased</td>\n",
       "    </tr>\n",
       "    <tr>\n",
       "      <th>2</th>\n",
       "      <td>PH3</td>\n",
       "      <td>60</td>\n",
       "      <td>Female</td>\n",
       "      <td>Chinese</td>\n",
       "      <td>Imported</td>\n",
       "      <td>Recovered</td>\n",
       "    </tr>\n",
       "    <tr>\n",
       "      <th>3</th>\n",
       "      <td>PH4</td>\n",
       "      <td>48</td>\n",
       "      <td>Male</td>\n",
       "      <td>Filipino</td>\n",
       "      <td>Imported</td>\n",
       "      <td>Recovered</td>\n",
       "    </tr>\n",
       "    <tr>\n",
       "      <th>4</th>\n",
       "      <td>PH5</td>\n",
       "      <td>62</td>\n",
       "      <td>Male</td>\n",
       "      <td>Filipino</td>\n",
       "      <td>Local</td>\n",
       "      <td>Deceased</td>\n",
       "    </tr>\n",
       "  </tbody>\n",
       "</table>\n",
       "</div>"
      ],
      "text/plain": [
       "  Case  Age     Sex Nationality Transmission     Status\n",
       "0  PH1   38  Female     Chinese     Imported  Recovered\n",
       "1  PH2   44    Male     Chinese     Imported   Deceased\n",
       "2  PH3   60  Female     Chinese     Imported  Recovered\n",
       "3  PH4   48    Male    Filipino     Imported  Recovered\n",
       "4  PH5   62    Male    Filipino        Local   Deceased"
      ]
     },
     "execution_count": 3,
     "metadata": {},
     "output_type": "execute_result"
    }
   ],
   "source": [
    "df = df.reindex(columns=['Case', 'Age', 'Sex', 'Nationality', 'Transmission', 'Status'])\n",
    "df.head()"
   ]
  },
  {
   "cell_type": "markdown",
   "id": "fb654e9c-e73d-4610-a394-a03b044e700d",
   "metadata": {},
   "source": [
    "## Data Exploration"
   ]
  },
  {
   "cell_type": "code",
   "execution_count": 4,
   "id": "46c230ce-c2fa-4dfa-a3fc-c2afceeb8e9b",
   "metadata": {},
   "outputs": [
    {
     "data": {
      "text/plain": [
       "Case            0\n",
       "Age             0\n",
       "Sex             0\n",
       "Nationality     0\n",
       "Transmission    0\n",
       "Status          0\n",
       "dtype: int64"
      ]
     },
     "execution_count": 4,
     "metadata": {},
     "output_type": "execute_result"
    }
   ],
   "source": [
    "# Checking for null values in the dataset\n",
    "\n",
    "df.isna().sum()"
   ]
  },
  {
   "cell_type": "code",
   "execution_count": 5,
   "id": "b5664cf2-afe3-4f92-99c2-6be733eb4c0b",
   "metadata": {},
   "outputs": [
    {
     "data": {
      "text/plain": [
       "143"
      ]
     },
     "execution_count": 5,
     "metadata": {},
     "output_type": "execute_result"
    }
   ],
   "source": [
    "# How many samples?\n",
    "len(df)"
   ]
  },
  {
   "cell_type": "code",
   "execution_count": 6,
   "id": "18e20656-7edd-4452-b252-d2de7551a67b",
   "metadata": {},
   "outputs": [
    {
     "data": {
      "text/plain": [
       "Case            object\n",
       "Age              int64\n",
       "Sex             object\n",
       "Nationality     object\n",
       "Transmission    object\n",
       "Status          object\n",
       "dtype: object"
      ]
     },
     "execution_count": 6,
     "metadata": {},
     "output_type": "execute_result"
    }
   ],
   "source": [
    "df.dtypes"
   ]
  },
  {
   "cell_type": "code",
   "execution_count": 7,
   "id": "d78ce5e0-7372-4ec6-97f4-a8f355d5bd42",
   "metadata": {},
   "outputs": [
    {
     "name": "stdout",
     "output_type": "stream",
     "text": [
      "Filipino              127\n",
      "None                    7\n",
      "Chinese                 3\n",
      "American                3\n",
      "British                 2\n",
      "Chinese, Taiwanese      1\n",
      "Name: Nationality, dtype: int64\n"
     ]
    }
   ],
   "source": [
    "print(df['Nationality'].value_counts())"
   ]
  },
  {
   "cell_type": "markdown",
   "id": "8ecef9e5-9812-4fca-9965-4910bd946923",
   "metadata": {},
   "source": [
    "- To simplify the computation, we need to simplify the cardinality of the Nationality feature. So we classify the data into two categories\n",
    "\n",
    "- Filipino and Others"
   ]
  },
  {
   "cell_type": "code",
   "execution_count": 8,
   "id": "9647c8cb-d0d1-4236-aa01-7fe70539f31c",
   "metadata": {},
   "outputs": [
    {
     "data": {
      "text/html": [
       "<div>\n",
       "<style scoped>\n",
       "    .dataframe tbody tr th:only-of-type {\n",
       "        vertical-align: middle;\n",
       "    }\n",
       "\n",
       "    .dataframe tbody tr th {\n",
       "        vertical-align: top;\n",
       "    }\n",
       "\n",
       "    .dataframe thead th {\n",
       "        text-align: right;\n",
       "    }\n",
       "</style>\n",
       "<table border=\"1\" class=\"dataframe\">\n",
       "  <thead>\n",
       "    <tr style=\"text-align: right;\">\n",
       "      <th></th>\n",
       "      <th>Case</th>\n",
       "      <th>Age</th>\n",
       "      <th>Sex</th>\n",
       "      <th>Nationality</th>\n",
       "      <th>Transmission</th>\n",
       "      <th>Status</th>\n",
       "    </tr>\n",
       "  </thead>\n",
       "  <tbody>\n",
       "    <tr>\n",
       "      <th>0</th>\n",
       "      <td>PH1</td>\n",
       "      <td>38</td>\n",
       "      <td>Female</td>\n",
       "      <td>Others</td>\n",
       "      <td>Imported</td>\n",
       "      <td>Recovered</td>\n",
       "    </tr>\n",
       "    <tr>\n",
       "      <th>1</th>\n",
       "      <td>PH2</td>\n",
       "      <td>44</td>\n",
       "      <td>Male</td>\n",
       "      <td>Others</td>\n",
       "      <td>Imported</td>\n",
       "      <td>Deceased</td>\n",
       "    </tr>\n",
       "    <tr>\n",
       "      <th>2</th>\n",
       "      <td>PH3</td>\n",
       "      <td>60</td>\n",
       "      <td>Female</td>\n",
       "      <td>Others</td>\n",
       "      <td>Imported</td>\n",
       "      <td>Recovered</td>\n",
       "    </tr>\n",
       "    <tr>\n",
       "      <th>3</th>\n",
       "      <td>PH4</td>\n",
       "      <td>48</td>\n",
       "      <td>Male</td>\n",
       "      <td>Filipino</td>\n",
       "      <td>Imported</td>\n",
       "      <td>Recovered</td>\n",
       "    </tr>\n",
       "    <tr>\n",
       "      <th>4</th>\n",
       "      <td>PH5</td>\n",
       "      <td>62</td>\n",
       "      <td>Male</td>\n",
       "      <td>Filipino</td>\n",
       "      <td>Local</td>\n",
       "      <td>Deceased</td>\n",
       "    </tr>\n",
       "    <tr>\n",
       "      <th>...</th>\n",
       "      <td>...</td>\n",
       "      <td>...</td>\n",
       "      <td>...</td>\n",
       "      <td>...</td>\n",
       "      <td>...</td>\n",
       "      <td>...</td>\n",
       "    </tr>\n",
       "    <tr>\n",
       "      <th>138</th>\n",
       "      <td>PH1488</td>\n",
       "      <td>60</td>\n",
       "      <td>Male</td>\n",
       "      <td>Others</td>\n",
       "      <td>Local</td>\n",
       "      <td>Deceased</td>\n",
       "    </tr>\n",
       "    <tr>\n",
       "      <th>139</th>\n",
       "      <td>PH1489</td>\n",
       "      <td>74</td>\n",
       "      <td>Male</td>\n",
       "      <td>Filipino</td>\n",
       "      <td>Local</td>\n",
       "      <td>Deceased</td>\n",
       "    </tr>\n",
       "    <tr>\n",
       "      <th>140</th>\n",
       "      <td>PH1508</td>\n",
       "      <td>72</td>\n",
       "      <td>Female</td>\n",
       "      <td>Filipino</td>\n",
       "      <td>Local</td>\n",
       "      <td>Deceased</td>\n",
       "    </tr>\n",
       "    <tr>\n",
       "      <th>141</th>\n",
       "      <td>PH1811</td>\n",
       "      <td>66</td>\n",
       "      <td>Male</td>\n",
       "      <td>Filipino</td>\n",
       "      <td>Local</td>\n",
       "      <td>Deceased</td>\n",
       "    </tr>\n",
       "    <tr>\n",
       "      <th>142</th>\n",
       "      <td>PH2045</td>\n",
       "      <td>60</td>\n",
       "      <td>Male</td>\n",
       "      <td>Filipino</td>\n",
       "      <td>Local</td>\n",
       "      <td>Deceased</td>\n",
       "    </tr>\n",
       "  </tbody>\n",
       "</table>\n",
       "<p>143 rows × 6 columns</p>\n",
       "</div>"
      ],
      "text/plain": [
       "       Case  Age     Sex Nationality Transmission     Status\n",
       "0       PH1   38  Female      Others     Imported  Recovered\n",
       "1       PH2   44    Male      Others     Imported   Deceased\n",
       "2       PH3   60  Female      Others     Imported  Recovered\n",
       "3       PH4   48    Male    Filipino     Imported  Recovered\n",
       "4       PH5   62    Male    Filipino        Local   Deceased\n",
       "..      ...  ...     ...         ...          ...        ...\n",
       "138  PH1488   60    Male      Others        Local   Deceased\n",
       "139  PH1489   74    Male    Filipino        Local   Deceased\n",
       "140  PH1508   72  Female    Filipino        Local   Deceased\n",
       "141  PH1811   66    Male    Filipino        Local   Deceased\n",
       "142  PH2045   60    Male    Filipino        Local   Deceased\n",
       "\n",
       "[143 rows x 6 columns]"
      ]
     },
     "execution_count": 8,
     "metadata": {},
     "output_type": "execute_result"
    }
   ],
   "source": [
    "df = df.replace(['None'],'Others')\n",
    "df = df.replace(['Chinese'],'Others')\n",
    "df = df.replace(['American'],'Others')\n",
    "df = df.replace(['British'],'Others')\n",
    "df = df.replace(['Chinese, Taiwanese'],'Others')\n",
    "df"
   ]
  },
  {
   "cell_type": "code",
   "execution_count": 9,
   "id": "7f7c34ab-5789-4e40-a79f-84be2f7053a0",
   "metadata": {},
   "outputs": [
    {
     "name": "stdout",
     "output_type": "stream",
     "text": [
      "Filipino    127\n",
      "Others       16\n",
      "Name: Nationality, dtype: int64\n"
     ]
    }
   ],
   "source": [
    "print(df['Nationality'].value_counts())"
   ]
  },
  {
   "cell_type": "code",
   "execution_count": 10,
   "id": "4d23e343-8079-429e-b491-5a1d34d19284",
   "metadata": {},
   "outputs": [
    {
     "data": {
      "text/html": [
       "<div>\n",
       "<style scoped>\n",
       "    .dataframe tbody tr th:only-of-type {\n",
       "        vertical-align: middle;\n",
       "    }\n",
       "\n",
       "    .dataframe tbody tr th {\n",
       "        vertical-align: top;\n",
       "    }\n",
       "\n",
       "    .dataframe thead th {\n",
       "        text-align: right;\n",
       "    }\n",
       "</style>\n",
       "<table border=\"1\" class=\"dataframe\">\n",
       "  <thead>\n",
       "    <tr style=\"text-align: right;\">\n",
       "      <th></th>\n",
       "      <th>Case</th>\n",
       "      <th>Age</th>\n",
       "      <th>Sex</th>\n",
       "      <th>Nationality</th>\n",
       "      <th>Transmission</th>\n",
       "      <th>Status</th>\n",
       "    </tr>\n",
       "  </thead>\n",
       "  <tbody>\n",
       "    <tr>\n",
       "      <th>0</th>\n",
       "      <td>PH1</td>\n",
       "      <td>38</td>\n",
       "      <td>Female</td>\n",
       "      <td>Others</td>\n",
       "      <td>Imported</td>\n",
       "      <td>Recovered</td>\n",
       "    </tr>\n",
       "    <tr>\n",
       "      <th>1</th>\n",
       "      <td>PH2</td>\n",
       "      <td>44</td>\n",
       "      <td>Male</td>\n",
       "      <td>Others</td>\n",
       "      <td>Imported</td>\n",
       "      <td>Deceased</td>\n",
       "    </tr>\n",
       "    <tr>\n",
       "      <th>2</th>\n",
       "      <td>PH3</td>\n",
       "      <td>60</td>\n",
       "      <td>Female</td>\n",
       "      <td>Others</td>\n",
       "      <td>Imported</td>\n",
       "      <td>Recovered</td>\n",
       "    </tr>\n",
       "    <tr>\n",
       "      <th>3</th>\n",
       "      <td>PH4</td>\n",
       "      <td>48</td>\n",
       "      <td>Male</td>\n",
       "      <td>Filipino</td>\n",
       "      <td>Imported</td>\n",
       "      <td>Recovered</td>\n",
       "    </tr>\n",
       "    <tr>\n",
       "      <th>4</th>\n",
       "      <td>PH5</td>\n",
       "      <td>62</td>\n",
       "      <td>Male</td>\n",
       "      <td>Filipino</td>\n",
       "      <td>Local</td>\n",
       "      <td>Deceased</td>\n",
       "    </tr>\n",
       "  </tbody>\n",
       "</table>\n",
       "</div>"
      ],
      "text/plain": [
       "  Case  Age     Sex Nationality Transmission     Status\n",
       "0  PH1   38  Female      Others     Imported  Recovered\n",
       "1  PH2   44    Male      Others     Imported   Deceased\n",
       "2  PH3   60  Female      Others     Imported  Recovered\n",
       "3  PH4   48    Male    Filipino     Imported  Recovered\n",
       "4  PH5   62    Male    Filipino        Local   Deceased"
      ]
     },
     "execution_count": 10,
     "metadata": {},
     "output_type": "execute_result"
    }
   ],
   "source": [
    "df.head()"
   ]
  },
  {
   "cell_type": "code",
   "execution_count": 11,
   "id": "4da7c576-25f2-4fa7-a283-e3e5282c89f4",
   "metadata": {},
   "outputs": [
    {
     "name": "stdout",
     "output_type": "stream",
     "text": [
      "Male      101\n",
      "Female     42\n",
      "Name: Sex, dtype: int64\n"
     ]
    }
   ],
   "source": [
    "print(df['Sex'].value_counts())"
   ]
  },
  {
   "cell_type": "code",
   "execution_count": 12,
   "id": "33c891e7-89a0-4690-816f-8950ea54975d",
   "metadata": {},
   "outputs": [
    {
     "data": {
      "image/png": "[encoded data removed]",
      "text/plain": [
       "<Figure size 432x288 with 1 Axes>"
      ]
     },
     "metadata": {
      "needs_background": "light"
     },
     "output_type": "display_data"
    }
   ],
   "source": [
    "sns.scatterplot(x = df.Status, y = df.Age, data = df);"
   ]
  },
  {
   "cell_type": "code",
   "execution_count": 13,
   "id": "19cf4c35-0c54-4eb4-9faf-45e5b99bd0a4",
   "metadata": {},
   "outputs": [
    {
     "name": "stdout",
     "output_type": "stream",
     "text": [
      "Deceased     93\n",
      "Recovered    50\n",
      "Name: Status, dtype: int64\n"
     ]
    }
   ],
   "source": [
    "print(df['Status'].value_counts())"
   ]
  },
  {
   "cell_type": "code",
   "execution_count": 14,
   "id": "11778a88-eaaa-4436-9767-798b6e439e5e",
   "metadata": {},
   "outputs": [
    {
     "name": "stdout",
     "output_type": "stream",
     "text": [
      "Local       117\n",
      "Imported     26\n",
      "Name: Transmission, dtype: int64\n"
     ]
    }
   ],
   "source": [
    "print(df['Transmission'].value_counts())"
   ]
  },
  {
   "cell_type": "code",
   "execution_count": 15,
   "id": "f0ec1fec-06b1-4efe-bf6a-2c6bc7c0d8fa",
   "metadata": {},
   "outputs": [
    {
     "name": "stdout",
     "output_type": "stream",
     "text": [
      "<class 'pandas.core.frame.DataFrame'>\n",
      "RangeIndex: 143 entries, 0 to 142\n",
      "Data columns (total 6 columns):\n",
      " #   Column        Non-Null Count  Dtype \n",
      "---  ------        --------------  ----- \n",
      " 0   Case          143 non-null    object\n",
      " 1   Age           143 non-null    int64 \n",
      " 2   Sex           143 non-null    object\n",
      " 3   Nationality   143 non-null    object\n",
      " 4   Transmission  143 non-null    object\n",
      " 5   Status        143 non-null    object\n",
      "dtypes: int64(1), object(5)\n",
      "memory usage: 6.8+ KB\n"
     ]
    }
   ],
   "source": [
    "df.info()"
   ]
  },
  {
   "cell_type": "code",
   "execution_count": 16,
   "id": "19c41196-75f1-4eb3-8385-8ab420590b37",
   "metadata": {},
   "outputs": [
    {
     "data": {
      "image/png": "[encoded data removed]",
      "text/plain": [
       "<Figure size 720x504 with 4 Axes>"
      ]
     },
     "metadata": {},
     "output_type": "display_data"
    }
   ],
   "source": [
    "plt.style.use(\"ggplot\")\n",
    "fig, axes = plt.subplots(2, 2, figsize=(10,7))\n",
    "\n",
    "axes[0,0].set_title(\"Distribution of Age\")\n",
    "axes[0,0].hist(df['Age'], bins=5);\n",
    "axes[0,1].set_title(\"Distribution of Sex\")\n",
    "axes[0,1].hist(df['Sex'], bins=7);\n",
    "axes[1,0].set_title(\"Distribution of Nationality\")\n",
    "axes[1,0].hist(df['Nationality'], bins=5);\n",
    "axes[1,1].set_title(\"Distribution of Transmission\")\n",
    "axes[1,1].hist(df['Transmission'], bins=6);"
   ]
  },
  {
   "cell_type": "code",
   "execution_count": 17,
   "id": "9bf15f16-170c-4371-8838-71bca7b7edb4",
   "metadata": {},
   "outputs": [
    {
     "data": {
      "image/png": "[encoded data removed]",
      "text/plain": [
       "<Figure size 1080x180 with 2 Axes>"
      ]
     },
     "metadata": {},
     "output_type": "display_data"
    }
   ],
   "source": [
    "fig, axs = plt.subplots(1, 2)\n",
    "fig.set_size_inches(15, 2.5)\n",
    "\n",
    "sns.scatterplot(ax = axs[0], x = \"Age\", y =\"Sex\", hue='Status', data = df)\n",
    "axs[0].set_title(\"Age vs Sex\")\n",
    "\n",
    "sns.scatterplot(ax = axs[1], x = \"Age\", y =\"Transmission\", hue='Status', data = df)\n",
    "axs[1].set_title(\"Age vs Transmission\");"
   ]
  },
  {
   "cell_type": "code",
   "execution_count": 18,
   "id": "17f12943-1e6e-4c7a-af7c-3921c8d6d0fd",
   "metadata": {},
   "outputs": [
    {
     "data": {
      "image/png": "[encoded data removed]",
      "text/plain": [
       "<Figure size 432x288 with 1 Axes>"
      ]
     },
     "metadata": {},
     "output_type": "display_data"
    }
   ],
   "source": [
    "sns.scatterplot(x = \"Age\", y =\"Nationality\", hue='Status', data = df);"
   ]
  },
  {
   "cell_type": "markdown",
   "id": "f055d70c-ea37-4727-b8e7-0cc6703e575e",
   "metadata": {},
   "source": [
    "## Dealing with Categorical Variables\n",
    "\n",
    "The text is never understood by machines.\n",
    "\n",
    "There are three common approaches for converting ordinal and categorical variables to numerical values. They are:\n",
    "\n",
    "    1. Ordinal Encoding - Typically used in \"Place\" variables such as \"first\", \"second\" and \"third\". We know 1>2>3. There exists a numerical relationship between the cateogories.\n",
    "    \n",
    "    2. One-Hot Encoding - Typically used in “color” variables with the values: “red“, “green” and “blue“, where there exists no natural relationship between red, green and blue. Red !(=, > or <) Green...\n",
    "    3. Dummy Variable Encoding\n",
    "\n",
    "----------| Nominal  | Ordinal\n",
    "----------|-------- | --------\n",
    "Example| Town 01,02,03.. | Satisfied, neutral, dis-satisfied\n",
    "Example| Male, female | High, medium low\n",
    "Example| Green, blue, red | graduate, masters, phd\n",
    "\n",
    "    * Nominal Variable (Categorical): Variable comprises a finite set of discrete values with no relationship between values.\n",
    "    * Ordinal Variable: Variable comprises a finite set of discrete values with a ranked ordering between values.\n",
    "    \n",
    "![title](Encoding-Map2.png)\n",
    "\n",
    "Source: Feature Labs"
   ]
  },
  {
   "cell_type": "code",
   "execution_count": 19,
   "id": "39084a81-efa4-4d20-8a13-8b14cb2f43fe",
   "metadata": {},
   "outputs": [
    {
     "data": {
      "text/plain": [
       "Case            143\n",
       "Age              57\n",
       "Sex               2\n",
       "Nationality       2\n",
       "Transmission      2\n",
       "Status            2\n",
       "dtype: int64"
      ]
     },
     "execution_count": 19,
     "metadata": {},
     "output_type": "execute_result"
    }
   ],
   "source": [
    "# Cardinality / distinct count for all columns in pandas dataframe\n",
    "\n",
    "df.apply(pd.Series.nunique)"
   ]
  },
  {
   "cell_type": "code",
   "execution_count": 20,
   "id": "4a54be62-90f0-46af-95bc-8e0354542114",
   "metadata": {},
   "outputs": [
    {
     "data": {
      "text/html": [
       "<div>\n",
       "<style scoped>\n",
       "    .dataframe tbody tr th:only-of-type {\n",
       "        vertical-align: middle;\n",
       "    }\n",
       "\n",
       "    .dataframe tbody tr th {\n",
       "        vertical-align: top;\n",
       "    }\n",
       "\n",
       "    .dataframe thead th {\n",
       "        text-align: right;\n",
       "    }\n",
       "</style>\n",
       "<table border=\"1\" class=\"dataframe\">\n",
       "  <thead>\n",
       "    <tr style=\"text-align: right;\">\n",
       "      <th></th>\n",
       "      <th>Case</th>\n",
       "      <th>Age</th>\n",
       "      <th>Sex</th>\n",
       "      <th>Nationality</th>\n",
       "      <th>Transmission</th>\n",
       "      <th>Status</th>\n",
       "    </tr>\n",
       "  </thead>\n",
       "  <tbody>\n",
       "    <tr>\n",
       "      <th>0</th>\n",
       "      <td>PH1</td>\n",
       "      <td>38</td>\n",
       "      <td>Female</td>\n",
       "      <td>Others</td>\n",
       "      <td>Imported</td>\n",
       "      <td>Recovered</td>\n",
       "    </tr>\n",
       "    <tr>\n",
       "      <th>1</th>\n",
       "      <td>PH2</td>\n",
       "      <td>44</td>\n",
       "      <td>Male</td>\n",
       "      <td>Others</td>\n",
       "      <td>Imported</td>\n",
       "      <td>Deceased</td>\n",
       "    </tr>\n",
       "    <tr>\n",
       "      <th>2</th>\n",
       "      <td>PH3</td>\n",
       "      <td>60</td>\n",
       "      <td>Female</td>\n",
       "      <td>Others</td>\n",
       "      <td>Imported</td>\n",
       "      <td>Recovered</td>\n",
       "    </tr>\n",
       "  </tbody>\n",
       "</table>\n",
       "</div>"
      ],
      "text/plain": [
       "  Case  Age     Sex Nationality Transmission     Status\n",
       "0  PH1   38  Female      Others     Imported  Recovered\n",
       "1  PH2   44    Male      Others     Imported   Deceased\n",
       "2  PH3   60  Female      Others     Imported  Recovered"
      ]
     },
     "execution_count": 20,
     "metadata": {},
     "output_type": "execute_result"
    }
   ],
   "source": [
    "df.head(3)"
   ]
  },
  {
   "cell_type": "markdown",
   "id": "5e341982-1ed9-4870-b951-0deeb6c3334a",
   "metadata": {},
   "source": [
    "## Co-Relation Heatmap"
   ]
  },
  {
   "cell_type": "code",
   "execution_count": 21,
   "id": "ecff744c-9830-4eaa-9c52-e00dc63cb9ea",
   "metadata": {},
   "outputs": [
    {
     "data": {
      "text/html": [
       "<div>\n",
       "<style scoped>\n",
       "    .dataframe tbody tr th:only-of-type {\n",
       "        vertical-align: middle;\n",
       "    }\n",
       "\n",
       "    .dataframe tbody tr th {\n",
       "        vertical-align: top;\n",
       "    }\n",
       "\n",
       "    .dataframe thead th {\n",
       "        text-align: right;\n",
       "    }\n",
       "</style>\n",
       "<table border=\"1\" class=\"dataframe\">\n",
       "  <thead>\n",
       "    <tr style=\"text-align: right;\">\n",
       "      <th></th>\n",
       "      <th>Case</th>\n",
       "      <th>Age</th>\n",
       "      <th>Sex</th>\n",
       "      <th>Nationality</th>\n",
       "      <th>Transmission</th>\n",
       "      <th>Status</th>\n",
       "    </tr>\n",
       "  </thead>\n",
       "  <tbody>\n",
       "    <tr>\n",
       "      <th>0</th>\n",
       "      <td>PH1</td>\n",
       "      <td>38</td>\n",
       "      <td>0</td>\n",
       "      <td>0</td>\n",
       "      <td>1</td>\n",
       "      <td>1</td>\n",
       "    </tr>\n",
       "    <tr>\n",
       "      <th>1</th>\n",
       "      <td>PH2</td>\n",
       "      <td>44</td>\n",
       "      <td>1</td>\n",
       "      <td>0</td>\n",
       "      <td>1</td>\n",
       "      <td>0</td>\n",
       "    </tr>\n",
       "    <tr>\n",
       "      <th>2</th>\n",
       "      <td>PH3</td>\n",
       "      <td>60</td>\n",
       "      <td>0</td>\n",
       "      <td>0</td>\n",
       "      <td>1</td>\n",
       "      <td>1</td>\n",
       "    </tr>\n",
       "    <tr>\n",
       "      <th>3</th>\n",
       "      <td>PH4</td>\n",
       "      <td>48</td>\n",
       "      <td>1</td>\n",
       "      <td>1</td>\n",
       "      <td>1</td>\n",
       "      <td>1</td>\n",
       "    </tr>\n",
       "    <tr>\n",
       "      <th>4</th>\n",
       "      <td>PH5</td>\n",
       "      <td>62</td>\n",
       "      <td>1</td>\n",
       "      <td>1</td>\n",
       "      <td>0</td>\n",
       "      <td>0</td>\n",
       "    </tr>\n",
       "  </tbody>\n",
       "</table>\n",
       "</div>"
      ],
      "text/plain": [
       "  Case  Age  Sex  Nationality  Transmission  Status\n",
       "0  PH1   38    0            0             1       1\n",
       "1  PH2   44    1            0             1       0\n",
       "2  PH3   60    0            0             1       1\n",
       "3  PH4   48    1            1             1       1\n",
       "4  PH5   62    1            1             0       0"
      ]
     },
     "execution_count": 21,
     "metadata": {},
     "output_type": "execute_result"
    }
   ],
   "source": [
    "# To find out the co-relation between the features, we need to convert strings to integers\n",
    "# df1 should not be used to feed to the machine learning models as the features nationality, Status, Transmission are all nominal variables.\n",
    "df1 = df.replace(['Female'], 0)\n",
    "df1 = df1.replace(['Male'], 1)\n",
    "\n",
    "df1 = df1.replace(['Others'], 0)\n",
    "df1 = df1.replace(['Filipino'], 1)\n",
    "\n",
    "df1 = df1.replace(['Local'], 0)\n",
    "df1 = df1.replace(['Imported'],1)\n",
    "\n",
    "df1 = df1.replace(['Deceased'], 0)\n",
    "df1 = df1.replace(['Recovered'], 1)\n",
    "df1.head()"
   ]
  },
  {
   "cell_type": "code",
   "execution_count": 22,
   "id": "9f9778e1-2c9d-4ad0-9a3b-3ede5806ce2c",
   "metadata": {},
   "outputs": [
    {
     "name": "stdout",
     "output_type": "stream",
     "text": [
      "1    127\n",
      "0     16\n",
      "Name: Nationality, dtype: int64\n"
     ]
    }
   ],
   "source": [
    "print(df1['Nationality'].value_counts())"
   ]
  },
  {
   "cell_type": "code",
   "execution_count": 23,
   "id": "cdc4392f-1826-4aa8-91a0-321b8fdabb0a",
   "metadata": {},
   "outputs": [
    {
     "data": {
      "image/png": "[encoded data removed]",
      "text/plain": [
       "<Figure size 432x288 with 2 Axes>"
      ]
     },
     "metadata": {},
     "output_type": "display_data"
    }
   ],
   "source": [
    "sns.heatmap(df1.corr(method='pearson'), annot=True, cmap='coolwarm');"
   ]
  },
  {
   "cell_type": "markdown",
   "id": "c669e2e6-cbb5-4c5c-aa91-c61a56f980b4",
   "metadata": {},
   "source": [
    "<b>Initial Observations</b>\n",
    "\n",
    "- The given dataset is not balanced for the feature \"Sex\" as it contains more 'Male'.\n",
    "- The given dataset is not balanced for the feature \"Nationality\" as `Filipino` in the nationality feature dominates.\n",
    "- It seems that more people died than getting recoverd from COVID.\n",
    "- Scatterplot suggests that people who died were beyond the age 30. So, it seems like the chances of getting recovered for the age below 30 is extremely high.\n",
    "- The transmission is more local than imported. \n",
    "- It is also important to explore more about how the data collection was done as the dataset contains more `filipino` data when compared to other nationalities.\n",
    "- Age seems to be ~60% negatively co-related with Status. There is little to no co-relation between any of the pairs except 'Age and Status'"
   ]
  },
  {
   "cell_type": "markdown",
   "id": "9d30628c-56c7-4311-8d4e-4f55b0dc9e61",
   "metadata": {},
   "source": [
    "## Choosing the Right machine learning model"
   ]
  },
  {
   "cell_type": "markdown",
   "id": "f19f24cb-f689-4759-a492-ad15162a4208",
   "metadata": {},
   "source": [
    "Map of choosing the right model: https://scikit-learn.org/stable/tutorial/machine_learning_map/index.html\n",
    "\n",
    "* Are we predicting a category? \n",
    "\n",
    "    * `Yes` Given the age, we are trying to predict if the person will recover or not.\n",
    "\n",
    "* Do we have labeled data?\n",
    "\n",
    "    * `Yes`\n",
    "\n",
    "* Do we have 100k+ samples?\n",
    "\n",
    "Answer: `No`\n",
    "\n",
    "    * Attempt 1: Try Stochastic Gradient Descent (SGD) Classifier"
   ]
  },
  {
   "cell_type": "markdown",
   "id": "41cc95a1-89b6-4b7e-bf54-30497f8f927c",
   "metadata": {},
   "source": [
    "## Model 1 - Ignoring All other features except Age\n",
    "- Dropping case, sex, nationality, transmission\n",
    "- One hot encoding the status"
   ]
  },
  {
   "cell_type": "code",
   "execution_count": 24,
   "id": "44771021-4c79-4849-a84b-206644fa435a",
   "metadata": {},
   "outputs": [
    {
     "data": {
      "text/html": [
       "<div>\n",
       "<style scoped>\n",
       "    .dataframe tbody tr th:only-of-type {\n",
       "        vertical-align: middle;\n",
       "    }\n",
       "\n",
       "    .dataframe tbody tr th {\n",
       "        vertical-align: top;\n",
       "    }\n",
       "\n",
       "    .dataframe thead th {\n",
       "        text-align: right;\n",
       "    }\n",
       "</style>\n",
       "<table border=\"1\" class=\"dataframe\">\n",
       "  <thead>\n",
       "    <tr style=\"text-align: right;\">\n",
       "      <th></th>\n",
       "      <th>Case</th>\n",
       "      <th>Age</th>\n",
       "      <th>Sex</th>\n",
       "      <th>Nationality</th>\n",
       "      <th>Transmission</th>\n",
       "      <th>Status</th>\n",
       "    </tr>\n",
       "  </thead>\n",
       "  <tbody>\n",
       "    <tr>\n",
       "      <th>0</th>\n",
       "      <td>PH1</td>\n",
       "      <td>38</td>\n",
       "      <td>Female</td>\n",
       "      <td>Others</td>\n",
       "      <td>Imported</td>\n",
       "      <td>Recovered</td>\n",
       "    </tr>\n",
       "    <tr>\n",
       "      <th>1</th>\n",
       "      <td>PH2</td>\n",
       "      <td>44</td>\n",
       "      <td>Male</td>\n",
       "      <td>Others</td>\n",
       "      <td>Imported</td>\n",
       "      <td>Deceased</td>\n",
       "    </tr>\n",
       "    <tr>\n",
       "      <th>2</th>\n",
       "      <td>PH3</td>\n",
       "      <td>60</td>\n",
       "      <td>Female</td>\n",
       "      <td>Others</td>\n",
       "      <td>Imported</td>\n",
       "      <td>Recovered</td>\n",
       "    </tr>\n",
       "    <tr>\n",
       "      <th>3</th>\n",
       "      <td>PH4</td>\n",
       "      <td>48</td>\n",
       "      <td>Male</td>\n",
       "      <td>Filipino</td>\n",
       "      <td>Imported</td>\n",
       "      <td>Recovered</td>\n",
       "    </tr>\n",
       "    <tr>\n",
       "      <th>4</th>\n",
       "      <td>PH5</td>\n",
       "      <td>62</td>\n",
       "      <td>Male</td>\n",
       "      <td>Filipino</td>\n",
       "      <td>Local</td>\n",
       "      <td>Deceased</td>\n",
       "    </tr>\n",
       "  </tbody>\n",
       "</table>\n",
       "</div>"
      ],
      "text/plain": [
       "  Case  Age     Sex Nationality Transmission     Status\n",
       "0  PH1   38  Female      Others     Imported  Recovered\n",
       "1  PH2   44    Male      Others     Imported   Deceased\n",
       "2  PH3   60  Female      Others     Imported  Recovered\n",
       "3  PH4   48    Male    Filipino     Imported  Recovered\n",
       "4  PH5   62    Male    Filipino        Local   Deceased"
      ]
     },
     "execution_count": 24,
     "metadata": {},
     "output_type": "execute_result"
    }
   ],
   "source": [
    "df1 = df\n",
    "df1.head()"
   ]
  },
  {
   "cell_type": "code",
   "execution_count": 25,
   "id": "0bc7178b-cbcd-42aa-9bf5-e11d5ba39eba",
   "metadata": {
    "tags": []
   },
   "outputs": [
    {
     "data": {
      "text/html": [
       "<div>\n",
       "<style scoped>\n",
       "    .dataframe tbody tr th:only-of-type {\n",
       "        vertical-align: middle;\n",
       "    }\n",
       "\n",
       "    .dataframe tbody tr th {\n",
       "        vertical-align: top;\n",
       "    }\n",
       "\n",
       "    .dataframe thead th {\n",
       "        text-align: right;\n",
       "    }\n",
       "</style>\n",
       "<table border=\"1\" class=\"dataframe\">\n",
       "  <thead>\n",
       "    <tr style=\"text-align: right;\">\n",
       "      <th></th>\n",
       "      <th>Age</th>\n",
       "      <th>Status</th>\n",
       "    </tr>\n",
       "  </thead>\n",
       "  <tbody>\n",
       "    <tr>\n",
       "      <th>0</th>\n",
       "      <td>38</td>\n",
       "      <td>Recovered</td>\n",
       "    </tr>\n",
       "    <tr>\n",
       "      <th>1</th>\n",
       "      <td>44</td>\n",
       "      <td>Deceased</td>\n",
       "    </tr>\n",
       "    <tr>\n",
       "      <th>2</th>\n",
       "      <td>60</td>\n",
       "      <td>Recovered</td>\n",
       "    </tr>\n",
       "    <tr>\n",
       "      <th>3</th>\n",
       "      <td>48</td>\n",
       "      <td>Recovered</td>\n",
       "    </tr>\n",
       "    <tr>\n",
       "      <th>4</th>\n",
       "      <td>62</td>\n",
       "      <td>Deceased</td>\n",
       "    </tr>\n",
       "  </tbody>\n",
       "</table>\n",
       "</div>"
      ],
      "text/plain": [
       "   Age     Status\n",
       "0   38  Recovered\n",
       "1   44   Deceased\n",
       "2   60  Recovered\n",
       "3   48  Recovered\n",
       "4   62   Deceased"
      ]
     },
     "execution_count": 25,
     "metadata": {},
     "output_type": "execute_result"
    }
   ],
   "source": [
    "df1 = df1.drop('Case', axis = 1)\n",
    "df1 = df1.drop('Sex', axis = 1)\n",
    "df1 = df1.drop('Nationality', axis = 1)\n",
    "df1 = df1.drop('Transmission', axis = 1)\n",
    "df1.head()"
   ]
  },
  {
   "cell_type": "code",
   "execution_count": 26,
   "id": "d5ae45f8-e87b-4b1c-8c81-c786c0942b3f",
   "metadata": {
    "tags": []
   },
   "outputs": [],
   "source": [
    "# Create dummy columns\n",
    "dummies = pd.get_dummies(df1[['Status']])\n",
    "\n",
    "# Merge with dataframe\n",
    "merged_df = pd.concat([df1, dummies], axis = 'columns')\n",
    "\n",
    "# Drop status and deceased column\n",
    "# Simple_df signifies that it is a dataframe of simple model ignoring other features\n",
    "\n",
    "simple_df = merged_df.drop(['Status','Status_Deceased'], axis = 'columns')\n"
   ]
  },
  {
   "cell_type": "code",
   "execution_count": 27,
   "id": "b8c48518-5f0e-4eff-a81e-e14845846226",
   "metadata": {},
   "outputs": [
    {
     "data": {
      "text/html": [
       "<div>\n",
       "<style scoped>\n",
       "    .dataframe tbody tr th:only-of-type {\n",
       "        vertical-align: middle;\n",
       "    }\n",
       "\n",
       "    .dataframe tbody tr th {\n",
       "        vertical-align: top;\n",
       "    }\n",
       "\n",
       "    .dataframe thead th {\n",
       "        text-align: right;\n",
       "    }\n",
       "</style>\n",
       "<table border=\"1\" class=\"dataframe\">\n",
       "  <thead>\n",
       "    <tr style=\"text-align: right;\">\n",
       "      <th></th>\n",
       "      <th>Age</th>\n",
       "      <th>Status</th>\n",
       "      <th>Status_Deceased</th>\n",
       "      <th>Status_Recovered</th>\n",
       "    </tr>\n",
       "  </thead>\n",
       "  <tbody>\n",
       "    <tr>\n",
       "      <th>0</th>\n",
       "      <td>38</td>\n",
       "      <td>Recovered</td>\n",
       "      <td>0</td>\n",
       "      <td>1</td>\n",
       "    </tr>\n",
       "    <tr>\n",
       "      <th>1</th>\n",
       "      <td>44</td>\n",
       "      <td>Deceased</td>\n",
       "      <td>1</td>\n",
       "      <td>0</td>\n",
       "    </tr>\n",
       "    <tr>\n",
       "      <th>2</th>\n",
       "      <td>60</td>\n",
       "      <td>Recovered</td>\n",
       "      <td>0</td>\n",
       "      <td>1</td>\n",
       "    </tr>\n",
       "    <tr>\n",
       "      <th>3</th>\n",
       "      <td>48</td>\n",
       "      <td>Recovered</td>\n",
       "      <td>0</td>\n",
       "      <td>1</td>\n",
       "    </tr>\n",
       "    <tr>\n",
       "      <th>4</th>\n",
       "      <td>62</td>\n",
       "      <td>Deceased</td>\n",
       "      <td>1</td>\n",
       "      <td>0</td>\n",
       "    </tr>\n",
       "  </tbody>\n",
       "</table>\n",
       "</div>"
      ],
      "text/plain": [
       "   Age     Status  Status_Deceased  Status_Recovered\n",
       "0   38  Recovered                0                 1\n",
       "1   44   Deceased                1                 0\n",
       "2   60  Recovered                0                 1\n",
       "3   48  Recovered                0                 1\n",
       "4   62   Deceased                1                 0"
      ]
     },
     "execution_count": 27,
     "metadata": {},
     "output_type": "execute_result"
    }
   ],
   "source": [
    "merged_df.head()"
   ]
  },
  {
   "cell_type": "code",
   "execution_count": 28,
   "id": "78520571-0bfc-41bb-8b25-44924760ef80",
   "metadata": {},
   "outputs": [
    {
     "data": {
      "text/html": [
       "<div>\n",
       "<style scoped>\n",
       "    .dataframe tbody tr th:only-of-type {\n",
       "        vertical-align: middle;\n",
       "    }\n",
       "\n",
       "    .dataframe tbody tr th {\n",
       "        vertical-align: top;\n",
       "    }\n",
       "\n",
       "    .dataframe thead th {\n",
       "        text-align: right;\n",
       "    }\n",
       "</style>\n",
       "<table border=\"1\" class=\"dataframe\">\n",
       "  <thead>\n",
       "    <tr style=\"text-align: right;\">\n",
       "      <th></th>\n",
       "      <th>Age</th>\n",
       "      <th>Status</th>\n",
       "    </tr>\n",
       "  </thead>\n",
       "  <tbody>\n",
       "    <tr>\n",
       "      <th>0</th>\n",
       "      <td>38</td>\n",
       "      <td>1</td>\n",
       "    </tr>\n",
       "    <tr>\n",
       "      <th>1</th>\n",
       "      <td>44</td>\n",
       "      <td>0</td>\n",
       "    </tr>\n",
       "    <tr>\n",
       "      <th>2</th>\n",
       "      <td>60</td>\n",
       "      <td>1</td>\n",
       "    </tr>\n",
       "    <tr>\n",
       "      <th>3</th>\n",
       "      <td>48</td>\n",
       "      <td>1</td>\n",
       "    </tr>\n",
       "    <tr>\n",
       "      <th>4</th>\n",
       "      <td>62</td>\n",
       "      <td>0</td>\n",
       "    </tr>\n",
       "    <tr>\n",
       "      <th>...</th>\n",
       "      <td>...</td>\n",
       "      <td>...</td>\n",
       "    </tr>\n",
       "    <tr>\n",
       "      <th>138</th>\n",
       "      <td>60</td>\n",
       "      <td>0</td>\n",
       "    </tr>\n",
       "    <tr>\n",
       "      <th>139</th>\n",
       "      <td>74</td>\n",
       "      <td>0</td>\n",
       "    </tr>\n",
       "    <tr>\n",
       "      <th>140</th>\n",
       "      <td>72</td>\n",
       "      <td>0</td>\n",
       "    </tr>\n",
       "    <tr>\n",
       "      <th>141</th>\n",
       "      <td>66</td>\n",
       "      <td>0</td>\n",
       "    </tr>\n",
       "    <tr>\n",
       "      <th>142</th>\n",
       "      <td>60</td>\n",
       "      <td>0</td>\n",
       "    </tr>\n",
       "  </tbody>\n",
       "</table>\n",
       "<p>143 rows × 2 columns</p>\n",
       "</div>"
      ],
      "text/plain": [
       "     Age  Status\n",
       "0     38       1\n",
       "1     44       0\n",
       "2     60       1\n",
       "3     48       1\n",
       "4     62       0\n",
       "..   ...     ...\n",
       "138   60       0\n",
       "139   74       0\n",
       "140   72       0\n",
       "141   66       0\n",
       "142   60       0\n",
       "\n",
       "[143 rows x 2 columns]"
      ]
     },
     "execution_count": 28,
     "metadata": {},
     "output_type": "execute_result"
    }
   ],
   "source": [
    "# deceased = 0 and recovered = 1\n",
    "\n",
    "simple_df.rename(columns = {'Status_Recovered':'Status'}, inplace = True)\n",
    "simple_df"
   ]
  },
  {
   "cell_type": "markdown",
   "id": "9e8b296f-6d19-403d-9592-9e5b801cf11c",
   "metadata": {},
   "source": [
    "### SGD Classifier"
   ]
  },
  {
   "cell_type": "code",
   "execution_count": 37,
   "id": "f269335f-8899-4d31-87bb-cbaa2a0c57c4",
   "metadata": {
    "tags": []
   },
   "outputs": [
    {
     "data": {
      "text/plain": [
       "0.7209302325581395"
      ]
     },
     "execution_count": 37,
     "metadata": {},
     "output_type": "execute_result"
    }
   ],
   "source": [
    "from sklearn.linear_model import SGDClassifier\n",
    "np.random.seed(1)\n",
    "\n",
    "# Assign x = age\n",
    "x = simple_df.drop('Status', axis = 1)\n",
    "\n",
    "# Assign y = status (deceased or recovered)\n",
    "y = simple_df.Status\n",
    "\n",
    "# Split the dataset into two parts ( 70 % training set, 30 % testing set)\n",
    "from sklearn.model_selection import train_test_split\n",
    "x_train, x_test, y_train, y_test = train_test_split(x, y, test_size=0.3)\n",
    "\n",
    "sgd = SGDClassifier()\n",
    "sgd.fit(x_train, y_train)\n",
    "\n",
    "# score\n",
    "sgd.score(x_test, y_test)"
   ]
  },
  {
   "cell_type": "markdown",
   "id": "d1bbb850-a960-4be9-8687-9c802c388ea0",
   "metadata": {},
   "source": [
    "#### Confusion Matrix"
   ]
  },
  {
   "cell_type": "code",
   "execution_count": 31,
   "id": "24c8e726-9841-42d4-a86b-73c8d8e9a09d",
   "metadata": {},
   "outputs": [
    {
     "data": {
      "text/plain": [
       "Text(69.0, 0.5, 'Truth')"
      ]
     },
     "execution_count": 31,
     "metadata": {},
     "output_type": "execute_result"
    },
    {
     "data": {
      "image/png": "[encoded data removed]",
      "text/plain": [
       "<Figure size 720x504 with 2 Axes>"
      ]
     },
     "metadata": {},
     "output_type": "display_data"
    }
   ],
   "source": [
    "from sklearn.metrics import confusion_matrix\n",
    "y_predicted = sgd.predict(x_test)\n",
    "cm = confusion_matrix(y_test, y_predicted)\n",
    "\n",
    "plt.figure(figsize=(10,7))\n",
    "sns.heatmap(cm, annot=True)\n",
    "plt.xlabel('Predicted')\n",
    "plt.ylabel('Truth')"
   ]
  },
  {
   "cell_type": "markdown",
   "id": "009f58b2-080e-4bd0-b609-520e9e2e2eea",
   "metadata": {},
   "source": [
    "### Kernel Approximation\n",
    "\n",
    "Radial Basis Function - rbf"
   ]
  },
  {
   "cell_type": "code",
   "execution_count": 57,
   "id": "3d4695df-c618-4b28-803d-2e97776310b9",
   "metadata": {},
   "outputs": [
    {
     "data": {
      "text/plain": [
       "0.627906976744186"
      ]
     },
     "execution_count": 57,
     "metadata": {},
     "output_type": "execute_result"
    }
   ],
   "source": [
    "from sklearn.kernel_approximation import RBFSampler\n",
    "from sklearn.linear_model import SGDClassifier\n",
    "import random\n",
    "random.seed(1)\n",
    "\n",
    "x = simple_df.drop('Status', axis = 1)\n",
    "y = simple_df.Status\n",
    "\n",
    "# Split the dataset into two parts ( 70 % training set, 30 % testing set)\n",
    "# from sklearn.model_selection import train_test_split\n",
    "x_train, x_test, y_train, y_test = train_test_split(x, y, test_size=0.3)\n",
    "\n",
    "rbf_feature = RBFSampler()\n",
    "x_train = rbf_feature.fit_transform(x_train)\n",
    "x_test = rbf_feature.fit_transform(x_test)\n",
    "\n",
    "kernel = SGDClassifier()\n",
    "kernel.fit(x_train, y_train)\n",
    "\n",
    "# score\n",
    "kernel.score(x_test, y_test)"
   ]
  },
  {
   "cell_type": "markdown",
   "id": "205dc7b6-4995-4f68-ab38-e6ab7ed9e4e8",
   "metadata": {},
   "source": [
    "#### Confusion Matrix"
   ]
  },
  {
   "cell_type": "code",
   "execution_count": 36,
   "id": "f12abf00-d38f-4c77-9497-71436eb53657",
   "metadata": {},
   "outputs": [
    {
     "data": {
      "text/plain": [
       "Text(69.0, 0.5, 'Truth')"
      ]
     },
     "execution_count": 36,
     "metadata": {},
     "output_type": "execute_result"
    },
    {
     "data": {
      "image/png": "[encoded data removed]",
      "text/plain": [
       "<Figure size 720x504 with 2 Axes>"
      ]
     },
     "metadata": {},
     "output_type": "display_data"
    }
   ],
   "source": [
    "y_predicted = kernel.predict(x_test)\n",
    "cm = confusion_matrix(y_test, y_predicted)\n",
    "\n",
    "plt.figure(figsize=(10,7))\n",
    "sns.heatmap(cm, annot=True)\n",
    "plt.xlabel('Predicted')\n",
    "plt.ylabel('Truth')"
   ]
  },
  {
   "cell_type": "markdown",
   "id": "4e0342ac-a9be-442e-83bb-c9ce4c553217",
   "metadata": {},
   "source": [
    "### Attempt 3: Random Forest Classifier\n",
    "\n",
    "Random Forest is a `low bias` and `high variance` model. But the majority voting reduces the variance of the model.\n",
    "\n",
    "* Import RandomForestClassifier class\n",
    "* Setup random seeding = 3\n",
    "* Create Feature Matrix (x)\n",
    "* Create Labels (y)\n",
    "* Split the data\n",
    "* Instantiate RandomForestClassifier\n",
    "* Fit the model\n",
    "* Evaluate RandomForestClassifier"
   ]
  },
  {
   "cell_type": "code",
   "execution_count": 52,
   "id": "556551c3-6b7d-46d4-bb9f-01e07c8f8d7a",
   "metadata": {},
   "outputs": [
    {
     "data": {
      "text/plain": [
       "0.6551724137931034"
      ]
     },
     "execution_count": 52,
     "metadata": {},
     "output_type": "execute_result"
    }
   ],
   "source": [
    "from sklearn.ensemble import RandomForestClassifier  \n",
    "np.random.seed(1)\n",
    "\n",
    "x = simple_df.drop('Status', axis = 1)\n",
    "y = simple_df.Status\n",
    "\n",
    "from sklearn.model_selection import train_test_split\n",
    "x_train, x_test, y_train, y_test = train_test_split(x,y,test_size = 0.2)\n",
    "\n",
    "rfc = RandomForestClassifier(n_estimators = 50)\n",
    "rfc.fit(x_train, y_train)\n",
    "\n",
    "\n",
    "rfc.score(x_test, y_test)"
   ]
  },
  {
   "cell_type": "markdown",
   "id": "06f26555-fdca-47c8-8eb3-3a3e4b66375c",
   "metadata": {},
   "source": [
    "#### Confusion Matrix"
   ]
  },
  {
   "cell_type": "code",
   "execution_count": 53,
   "id": "2dd5bf44-f927-462b-afb9-6e22510fd303",
   "metadata": {},
   "outputs": [
    {
     "data": {
      "text/plain": [
       "Text(69.0, 0.5, 'Truth')"
      ]
     },
     "execution_count": 53,
     "metadata": {},
     "output_type": "execute_result"
    },
    {
     "data": {
      "image/png": "[encoded data removed]",
      "text/plain": [
       "<Figure size 720x504 with 2 Axes>"
      ]
     },
     "metadata": {},
     "output_type": "display_data"
    }
   ],
   "source": [
    "y_preds = rfc.predict(x_test)\n",
    "confusion_matrix(y_test, y_preds)\n",
    "\n",
    "plt.figure(figsize=(10,7))\n",
    "sns.heatmap(cm, annot=True)\n",
    "plt.xlabel('Predicted')\n",
    "plt.ylabel('Truth')"
   ]
  },
  {
   "cell_type": "markdown",
   "id": "acd8ba9b-6343-45a7-9c74-bb77c3250fd5",
   "metadata": {},
   "source": [
    "## Model 2 - Including other features"
   ]
  },
  {
   "cell_type": "code",
   "execution_count": 60,
   "id": "9aa8dff0-03ef-4348-b5f2-51448b5df1d9",
   "metadata": {},
   "outputs": [
    {
     "data": {
      "text/html": [
       "<div>\n",
       "<style scoped>\n",
       "    .dataframe tbody tr th:only-of-type {\n",
       "        vertical-align: middle;\n",
       "    }\n",
       "\n",
       "    .dataframe tbody tr th {\n",
       "        vertical-align: top;\n",
       "    }\n",
       "\n",
       "    .dataframe thead th {\n",
       "        text-align: right;\n",
       "    }\n",
       "</style>\n",
       "<table border=\"1\" class=\"dataframe\">\n",
       "  <thead>\n",
       "    <tr style=\"text-align: right;\">\n",
       "      <th></th>\n",
       "      <th>Case</th>\n",
       "      <th>Age</th>\n",
       "      <th>Sex</th>\n",
       "      <th>Nationality</th>\n",
       "      <th>Transmission</th>\n",
       "      <th>Status</th>\n",
       "    </tr>\n",
       "  </thead>\n",
       "  <tbody>\n",
       "    <tr>\n",
       "      <th>0</th>\n",
       "      <td>PH1</td>\n",
       "      <td>38</td>\n",
       "      <td>Female</td>\n",
       "      <td>Others</td>\n",
       "      <td>Imported</td>\n",
       "      <td>Recovered</td>\n",
       "    </tr>\n",
       "    <tr>\n",
       "      <th>1</th>\n",
       "      <td>PH2</td>\n",
       "      <td>44</td>\n",
       "      <td>Male</td>\n",
       "      <td>Others</td>\n",
       "      <td>Imported</td>\n",
       "      <td>Deceased</td>\n",
       "    </tr>\n",
       "    <tr>\n",
       "      <th>2</th>\n",
       "      <td>PH3</td>\n",
       "      <td>60</td>\n",
       "      <td>Female</td>\n",
       "      <td>Others</td>\n",
       "      <td>Imported</td>\n",
       "      <td>Recovered</td>\n",
       "    </tr>\n",
       "    <tr>\n",
       "      <th>3</th>\n",
       "      <td>PH4</td>\n",
       "      <td>48</td>\n",
       "      <td>Male</td>\n",
       "      <td>Filipino</td>\n",
       "      <td>Imported</td>\n",
       "      <td>Recovered</td>\n",
       "    </tr>\n",
       "    <tr>\n",
       "      <th>4</th>\n",
       "      <td>PH5</td>\n",
       "      <td>62</td>\n",
       "      <td>Male</td>\n",
       "      <td>Filipino</td>\n",
       "      <td>Local</td>\n",
       "      <td>Deceased</td>\n",
       "    </tr>\n",
       "  </tbody>\n",
       "</table>\n",
       "</div>"
      ],
      "text/plain": [
       "  Case  Age     Sex Nationality Transmission     Status\n",
       "0  PH1   38  Female      Others     Imported  Recovered\n",
       "1  PH2   44    Male      Others     Imported   Deceased\n",
       "2  PH3   60  Female      Others     Imported  Recovered\n",
       "3  PH4   48    Male    Filipino     Imported  Recovered\n",
       "4  PH5   62    Male    Filipino        Local   Deceased"
      ]
     },
     "execution_count": 60,
     "metadata": {},
     "output_type": "execute_result"
    }
   ],
   "source": [
    "df.head()"
   ]
  },
  {
   "cell_type": "code",
   "execution_count": 70,
   "id": "b4ade2fe-b20a-4ffa-a578-51f088bba48a",
   "metadata": {},
   "outputs": [
    {
     "data": {
      "text/html": [
       "<div>\n",
       "<style scoped>\n",
       "    .dataframe tbody tr th:only-of-type {\n",
       "        vertical-align: middle;\n",
       "    }\n",
       "\n",
       "    .dataframe tbody tr th {\n",
       "        vertical-align: top;\n",
       "    }\n",
       "\n",
       "    .dataframe thead th {\n",
       "        text-align: right;\n",
       "    }\n",
       "</style>\n",
       "<table border=\"1\" class=\"dataframe\">\n",
       "  <thead>\n",
       "    <tr style=\"text-align: right;\">\n",
       "      <th></th>\n",
       "      <th>Age</th>\n",
       "      <th>Sex_Male</th>\n",
       "      <th>Nationality_Others</th>\n",
       "      <th>Transmission_Local</th>\n",
       "      <th>Status_Recovered</th>\n",
       "    </tr>\n",
       "  </thead>\n",
       "  <tbody>\n",
       "    <tr>\n",
       "      <th>0</th>\n",
       "      <td>38</td>\n",
       "      <td>0</td>\n",
       "      <td>1</td>\n",
       "      <td>0</td>\n",
       "      <td>1</td>\n",
       "    </tr>\n",
       "    <tr>\n",
       "      <th>1</th>\n",
       "      <td>44</td>\n",
       "      <td>1</td>\n",
       "      <td>1</td>\n",
       "      <td>0</td>\n",
       "      <td>0</td>\n",
       "    </tr>\n",
       "    <tr>\n",
       "      <th>2</th>\n",
       "      <td>60</td>\n",
       "      <td>0</td>\n",
       "      <td>1</td>\n",
       "      <td>0</td>\n",
       "      <td>1</td>\n",
       "    </tr>\n",
       "    <tr>\n",
       "      <th>3</th>\n",
       "      <td>48</td>\n",
       "      <td>1</td>\n",
       "      <td>0</td>\n",
       "      <td>0</td>\n",
       "      <td>1</td>\n",
       "    </tr>\n",
       "    <tr>\n",
       "      <th>4</th>\n",
       "      <td>62</td>\n",
       "      <td>1</td>\n",
       "      <td>0</td>\n",
       "      <td>1</td>\n",
       "      <td>0</td>\n",
       "    </tr>\n",
       "    <tr>\n",
       "      <th>...</th>\n",
       "      <td>...</td>\n",
       "      <td>...</td>\n",
       "      <td>...</td>\n",
       "      <td>...</td>\n",
       "      <td>...</td>\n",
       "    </tr>\n",
       "    <tr>\n",
       "      <th>138</th>\n",
       "      <td>60</td>\n",
       "      <td>1</td>\n",
       "      <td>1</td>\n",
       "      <td>1</td>\n",
       "      <td>0</td>\n",
       "    </tr>\n",
       "    <tr>\n",
       "      <th>139</th>\n",
       "      <td>74</td>\n",
       "      <td>1</td>\n",
       "      <td>0</td>\n",
       "      <td>1</td>\n",
       "      <td>0</td>\n",
       "    </tr>\n",
       "    <tr>\n",
       "      <th>140</th>\n",
       "      <td>72</td>\n",
       "      <td>0</td>\n",
       "      <td>0</td>\n",
       "      <td>1</td>\n",
       "      <td>0</td>\n",
       "    </tr>\n",
       "    <tr>\n",
       "      <th>141</th>\n",
       "      <td>66</td>\n",
       "      <td>1</td>\n",
       "      <td>0</td>\n",
       "      <td>1</td>\n",
       "      <td>0</td>\n",
       "    </tr>\n",
       "    <tr>\n",
       "      <th>142</th>\n",
       "      <td>60</td>\n",
       "      <td>1</td>\n",
       "      <td>0</td>\n",
       "      <td>1</td>\n",
       "      <td>0</td>\n",
       "    </tr>\n",
       "  </tbody>\n",
       "</table>\n",
       "<p>143 rows × 5 columns</p>\n",
       "</div>"
      ],
      "text/plain": [
       "     Age  Sex_Male  Nationality_Others  Transmission_Local  Status_Recovered\n",
       "0     38         0                   1                   0                 1\n",
       "1     44         1                   1                   0                 0\n",
       "2     60         0                   1                   0                 1\n",
       "3     48         1                   0                   0                 1\n",
       "4     62         1                   0                   1                 0\n",
       "..   ...       ...                 ...                 ...               ...\n",
       "138   60         1                   1                   1                 0\n",
       "139   74         1                   0                   1                 0\n",
       "140   72         0                   0                   1                 0\n",
       "141   66         1                   0                   1                 0\n",
       "142   60         1                   0                   1                 0\n",
       "\n",
       "[143 rows x 5 columns]"
      ]
     },
     "execution_count": 70,
     "metadata": {},
     "output_type": "execute_result"
    }
   ],
   "source": [
    "# Hot Encoding\n",
    "\n",
    "# Create dummy columns\n",
    "\n",
    "dummies1 = pd.get_dummies(df[['Sex']])\n",
    "dummies2 = pd.get_dummies(df[['Nationality']])\n",
    "dummies3 = pd.get_dummies(df[['Transmission']])\n",
    "dummies4 = pd.get_dummies(df[['Status']])\n",
    "\n",
    "# Merge with dataframe, model2_df includes other features\n",
    "merged_df = pd.concat([df, dummies1, dummies2, dummies3, dummies4], axis = 'columns')\n",
    "\n",
    "# Drop Case, Sex, Nationality, Transmission, Status....and all the first columns\n",
    "model2_df = merged_df.drop(['Case', 'Sex', 'Nationality', 'Transmission', 'Status', 'Sex_Female', 'Nationality_Filipino', 'Transmission_Imported', 'Status_Deceased'], axis = 1)\n",
    "model2_df"
   ]
  },
  {
   "cell_type": "markdown",
   "id": "eb1931ed-b310-4e43-8edb-13ea4d78ca9f",
   "metadata": {},
   "source": [
    "### SGD Classifier"
   ]
  },
  {
   "cell_type": "code",
   "execution_count": 79,
   "id": "2af8c113-f1ac-41f5-a886-c5dd096249a6",
   "metadata": {},
   "outputs": [
    {
     "data": {
      "text/plain": [
       "0.6976744186046512"
      ]
     },
     "execution_count": 79,
     "metadata": {},
     "output_type": "execute_result"
    }
   ],
   "source": [
    "from sklearn.linear_model import SGDClassifier\n",
    "np.random.seed(2)\n",
    "\n",
    "# x = Features\n",
    "x = model2_df.drop('Status_Recovered', axis = 1)\n",
    "\n",
    "# Assign y = status column\n",
    "y = model2_df.Status_Recovered\n",
    "\n",
    "from sklearn.model_selection import train_test_split\n",
    "x_train, x_test, y_train, y_test = train_test_split(x, y, random_state=42, test_size=0.3)\n",
    "\n",
    "sgd = SGDClassifier()\n",
    "sgd.fit(x_train, y_train)\n",
    "\n",
    "sgd.score(x_test, y_test)"
   ]
  },
  {
   "cell_type": "markdown",
   "id": "f7698131-717c-4094-9806-a8e8fa595397",
   "metadata": {},
   "source": [
    "#### Confusion Matrix"
   ]
  },
  {
   "cell_type": "code",
   "execution_count": 80,
   "id": "ea08127e-f7c9-424e-a4d6-c090c30ff80e",
   "metadata": {},
   "outputs": [
    {
     "data": {
      "text/plain": [
       "Text(69.0, 0.5, 'Truth')"
      ]
     },
     "execution_count": 80,
     "metadata": {},
     "output_type": "execute_result"
    },
    {
     "data": {
      "image/png": "[encoded data removed]",
      "text/plain": [
       "<Figure size 720x504 with 2 Axes>"
      ]
     },
     "metadata": {},
     "output_type": "display_data"
    }
   ],
   "source": [
    "from sklearn.metrics import confusion_matrix\n",
    "y_predicted = sgd.predict(x_test)\n",
    "cm = confusion_matrix(y_test, y_predicted)\n",
    "\n",
    "plt.figure(figsize=(10,7))\n",
    "sns.heatmap(cm, annot=True)\n",
    "plt.xlabel('Predicted')\n",
    "plt.ylabel('Truth')"
   ]
  },
  {
   "cell_type": "markdown",
   "id": "f6de4329-d511-40f9-bce0-a2d6d6abe8cf",
   "metadata": {},
   "source": [
    "### Kernel Approximation"
   ]
  },
  {
   "cell_type": "code",
   "execution_count": 95,
   "id": "e2ac0ca8-1460-41da-bad1-b81faf205764",
   "metadata": {},
   "outputs": [
    {
     "data": {
      "text/plain": [
       "0.5116279069767442"
      ]
     },
     "execution_count": 95,
     "metadata": {},
     "output_type": "execute_result"
    }
   ],
   "source": [
    "from sklearn.kernel_approximation import RBFSampler\n",
    "from sklearn.linear_model import SGDClassifier\n",
    "import random\n",
    "random.seed(1)\n",
    "\n",
    "# x = Features\n",
    "x = model2_df.drop('Status_Recovered', axis = 1)\n",
    "\n",
    "# Assign y = status column\n",
    "y = model2_df.Status_Recovered\n",
    "\n",
    "# Split the dataset into two parts ( 70 % training set, 30 % testing set)\n",
    "# from sklearn.model_selection import train_test_split\n",
    "x_train, x_test, y_train, y_test = train_test_split(x, y, test_size=0.3)\n",
    "\n",
    "rbf_feature = RBFSampler()\n",
    "x_train = rbf_feature.fit_transform(x_train)\n",
    "x_test = rbf_feature.fit_transform(x_test)\n",
    "\n",
    "kernel = SGDClassifier()\n",
    "kernel.fit(x_train, y_train)\n",
    "\n",
    "# score\n",
    "kernel.score(x_test, y_test)"
   ]
  },
  {
   "cell_type": "markdown",
   "id": "d80257a7-37b4-4188-831e-3141444f5c15",
   "metadata": {},
   "source": [
    "#### Confusion Matrix"
   ]
  },
  {
   "cell_type": "code",
   "execution_count": 92,
   "id": "efdabf50-6b15-405b-a7fb-8b3d30c5ab1d",
   "metadata": {},
   "outputs": [
    {
     "data": {
      "text/plain": [
       "Text(69.0, 0.5, 'Truth')"
      ]
     },
     "execution_count": 92,
     "metadata": {},
     "output_type": "execute_result"
    },
    {
     "data": {
      "image/png": "[encoded data removed]",
      "text/plain": [
       "<Figure size 720x504 with 2 Axes>"
      ]
     },
     "metadata": {},
     "output_type": "display_data"
    }
   ],
   "source": [
    "y_predicted = kernel.predict(x_test)\n",
    "cm = confusion_matrix(y_test, y_predicted)\n",
    "\n",
    "plt.figure(figsize=(10,7))\n",
    "sns.heatmap(cm, annot=True)\n",
    "plt.xlabel('Predicted')\n",
    "plt.ylabel('Truth')"
   ]
  },
  {
   "cell_type": "markdown",
   "id": "0fd5bee0-064f-454c-aac4-3370b428633e",
   "metadata": {},
   "source": [
    "### Random Forest Classifier"
   ]
  },
  {
   "cell_type": "code",
   "execution_count": 83,
   "id": "d1bd3291-dda8-4edc-acdf-7b032493d8e9",
   "metadata": {},
   "outputs": [
    {
     "data": {
      "text/plain": [
       "0.5116279069767442"
      ]
     },
     "execution_count": 83,
     "metadata": {},
     "output_type": "execute_result"
    }
   ],
   "source": [
    "from sklearn.kernel_approximation import RBFSampler\n",
    "from sklearn.linear_model import SGDClassifier\n",
    "import random\n",
    "random.seed(1)\n",
    "\n",
    "# x = Features\n",
    "x = model2_df.drop('Status_Recovered', axis = 1)\n",
    "\n",
    "# Assign y = status column\n",
    "y = model2_df.Status_Recovered\n",
    "\n",
    "# Split the dataset into two parts ( 70 % training set, 30 % testing set)\n",
    "# from sklearn.model_selection import train_test_split\n",
    "x_train, x_test, y_train, y_test = train_test_split(x, y, test_size=0.3)\n",
    "\n",
    "rbf_feature = RBFSampler()\n",
    "x_train = rbf_feature.fit_transform(x_train)\n",
    "x_test = rbf_feature.fit_transform(x_test)\n",
    "\n",
    "kernel = SGDClassifier()\n",
    "kernel.fit(x_train, y_train)\n",
    "\n",
    "# score\n",
    "kernel.score(x_test, y_test)"
   ]
  },
  {
   "cell_type": "code",
   "execution_count": 84,
   "id": "c2d51337-4869-4c89-b035-1193d480e764",
   "metadata": {},
   "outputs": [
    {
     "data": {
      "text/plain": [
       "Text(69.0, 0.5, 'Truth')"
      ]
     },
     "execution_count": 84,
     "metadata": {},
     "output_type": "execute_result"
    },
    {
     "data": {
      "image/png": "[encoded data removed]",
      "text/plain": [
       "<Figure size 720x504 with 2 Axes>"
      ]
     },
     "metadata": {},
     "output_type": "display_data"
    }
   ],
   "source": [
    "y_predicted = kernel.predict(x_test)\n",
    "cm = confusion_matrix(y_test, y_predicted)\n",
    "\n",
    "plt.figure(figsize=(10,7))\n",
    "sns.heatmap(cm, annot=True)\n",
    "plt.xlabel('Predicted')\n",
    "plt.ylabel('Truth')"
   ]
  },
  {
   "cell_type": "code",
   "execution_count": 88,
   "id": "ac1494ab-d10c-4114-b4ea-78484dfecd99",
   "metadata": {},
   "outputs": [
    {
     "data": {
      "text/plain": [
       "0.8275862068965517"
      ]
     },
     "execution_count": 88,
     "metadata": {},
     "output_type": "execute_result"
    }
   ],
   "source": [
    "from sklearn.ensemble import RandomForestClassifier  \n",
    "np.random.seed(1)\n",
    "\n",
    "# x = Features\n",
    "x = model2_df.drop('Status_Recovered', axis = 1)\n",
    "\n",
    "# Assign y = status column\n",
    "y = model2_df.Status_Recovered\n",
    "\n",
    "from sklearn.model_selection import train_test_split\n",
    "x_train, x_test, y_train, y_test = train_test_split(x,y,test_size = 0.2)\n",
    "\n",
    "rfc = RandomForestClassifier(n_estimators = 50)\n",
    "rfc.fit(x_train, y_train)\n",
    "\n",
    "\n",
    "rfc.score(x_test, y_test)"
   ]
  },
  {
   "cell_type": "markdown",
   "id": "8803c46f-5093-4364-a0a5-40f9c9eef849",
   "metadata": {},
   "source": [
    "#### Confusion Matrix"
   ]
  },
  {
   "cell_type": "code",
   "execution_count": 89,
   "id": "4faf06fc-0fb1-42a1-81e4-9f8500b70fa4",
   "metadata": {},
   "outputs": [
    {
     "data": {
      "text/plain": [
       "Text(69.0, 0.5, 'Truth')"
      ]
     },
     "execution_count": 89,
     "metadata": {},
     "output_type": "execute_result"
    },
    {
     "data": {
      "image/png": "[encoded data removed]",
      "text/plain": [
       "<Figure size 720x504 with 2 Axes>"
      ]
     },
     "metadata": {},
     "output_type": "display_data"
    }
   ],
   "source": [
    "y_preds = rfc.predict(x_test)\n",
    "confusion_matrix(y_test, y_preds)\n",
    "\n",
    "plt.figure(figsize=(10,7))\n",
    "sns.heatmap(cm, annot=True)\n",
    "plt.xlabel('Predicted')\n",
    "plt.ylabel('Truth')"
   ]
  },
  {
   "cell_type": "code",
   "execution_count": null,
   "id": "cc8ad96c-1ff8-4f9e-9a71-8638f1fbf55c",
   "metadata": {},
   "outputs": [],
   "source": []
  },
  {
   "cell_type": "code",
   "execution_count": null,
   "id": "212286b9-0362-47c9-b0a8-dfc69198c9ff",
   "metadata": {},
   "outputs": [],
   "source": []
  }
 ],
 "metadata": {
  "kernelspec": {
   "display_name": "Python 3",
   "language": "python",
   "name": "python3"
  },
  "language_info": {
   "codemirror_mode": {
    "name": "ipython",
    "version": 3
   },
   "file_extension": ".py",
   "mimetype": "text/x-python",
   "name": "python",
   "nbconvert_exporter": "python",
   "pygments_lexer": "ipython3",
   "version": "3.7.10"
  },
  "toc-autonumbering": false
 },
 "nbformat": 4,
 "nbformat_minor": 5
}
