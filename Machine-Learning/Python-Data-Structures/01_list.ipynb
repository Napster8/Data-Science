{
 "cells": [
  {
   "cell_type": "markdown",
   "id": "caf96603-9f6b-4feb-b40e-5f3d2414c4c7",
   "metadata": {},
   "source": [
    "# Inner Workings of list\n",
    "\n",
    "## Advantages:\n",
    "\n",
    "1. Dynamically adjusts memory allocation. An array stores the memory locations or address reference.\n",
    "2. Whenever list is created extra blocks are created (pre-allocated extra space for future additions).\n",
    "3. List has Random access. Unlike set, linkedlist.\n",
    "3. Cache friendly - When you are traversing through list, the address references are stored in the cache memory.\n",
    "\n",
    "## Disadvantages:\n",
    "\n",
    "1. Insert and delete are costly."
   ]
  },
  {
   "cell_type": "markdown",
   "id": "a5aacac5-d5b2-40a9-b712-e41652ba1f0d",
   "metadata": {},
   "source": [
    "## Problem 1: Finding Average"
   ]
  },
  {
   "cell_type": "code",
   "execution_count": 13,
   "id": "db124997-afd4-485c-92a0-b86f64ce783e",
   "metadata": {},
   "outputs": [
    {
     "data": {
      "text/plain": [
       "25.0"
      ]
     },
     "execution_count": 13,
     "metadata": {},
     "output_type": "execute_result"
    }
   ],
   "source": [
    "def average_list(list):\n",
    "    sum = 0\n",
    "    for i in list:\n",
    "        sum = sum + i\n",
    "    \n",
    "    answer = sum / len(list)\n",
    "    return answer;\n",
    "\n",
    "# call\n",
    "average_list(l)"
   ]
  },
  {
   "cell_type": "code",
   "execution_count": 12,
   "id": "da70e735-9eeb-448b-b402-4d455d8a85bd",
   "metadata": {},
   "outputs": [
    {
     "data": {
      "text/plain": [
       "25.0"
      ]
     },
     "execution_count": 12,
     "metadata": {},
     "output_type": "execute_result"
    }
   ],
   "source": [
    "l = [10, 20 ,30 ,40]\n",
    "\n",
    "def average_list(list):\n",
    "    answer = sum(list)/len(list)\n",
    "    return answer;\n",
    "\n",
    "# call\n",
    "average_list(l)"
   ]
  },
  {
   "cell_type": "markdown",
   "id": "521d0ad7-d8d8-492c-bd56-c156c7cae576",
   "metadata": {},
   "source": [
    "## Problem 2: Seperating Even and Odd"
   ]
  },
  {
   "cell_type": "code",
   "execution_count": 29,
   "id": "ab5d1f84-855f-40a5-93e4-dc03dc8b74ca",
   "metadata": {},
   "outputs": [
    {
     "data": {
      "text/plain": [
       "([11, 13, 15], [10, 12])"
      ]
     },
     "execution_count": 29,
     "metadata": {},
     "output_type": "execute_result"
    }
   ],
   "source": [
    "def seperate(list):\n",
    "    odd = []\n",
    "    even = []\n",
    "\n",
    "    for i in list:\n",
    "        if i % 2 == 0:\n",
    "            even.append(i)\n",
    "        else:\n",
    "            odd.append(i)\n",
    "    return odd, even;\n",
    "\n",
    "l = [10, 11, 12, 13, 15]\n",
    "\n",
    "# call\n",
    "seperate(l)"
   ]
  },
  {
   "cell_type": "markdown",
   "id": "be002f29-1569-48ca-b3f3-d78d107100c7",
   "metadata": {},
   "source": [
    "## Problem 3: Get smaller Elements"
   ]
  },
  {
   "cell_type": "code",
   "execution_count": 31,
   "id": "6199e036-c461-438e-9ebe-109efaa73a39",
   "metadata": {},
   "outputs": [
    {
     "data": {
      "text/plain": [
       "[8, 3, 7]"
      ]
     },
     "execution_count": 31,
     "metadata": {},
     "output_type": "execute_result"
    }
   ],
   "source": [
    "# input: \n",
    "l = [8, 100, 20, 40, 3, 7]\n",
    "x = 10\n",
    "\n",
    "# return a list of all elements smaller than 10\n",
    "\n",
    "def smaller_than(list, number = 10):\n",
    "    smaller = []\n",
    "    for i in list:\n",
    "        if i < number:\n",
    "            smaller.append(i)\n",
    "    return smaller;\n",
    "\n",
    "#-------------------------------------\n",
    "# input: \n",
    "l = [8, 100, 20, 40, 3, 7]\n",
    "x = 10\n",
    "\n",
    "# call\n",
    "smaller_than(l, number = 10)"
   ]
  },
  {
   "cell_type": "code",
   "execution_count": 43,
   "id": "89da6b92-8d24-4fb7-bcb3-82e453f9adec",
   "metadata": {},
   "outputs": [
    {
     "data": {
      "text/plain": [
       "[10, 30]"
      ]
     },
     "execution_count": 43,
     "metadata": {},
     "output_type": "execute_result"
    }
   ],
   "source": [
    "# Slicing (list, tuple and string)\n",
    "\n",
    "# list[start: stop: step]\n",
    "l = [10, 20, 30, 40, 50, 60, 70]\n",
    "\n",
    "l[0:4:2]"
   ]
  },
  {
   "cell_type": "code",
   "execution_count": 44,
   "id": "94be72fb-dbca-4b32-82bd-b740df9226a4",
   "metadata": {},
   "outputs": [
    {
     "data": {
      "text/plain": [
       "['e', 'u', 'i', 'o', 'a']"
      ]
     },
     "execution_count": 44,
     "metadata": {},
     "output_type": "execute_result"
    }
   ],
   "source": [
    "# list comprehensions\n",
    "s = 'qwertyuiopasdfghjkl'\n",
    "l1 = [x for x in s if x in 'aeiou']\n",
    "l1"
   ]
  },
  {
   "cell_type": "markdown",
   "id": "2bf5e020-8642-44ce-873a-db812a6ca3b4",
   "metadata": {},
   "source": [
    "## Get Even and Odd Lists"
   ]
  },
  {
   "cell_type": "code",
   "execution_count": 47,
   "id": "31925405-745c-4158-86b8-59875f2b9055",
   "metadata": {},
   "outputs": [
    {
     "data": {
      "text/plain": [
       "([10, 12], [11, 13, 15])"
      ]
     },
     "execution_count": 47,
     "metadata": {},
     "output_type": "execute_result"
    }
   ],
   "source": [
    "# using list comprehension\n",
    "def getevenodd(list):\n",
    "    even = [x for x in list if x % 2 == 0] # if remainder is 0\n",
    "    odd = [x for x in list if x % 2 != 0]\n",
    "    return even, odd;\n",
    "\n",
    "l = [10, 11, 12, 13, 15]\n",
    "\n",
    "# call\n",
    "getevenodd(l)"
   ]
  },
  {
   "cell_type": "markdown",
   "id": "401f17b2-ec71-4c2e-a2b7-7cc1456fabc8",
   "metadata": {},
   "source": [
    "## Return Maximum Number"
   ]
  },
  {
   "cell_type": "code",
   "execution_count": null,
   "id": "117cd53f-a5ad-448c-8fab-9e179f58f0b8",
   "metadata": {},
   "outputs": [
    {
     "data": {
      "text/plain": [
       "18"
      ]
     },
     "execution_count": 7,
     "metadata": {},
     "output_type": "execute_result"
    }
   ],
   "source": [
    "def maxnumber(list):\n",
    "    if not list:\n",
    "        # if list is empty function returns none\n",
    "        return None;\n",
    "    else:\n",
    "        maximum = list[0]\n",
    "        for i in range(1, len(list)):\n",
    "            if list[i] > maximum:\n",
    "                # print(f'(if) {list[i]} > {maximum}. So greatest is {list[i]}')\n",
    "                maximum = list[i]\n",
    "            else:\n",
    "                # print(f'(else) {list[i]} < {maximum}. So greatest is {maximum}')\n",
    "                continue;\n",
    "        return maximum;\n",
    "\n",
    "l = [1, 3, 2, 8, 18, -1, 2]\n",
    "\n",
    "# Call the function\n",
    "maxnumber(l)"
   ]
  },
  {
   "cell_type": "markdown",
   "id": "503f262b-289f-4328-935a-91fea9beea2e",
   "metadata": {},
   "source": [
    "## Return Second Largest Number"
   ]
  },
  {
   "cell_type": "code",
   "execution_count": 125,
   "id": "05da5d49-01ae-43c8-91d3-48b4c2299ab5",
   "metadata": {},
   "outputs": [
    {
     "name": "stdout",
     "output_type": "stream",
     "text": [
      "[10, 5, 13, 8, 20]\n",
      "initially lar = 10, slar = 5\n",
      "i = 2\n",
      "(if  ) lar = 13, slar = 10\n",
      "i = 3\n",
      "(else ) lar = 13, slar = 10\n",
      "i = 4\n",
      "(if  ) lar = 20, slar = 13\n"
     ]
    },
    {
     "data": {
      "text/plain": [
       "(20, 13)"
      ]
     },
     "execution_count": 125,
     "metadata": {},
     "output_type": "execute_result"
    }
   ],
   "source": [
    "def secondlargest(list1):\n",
    "    \n",
    "    print(list1)\n",
    "    \n",
    "    # if list is empty function returns none\n",
    "    if not list1:\n",
    "        return None;\n",
    "    else:\n",
    "        lar = list1[0]  # largest\n",
    "        slar = None    # second largest\n",
    "    \n",
    "    # initial assignment\n",
    "    if list1[0] > list1[1]:\n",
    "        lar = list1[0]\n",
    "        slar = list1[1]\n",
    "        print(f'initially lar = {lar}, slar = {slar}')\n",
    "    else:\n",
    "        lar = list1[1]\n",
    "        slar = list1[0]\n",
    "        print(f'initially lar = {lar}, slar = {slar}')\n",
    "    \n",
    "    # decide largest and second largest\n",
    "    for i in range(2, len(list1)):\n",
    "        print(f'i = {i}')\n",
    "        \n",
    "        if list1[i] > lar:\n",
    "            slar = lar\n",
    "            lar = list1[i]\n",
    "            print(f'(if  ) lar = {lar}, slar = {slar}')\n",
    "\n",
    "        elif list1[i] > slar and lar != list1[i]:\n",
    "            slar = list1[i]\n",
    "            print(f'(elif 1) lar = {lar}, slar = {slar}')\n",
    "            \n",
    "        elif slar == list[i] and lar != list1[i]:\n",
    "            print(f'(elif 2) lar = {lar}, slar = {slar}')\n",
    "            continue;\n",
    "        else:\n",
    "            print(f'(else ) lar = {lar}, slar = {slar}')\n",
    "            \n",
    "    return lar, slar;\n",
    "\n",
    "# Test Case 1\n",
    "l1 = [10, 5, 13, 8, 20]\n",
    "# output = 13\n",
    "\n",
    "# Call the function\n",
    "secondlargest(l1)"
   ]
  },
  {
   "cell_type": "code",
   "execution_count": 129,
   "id": "dad751c4-afb8-4f3d-95b9-8df691beefec",
   "metadata": {},
   "outputs": [
    {
     "name": "stdout",
     "output_type": "stream",
     "text": [
      "[20, 13, 20, 18, 12, 19, 12, 1]\n",
      "initially lar = 20, slar = 13\n",
      "i = 2\n",
      "(else ) lar = 20, slar = 13\n",
      "i = 3\n",
      "(elif 1) lar = 20, slar = 18\n",
      "i = 4\n",
      "(else ) lar = 20, slar = 18\n",
      "i = 5\n",
      "(elif 1) lar = 20, slar = 19\n",
      "i = 6\n",
      "(else ) lar = 20, slar = 19\n",
      "i = 7\n",
      "(else ) lar = 20, slar = 19\n"
     ]
    },
    {
     "data": {
      "text/plain": [
       "(20, 19)"
      ]
     },
     "execution_count": 129,
     "metadata": {},
     "output_type": "execute_result"
    }
   ],
   "source": [
    "# Test Case 2\n",
    "l2 = [20, 13, 20, 18, 12, 19, 12, 1]\n",
    "# output = 13\n",
    "\n",
    "# Call the function\n",
    "secondlargest(l2)"
   ]
  },
  {
   "cell_type": "code",
   "execution_count": 132,
   "id": "c9d2c7c4-92a9-4e93-8956-a30086acd2a3",
   "metadata": {},
   "outputs": [
    {
     "name": "stdout",
     "output_type": "stream",
     "text": [
      "[10, 10, 14, 12, 13, 14]\n",
      "initially lar = 10, slar = 10\n",
      "i = 2\n",
      "(if  ) lar = 14, slar = 10\n",
      "i = 3\n",
      "(elif 1) lar = 14, slar = 12\n",
      "i = 4\n",
      "(elif 1) lar = 14, slar = 13\n",
      "i = 5\n",
      "(else ) lar = 14, slar = 13\n"
     ]
    },
    {
     "data": {
      "text/plain": [
       "(14, 13)"
      ]
     },
     "execution_count": 132,
     "metadata": {},
     "output_type": "execute_result"
    }
   ],
   "source": [
    "# Test Case 3\n",
    "l3 = [10, 10, 14, 12, 13, 14]\n",
    "# output = None\n",
    "\n",
    "# Call the function\n",
    "secondlargest(l3)"
   ]
  },
  {
   "cell_type": "markdown",
   "id": "90d1ac5f-edd3-422f-a47d-247593375a11",
   "metadata": {},
   "source": [
    "## Check if List is Sorted"
   ]
  },
  {
   "cell_type": "code",
   "execution_count": 175,
   "id": "75af82d4-a36d-47f3-b386-de817238f29c",
   "metadata": {},
   "outputs": [
    {
     "name": "stdout",
     "output_type": "stream",
     "text": [
      "1 : 20\n",
      "2 : 30\n",
      "3 : 40\n",
      "not sorted\n"
     ]
    }
   ],
   "source": [
    "def is_sorted(a_list):\n",
    "    for i in range(1, len(a_list)-1):\n",
    "        print(f'{i} : {a_list[i]}')\n",
    "        if a_list[i+1] >= a_list[i]:\n",
    "            if i == len(a_list) - 2:\n",
    "                print('sorted')\n",
    "        else:\n",
    "            print('not sorted')\n",
    "            break;\n",
    "\n",
    "n_list = [10, 20, 30, 40, 10]\n",
    "is_sorted(n_list)"
   ]
  },
  {
   "cell_type": "code",
   "execution_count": 176,
   "id": "cc3ba14f-fef0-470f-aa0d-0b4c4c39ad04",
   "metadata": {},
   "outputs": [
    {
     "name": "stdout",
     "output_type": "stream",
     "text": [
      "1 : 20\n",
      "2 : 20\n",
      "sorted\n"
     ]
    }
   ],
   "source": [
    "n_list = [10, 20, 20, 30]\n",
    "is_sorted(n_list)"
   ]
  },
  {
   "cell_type": "code",
   "execution_count": 177,
   "id": "e6055b1d-e7ee-414e-aa99-31e0795b52c8",
   "metadata": {},
   "outputs": [
    {
     "name": "stdout",
     "output_type": "stream",
     "text": [
      "1 : 5\n",
      "not sorted\n"
     ]
    }
   ],
   "source": [
    "n_list = [10, 5, 2, 30]\n",
    "is_sorted(n_list)"
   ]
  },
  {
   "cell_type": "markdown",
   "id": "3bfc6ef8-8054-4360-ad9a-069fbeef17cc",
   "metadata": {},
   "source": [
    "## Find number occuring odd number of times"
   ]
  },
  {
   "cell_type": "code",
   "execution_count": 197,
   "id": "1083aba8-9e37-4a9d-b3fb-38e99d1acc3a",
   "metadata": {},
   "outputs": [],
   "source": [
    "def findodd(array):\n",
    "    answer = None\n",
    "    for i in array:\n",
    "        count = array.count(i)\n",
    "        if count % 2 != 0:\n",
    "            answer = i\n",
    "            break;\n",
    "        else:\n",
    "            print(f'{i}: {array.count(i)}')\n",
    "    return answer"
   ]
  },
  {
   "cell_type": "code",
   "execution_count": 195,
   "id": "64fad1c5-75ed-4bd2-9168-9ffb1d2836ea",
   "metadata": {},
   "outputs": [
    {
     "name": "stdout",
     "output_type": "stream",
     "text": [
      "10: 2\n",
      "10: 2\n",
      "30: 4\n",
      "30: 4\n",
      "30: 4\n",
      "30: 4\n"
     ]
    },
    {
     "data": {
      "text/plain": [
       "20"
      ]
     },
     "execution_count": 195,
     "metadata": {},
     "output_type": "execute_result"
    }
   ],
   "source": [
    "array = [10, 10, 30, 30, 30 , 30, 20]\n",
    "findodd(array)\n",
    "# answer: 20"
   ]
  },
  {
   "cell_type": "code",
   "execution_count": 199,
   "id": "6253da71-b6d6-4551-a62f-86812a74c793",
   "metadata": {},
   "outputs": [
    {
     "data": {
      "text/plain": [
       "10"
      ]
     },
     "execution_count": 199,
     "metadata": {},
     "output_type": "execute_result"
    }
   ],
   "source": [
    "array = [10, 20, 20]\n",
    "findodd(array)\n",
    "# answer: 10"
   ]
  },
  {
   "cell_type": "code",
   "execution_count": 200,
   "id": "94cac19d-0b24-474a-9187-b4b9ca5a9af6",
   "metadata": {},
   "outputs": [
    {
     "name": "stdout",
     "output_type": "stream",
     "text": [
      "10: 2\n",
      "10: 2\n",
      "20: 2\n",
      "30: 2\n",
      "30: 2\n",
      "20: 2\n"
     ]
    },
    {
     "data": {
      "text/plain": [
       "40"
      ]
     },
     "execution_count": 200,
     "metadata": {},
     "output_type": "execute_result"
    }
   ],
   "source": [
    "array = [10, 10, 20, 30, 30, 20, 40]\n",
    "findodd(array)\n",
    "# answer: 40"
   ]
  },
  {
   "cell_type": "markdown",
   "id": "3e455c52-aa50-4cc4-962e-3e74ece3e5d9",
   "metadata": {},
   "source": [
    "## Reverse a list"
   ]
  },
  {
   "cell_type": "code",
   "execution_count": 214,
   "id": "74a19e6a-10ed-4cd3-b8f2-059799030a1f",
   "metadata": {},
   "outputs": [
    {
     "name": "stdout",
     "output_type": "stream",
     "text": [
      "[7, 6, 5, 4, 2, 1]\n"
     ]
    }
   ],
   "source": [
    "array = [1, 2, 4, 5, 6, 7]\n",
    "array.reverse()\n",
    "print(array)"
   ]
  },
  {
   "cell_type": "code",
   "execution_count": 246,
   "id": "d747a6a6-1722-4adc-ae2b-a1c44ab411a8",
   "metadata": {},
   "outputs": [
    {
     "name": "stdout",
     "output_type": "stream",
     "text": [
      "[8, 7, 6, 5, 4, 3, 2, 1]\n"
     ]
    }
   ],
   "source": [
    "def reverse(a_list):\n",
    "    count = 0\n",
    "    n = len(a_list)-1\n",
    "    for i in a_list:\n",
    "        temp = a_list[n]\n",
    "        a_list[n] = a_list[count]\n",
    "        a_list[count] = temp\n",
    "        # print(f'i: {i}, n: {n}, temp: {temp}, nth element: {a_list[n]}, ith element: {a_list[count]}')\n",
    "        \n",
    "        count = count + 1\n",
    "        n = n - 1\n",
    "        \n",
    "        if count > (len(a_list)/2)-1:\n",
    "            break;\n",
    "    print(a_list);\n",
    "\n",
    "# Even case\n",
    "array = [1, 2, 3, 4, 5, 6, 7, 8]\n",
    "reverse(array)"
   ]
  },
  {
   "cell_type": "code",
   "execution_count": 247,
   "id": "a78e84b3-df3a-4d20-af39-5f86b7a189ac",
   "metadata": {},
   "outputs": [
    {
     "name": "stdout",
     "output_type": "stream",
     "text": [
      "[7, 6, 5, 4, 3, 2, 1]\n"
     ]
    }
   ],
   "source": [
    "# Odd case\n",
    "array = [1, 2, 3, 4, 5, 6, 7]\n",
    "reverse(array)"
   ]
  },
  {
   "cell_type": "markdown",
   "id": "dcc67527-06a2-403d-933c-d045e5a25c85",
   "metadata": {},
   "source": [
    "## Left Rotating a list\n",
    "\n",
    "Input\n",
    "10, 20, 30, 40\n",
    "\n",
    "Answer\n",
    "20, 30, 40, 10"
   ]
  },
  {
   "cell_type": "code",
   "execution_count": 251,
   "id": "38455428-1071-4345-a13c-9efb72c70572",
   "metadata": {},
   "outputs": [
    {
     "data": {
      "text/plain": [
       "[20, 30, 40, 10]"
      ]
     },
     "execution_count": 251,
     "metadata": {},
     "output_type": "execute_result"
    }
   ],
   "source": [
    "def left_rotate(a_list):\n",
    "    left_rotated_list = a_list[1:] + a_list[0:1]\n",
    "    return left_rotated_list;\n",
    "\n",
    "a_list = [10, 20, 30, 40]\n",
    "left_rotate(a_list)"
   ]
  },
  {
   "cell_type": "code",
   "execution_count": 272,
   "id": "03db2c95-a68f-45fb-9d44-f26635d9043a",
   "metadata": {},
   "outputs": [
    {
     "data": {
      "text/plain": [
       "[20, 30, 40, 10]"
      ]
     },
     "execution_count": 272,
     "metadata": {},
     "output_type": "execute_result"
    }
   ],
   "source": [
    "def left_rotate(a_list):\n",
    "    n = len(a_list)\n",
    "    count = 0\n",
    "    temp1 = a_list[0]\n",
    "    \n",
    "    for i in range(0, len(a_list)):\n",
    "        if count == n-1:\n",
    "            a_list[n-1] = temp1\n",
    "            break;\n",
    "            \n",
    "        a_list[count] = a_list[count+1]\n",
    "        temp = a_list[count]          \n",
    "        count = count + 1\n",
    "        \n",
    "    return a_list;\n",
    "\n",
    "a_list = [10, 20, 30, 40]\n",
    "left_rotate(a_list)"
   ]
  },
  {
   "cell_type": "markdown",
   "id": "317742a5-e110-4df5-af80-8e2e885f653c",
   "metadata": {},
   "source": [
    "## Left rotate by `d` places"
   ]
  },
  {
   "cell_type": "code",
   "execution_count": 277,
   "id": "0810157a-986f-48c1-8e9f-57730b3fbe9a",
   "metadata": {},
   "outputs": [
    {
     "name": "stdout",
     "output_type": "stream",
     "text": [
      "Original array: [1, 2, 3, 4, 5]\n"
     ]
    },
    {
     "data": {
      "text/plain": [
       "[4, 5, 1, 2, 3]"
      ]
     },
     "execution_count": 277,
     "metadata": {},
     "output_type": "execute_result"
    }
   ],
   "source": [
    "def left_rotate_d(array, d):\n",
    "    print(f'Original array: {array}')\n",
    "    array = array[d:] + array[:d]\n",
    "    return array;\n",
    "\n",
    "array = [1, 2, 3, 4, 5]\n",
    "d = 3\n",
    "\n",
    "left_rotate_d(array, d)"
   ]
  },
  {
   "cell_type": "code",
   "execution_count": 278,
   "id": "e4ed38ab-ce4d-412b-98e2-4db0935f5829",
   "metadata": {},
   "outputs": [
    {
     "name": "stdout",
     "output_type": "stream",
     "text": [
      "deque([4, 5, 1, 2, 3])\n"
     ]
    }
   ],
   "source": [
    "from collections import deque\n",
    "\n",
    "array = [1, 2, 3, 4, 5]\n",
    "d = 3\n",
    "\n",
    "dq = deque(array)\n",
    "dq.rotate(-d)\n",
    "print(dq)"
   ]
  },
  {
   "cell_type": "code",
   "execution_count": null,
   "id": "b52bb603-1218-44a5-bfac-4d4cd8f5e446",
   "metadata": {},
   "outputs": [],
   "source": []
  },
  {
   "cell_type": "code",
   "execution_count": null,
   "id": "e09889ab-ac6b-426b-8d16-ab1dd57f9824",
   "metadata": {},
   "outputs": [],
   "source": []
  }
 ],
 "metadata": {
  "kernelspec": {
   "display_name": "Python 3 (ipykernel)",
   "language": "python",
   "name": "python3"
  },
  "language_info": {
   "codemirror_mode": {
    "name": "ipython",
    "version": 3
   },
   "file_extension": ".py",
   "mimetype": "text/x-python",
   "name": "python",
   "nbconvert_exporter": "python",
   "pygments_lexer": "ipython3",
   "version": "3.9.12"
  }
 },
 "nbformat": 4,
 "nbformat_minor": 5
}
