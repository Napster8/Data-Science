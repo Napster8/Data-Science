{
 "cells": [
  {
   "cell_type": "code",
   "execution_count": 1,
   "id": "17f636d1-2b8e-4d6c-bc70-d79cea627f64",
   "metadata": {},
   "outputs": [
    {
     "data": {
      "text/plain": [
       "'\\\\n'"
      ]
     },
     "execution_count": 1,
     "metadata": {},
     "output_type": "execute_result"
    }
   ],
   "source": [
    "## Escape Sequence and raw strings\n",
    "\n",
    "'\\\\n'"
   ]
  },
  {
   "cell_type": "code",
   "execution_count": 7,
   "id": "774ae76b-d785-4726-a26c-f8108d348b32",
   "metadata": {},
   "outputs": [
    {
     "name": "stdout",
     "output_type": "stream",
     "text": [
      "C:\\project\\name.by\n"
     ]
    }
   ],
   "source": [
    "# raw strings\n",
    "\n",
    "print(r'C:\\windows\\path\\names.by')"
   ]
  },
  {
   "cell_type": "code",
   "execution_count": 7,
   "id": "b227388d-a572-493b-9f19-aebd591668f2",
   "metadata": {},
   "outputs": [
    {
     "name": "stdout",
     "output_type": "stream",
     "text": [
      "Hello Abc! x = 100\n",
      "Upper case of Abc = ABC\n",
      "100 * 2 = 200\n"
     ]
    }
   ],
   "source": [
    "# Formatted strings\n",
    "\n",
    "name = 'Abc'\n",
    "x = 100\n",
    "\n",
    "print(f'Hello {name}! x = {100}')\n",
    "print(f'Upper case of {name} = {name.upper()}')\n",
    "print(f'100 * 2 = {x*2}')"
   ]
  },
  {
   "cell_type": "markdown",
   "id": "27777a97-3930-4416-a6f0-fa99a1f7ff96",
   "metadata": {},
   "source": [
    "**Note:**\n",
    "\n",
    "Strings are immutable objects in python. Once created, cannot be changed."
   ]
  },
  {
   "cell_type": "markdown",
   "id": "859ada26-3e0d-4457-9d4a-a1d5cbb368d4",
   "metadata": {},
   "source": [
    "## Reverse String"
   ]
  },
  {
   "cell_type": "code",
   "execution_count": 8,
   "id": "a29c32d2-9244-4d38-ab1d-01fccd963401",
   "metadata": {},
   "outputs": [
    {
     "name": "stdout",
     "output_type": "stream",
     "text": [
      "987654321\n"
     ]
    }
   ],
   "source": [
    "s = '123456789'\n",
    "\n",
    "# s[start: stop: step]\n",
    "print(s[::-1])"
   ]
  },
  {
   "cell_type": "markdown",
   "id": "a613b586-e8a4-4c69-a3f7-5b75cef5e729",
   "metadata": {},
   "source": [
    "### String Comparison"
   ]
  },
  {
   "cell_type": "code",
   "execution_count": 17,
   "id": "dff74d33-659d-4010-801a-dfed1d5ed7ba",
   "metadata": {},
   "outputs": [
    {
     "data": {
      "text/plain": [
       "(97, 65)"
      ]
     },
     "execution_count": 17,
     "metadata": {},
     "output_type": "execute_result"
    }
   ],
   "source": [
    "# ASCII Value of any character\n",
    "\n",
    "ord(\"a\"), ord(\"A\")"
   ]
  },
  {
   "cell_type": "code",
   "execution_count": 20,
   "id": "8fbaae72-f843-4f17-91f4-569af808b722",
   "metadata": {},
   "outputs": [
    {
     "data": {
      "text/plain": [
       "True"
      ]
     },
     "execution_count": 20,
     "metadata": {},
     "output_type": "execute_result"
    }
   ],
   "source": [
    "'a' > 'A'"
   ]
  },
  {
   "cell_type": "code",
   "execution_count": 19,
   "id": "4ea21493-da45-45ba-ab88-95dcd97e1ba5",
   "metadata": {},
   "outputs": [
    {
     "data": {
      "text/plain": [
       "False"
      ]
     },
     "execution_count": 19,
     "metadata": {},
     "output_type": "execute_result"
    }
   ],
   "source": [
    "'A' > 'a'"
   ]
  },
  {
   "cell_type": "code",
   "execution_count": 1,
   "id": "9a754f0c-afcc-4299-8d50-20b3ca3d54ec",
   "metadata": {},
   "outputs": [
    {
     "name": "stdout",
     "output_type": "stream",
     "text": [
      "False\n"
     ]
    }
   ],
   "source": [
    "s1 = 'py'\n",
    "s2 = 'ide'\n",
    "\n",
    "print(s1 == s2)"
   ]
  },
  {
   "cell_type": "code",
   "execution_count": 3,
   "id": "b3fccaa4-1dd7-4299-ae6c-e296a3ab3685",
   "metadata": {},
   "outputs": [
    {
     "data": {
      "text/plain": [
       "True"
      ]
     },
     "execution_count": 3,
     "metadata": {},
     "output_type": "execute_result"
    }
   ],
   "source": [
    "s1 != s2"
   ]
  },
  {
   "cell_type": "markdown",
   "id": "3176e773-85dc-495b-b2d4-10a6e433be4a",
   "metadata": {},
   "source": [
    "## String Operations"
   ]
  },
  {
   "cell_type": "markdown",
   "id": "eb276510-4db7-4fdb-acec-6b93cbf2c5f9",
   "metadata": {},
   "source": [
    "Checking sub-string presence."
   ]
  },
  {
   "cell_type": "code",
   "execution_count": 18,
   "id": "f15598ee-3f61-40e6-9d10-62e0cd2b4242",
   "metadata": {},
   "outputs": [
    {
     "name": "stdout",
     "output_type": "stream",
     "text": [
      "True\n",
      "False\n"
     ]
    }
   ],
   "source": [
    "s1 = 'welcome'\n",
    "s2 = 'come'\n",
    "print(s2 in s1)\n",
    "print(s2 not in s1)"
   ]
  },
  {
   "cell_type": "code",
   "execution_count": 41,
   "id": "f0e63b49-78d0-4d26-8758-7c58150f823e",
   "metadata": {},
   "outputs": [
    {
     "name": "stdout",
     "output_type": "stream",
     "text": [
      "1\n",
      "0\n"
     ]
    }
   ],
   "source": [
    "s1 = 'welcome'\n",
    "print(s1.index('e'))\n",
    "\n",
    "# searches presence in 0 to 3rd index of string\n",
    "# index(string_name, start_index, stop_index)\n",
    "print(s1.index('w',0,3))"
   ]
  },
  {
   "cell_type": "markdown",
   "id": "d719a817-c3af-4569-b4f1-773992068593",
   "metadata": {},
   "source": [
    "If the string is not present, it raises a `ValueError`. So maybe catch these exceptions in `try:except` blocks."
   ]
  },
  {
   "cell_type": "code",
   "execution_count": 28,
   "id": "4c64b711-5899-4ba5-b28a-374eb7909b65",
   "metadata": {},
   "outputs": [
    {
     "name": "stdout",
     "output_type": "stream",
     "text": [
      "False\n"
     ]
    }
   ],
   "source": [
    "s1 = 'welcome'\n",
    "print(s1.isupper())"
   ]
  },
  {
   "cell_type": "code",
   "execution_count": 29,
   "id": "a8081856-548e-432c-9931-e4bd8e2ea943",
   "metadata": {},
   "outputs": [
    {
     "name": "stdout",
     "output_type": "stream",
     "text": [
      "False\n"
     ]
    }
   ],
   "source": [
    "s1 = 'Welcome'\n",
    "print(s1.isupper())"
   ]
  },
  {
   "cell_type": "code",
   "execution_count": 30,
   "id": "afe39b83-6355-4aa8-a05b-57506ee9dc3a",
   "metadata": {},
   "outputs": [
    {
     "name": "stdout",
     "output_type": "stream",
     "text": [
      "True\n"
     ]
    }
   ],
   "source": [
    "s1 = 'WELCOME'\n",
    "print(s1.isupper())"
   ]
  },
  {
   "cell_type": "code",
   "execution_count": 32,
   "id": "d0fdde1a-e25a-4d5b-bfdc-8de09311936d",
   "metadata": {},
   "outputs": [
    {
     "data": {
      "text/plain": [
       "False"
      ]
     },
     "execution_count": 32,
     "metadata": {},
     "output_type": "execute_result"
    }
   ],
   "source": [
    "s1.islower()"
   ]
  },
  {
   "cell_type": "code",
   "execution_count": 42,
   "id": "cd62b92d-8ca6-4753-8b33-3ce3509f3e72",
   "metadata": {},
   "outputs": [
    {
     "name": "stdout",
     "output_type": "stream",
     "text": [
      "False\n",
      "True\n",
      "False\n",
      "True\n"
     ]
    }
   ],
   "source": [
    "s1 = 'Welcome'\n",
    "print(s1.startswith('w'))\n",
    "print(s1.startswith('W'))\n",
    "print(s1.endswith('E'))\n",
    "print(s1.endswith('e'))"
   ]
  },
  {
   "cell_type": "markdown",
   "id": "affb0742-9555-487e-ade6-caadec6689fd",
   "metadata": {},
   "source": [
    "## Split"
   ]
  },
  {
   "cell_type": "code",
   "execution_count": 48,
   "id": "6841eb7e-d146-4c80-8de1-ce11d5d64e08",
   "metadata": {},
   "outputs": [
    {
     "name": "stdout",
     "output_type": "stream",
     "text": [
      "['hello', 'world', 'hey', 'there']\n"
     ]
    }
   ],
   "source": [
    "# String Operations\n",
    "\n",
    "s1 = 'hello world hey there'\n",
    "print(s1.split())"
   ]
  },
  {
   "cell_type": "code",
   "execution_count": 56,
   "id": "c3dd4981-baf8-4909-bc2c-dbb537fa3f63",
   "metadata": {},
   "outputs": [
    {
     "name": "stdout",
     "output_type": "stream",
     "text": [
      "['hello', 'world', 'hey', 'there - hi']\n",
      "hello\n",
      "world\n",
      "hey\n",
      "there - hi\n"
     ]
    }
   ],
   "source": [
    "s1 = 'hello, world, hey, there - hi'\n",
    "print(s1.split(', '))\n",
    "\n",
    "for i in s1.split(', '):\n",
    "    print(i)"
   ]
  },
  {
   "cell_type": "code",
   "execution_count": 58,
   "id": "224ebf72-bc85-4e15-83a0-b94c3c9c7076",
   "metadata": {},
   "outputs": [
    {
     "name": "stdout",
     "output_type": "stream",
     "text": [
      "['hello, world, hey, there', 'hi']\n",
      "hello, world, hey, there\n",
      "hi\n"
     ]
    }
   ],
   "source": [
    "s1 = 'hello, world, hey, there - hi'\n",
    "print(s1.split(' - '))\n",
    "\n",
    "for i in s1.split(' - '):\n",
    "    print(i)"
   ]
  },
  {
   "cell_type": "markdown",
   "id": "750c6c40-0ef0-448b-9a84-0cd3b8b38396",
   "metadata": {},
   "source": [
    "## Join"
   ]
  },
  {
   "cell_type": "code",
   "execution_count": 68,
   "id": "5a73578f-77f8-4e7f-9f15-fb5296d2987a",
   "metadata": {},
   "outputs": [
    {
     "name": "stdout",
     "output_type": "stream",
     "text": [
      "world-is-good\n",
      "world is good\n",
      "world_is_good\n"
     ]
    }
   ],
   "source": [
    "s1 = ['world', 'is', 'good']\n",
    "print(\"-\".join(s1))\n",
    "print(\" \".join(s1))\n",
    "print(\"_\".join(s1))"
   ]
  },
  {
   "cell_type": "code",
   "execution_count": 71,
   "id": "24656fb0-07fc-4a71-b642-90953588fc25",
   "metadata": {},
   "outputs": [
    {
     "name": "stdout",
     "output_type": "stream",
     "text": [
      "world\n",
      "world---\n",
      "---world\n"
     ]
    }
   ],
   "source": [
    "s1 = \"---world---\"\n",
    "print(s1.strip('-'))\n",
    "print(s1.lstrip('-'))\n",
    "print(s1.rstrip('-'))"
   ]
  },
  {
   "cell_type": "markdown",
   "id": "938cf4ec-6fbc-4f99-92a8-7732b48d1021",
   "metadata": {},
   "source": [
    "## Find"
   ]
  },
  {
   "cell_type": "code",
   "execution_count": 79,
   "id": "38333aa7-da0d-41f1-872d-ab8a663f0227",
   "metadata": {},
   "outputs": [
    {
     "name": "stdout",
     "output_type": "stream",
     "text": [
      "-1\n",
      "0\n"
     ]
    }
   ],
   "source": [
    "s1 = 'joseph scale'\n",
    "print(s1.find('hello'))\n",
    "print(s1.find('jo'))"
   ]
  },
  {
   "cell_type": "code",
   "execution_count": 113,
   "id": "4d575437-b891-41e5-8661-6f1187c4670c",
   "metadata": {},
   "outputs": [
    {
     "name": "stdout",
     "output_type": "stream",
     "text": [
      "-1\n"
     ]
    }
   ],
   "source": [
    "# when pattern is not there in text\n",
    "pattern = 'ayo'\n",
    "text = 'hello'\n",
    "\n",
    "print(text.find(pattern))"
   ]
  },
  {
   "cell_type": "code",
   "execution_count": 80,
   "id": "8b679961-c677-4d96-98b5-327ec930021d",
   "metadata": {},
   "outputs": [
    {
     "name": "stdout",
     "output_type": "stream",
     "text": [
      "7\n"
     ]
    }
   ],
   "source": [
    "s1 = 'joseph scale'\n",
    "#----'01234567'\n",
    "#----'joseph s'\n",
    "\n",
    "print(s1.find('scale'))\n",
    "# s1.index('hello') --> gives ValueError"
   ]
  },
  {
   "cell_type": "code",
   "execution_count": 124,
   "id": "de6100a4-d220-4a7f-8a53-93ffa49bd22f",
   "metadata": {},
   "outputs": [
    {
     "name": "stdout",
     "output_type": "stream",
     "text": [
      "0\n",
      "1\n",
      "2\n"
     ]
    }
   ],
   "source": [
    "def find_pattern(text, pattern):\n",
    "    location = text.find(pattern)\n",
    "    while location >= 0:\n",
    "        print(location)\n",
    "        location = text.find(pattern, location+1)\n",
    "text = 'AAAAA'\n",
    "pattern = 'AAA'\n",
    "\n",
    "# call\n",
    "find_pattern(text, pattern)"
   ]
  },
  {
   "cell_type": "code",
   "execution_count": 125,
   "id": "8d7ff438-a135-4dad-9632-440f90aaab96",
   "metadata": {},
   "outputs": [
    {
     "name": "stdout",
     "output_type": "stream",
     "text": [
      "0\n",
      "15\n"
     ]
    }
   ],
   "source": [
    "text = 'word to vector word'\n",
    "pattern = 'word'\n",
    "\n",
    "# call\n",
    "find_pattern(text, pattern)"
   ]
  },
  {
   "cell_type": "markdown",
   "id": "f7f5c9d0-3599-49b6-8aac-de87a56febbd",
   "metadata": {},
   "source": [
    "## Check for Palindrome in Python\n",
    "\n",
    "Reverse of a string is equal to string itself."
   ]
  },
  {
   "cell_type": "code",
   "execution_count": null,
   "id": "59ef7cc3-6fb5-41c1-95f4-6a032795e2e5",
   "metadata": {},
   "outputs": [],
   "source": [
    "# abba = abba ---> Yes\n",
    "# abc = cba ---> No"
   ]
  },
  {
   "cell_type": "code",
   "execution_count": 142,
   "id": "94c3d99f-dd34-4ca7-84c7-59c32251a6da",
   "metadata": {},
   "outputs": [],
   "source": [
    "def palindrome(text):\n",
    "    left = 0\n",
    "    right = len(text) - 1\n",
    "    while left <= right:\n",
    "        if text[left] == text[right]:\n",
    "            left  += 1\n",
    "            right -= 1\n",
    "            \n",
    "            if left > right:\n",
    "                print(f'\\'{text}\\' is a palindrome')\n",
    "        else:\n",
    "            print(f'\\'{text}\\' is not a palindrome')\n",
    "            break;"
   ]
  },
  {
   "cell_type": "code",
   "execution_count": 144,
   "id": "f959747b-b718-4ebc-b60d-5dd77c21e225",
   "metadata": {},
   "outputs": [
    {
     "name": "stdout",
     "output_type": "stream",
     "text": [
      "'abba' is a palindrome\n"
     ]
    }
   ],
   "source": [
    "# test 1: even length string\n",
    "a = 'abba'\n",
    "palindrome(a)"
   ]
  },
  {
   "cell_type": "code",
   "execution_count": 140,
   "id": "2ca4cbd4-b90c-4be3-95ac-3c23807b18c5",
   "metadata": {},
   "outputs": [
    {
     "name": "stdout",
     "output_type": "stream",
     "text": [
      "'aba' is a palindrome\n"
     ]
    }
   ],
   "source": [
    "# test 2: odd length string\n",
    "a = 'aba'\n",
    "palindrome(a)"
   ]
  },
  {
   "cell_type": "code",
   "execution_count": 143,
   "id": "1941f3dc-c072-47af-a415-78b41be225eb",
   "metadata": {},
   "outputs": [
    {
     "name": "stdout",
     "output_type": "stream",
     "text": [
      "'abc' is not a palindrome\n"
     ]
    }
   ],
   "source": [
    "# test 3: not a palindrome\n",
    "a = 'abc'\n",
    "palindrome(a)"
   ]
  },
  {
   "cell_type": "code",
   "execution_count": 145,
   "id": "540f8493-aeab-4900-ba89-15f3edc8f4c0",
   "metadata": {},
   "outputs": [
    {
     "name": "stdout",
     "output_type": "stream",
     "text": [
      "'aaaabcabcabcabcabcabcaaaa' is not a palindrome\n"
     ]
    }
   ],
   "source": [
    "# test 3: loong\n",
    "a = 'aaaabcabcabcabcabcabcaaaa'\n",
    "palindrome(a)"
   ]
  },
  {
   "cell_type": "markdown",
   "id": "a9c1d5fd-bd37-40c9-ab8c-ff9f9f74ad27",
   "metadata": {},
   "source": [
    "## Anagram or not:\n",
    "\n",
    "1. Number of occurence of each letter must same.\n",
    "2. Order of occurence can be any."
   ]
  },
  {
   "cell_type": "code",
   "execution_count": 249,
   "id": "447ced15-1f6d-4224-b9a9-500d83ca79fe",
   "metadata": {},
   "outputs": [],
   "source": [
    "# Naive Approach\n",
    "\n",
    "# Time complexity: Big O(n log n)\n",
    "\n",
    "def anagram(a, b):\n",
    "    if len(a) != len(b):\n",
    "        return 'Not Anagram';\n",
    "        \n",
    "    for i in range(0, len(a)):\n",
    "        if a.count(a[i]) == b.count(b[i]) and a[i] in b:\n",
    "            # print(f'i = {i}: {a[i]} = {a.count(a[i])}, {b[i]} = {a.count(a[i])}')\n",
    "            \n",
    "            if i == len(a)-1:\n",
    "                print('Anagram')\n",
    "        else:\n",
    "            print('Not Anagram')\n",
    "            break;\n"
   ]
  },
  {
   "cell_type": "code",
   "execution_count": 263,
   "id": "cba325b6-29eb-466d-ac34-de41ed2464b2",
   "metadata": {},
   "outputs": [],
   "source": [
    "def isAnagram(a, b):\n",
    "    # Time complexity: Big O(n log n)\n",
    "    if len(a) != len(b):\n",
    "        return False;\n",
    "    \n",
    "    a = sorted(a)\n",
    "    b = sorted(b)\n",
    "    \n",
    "    return a == b;"
   ]
  },
  {
   "cell_type": "code",
   "execution_count": 229,
   "id": "f59366eb-f705-4f72-88a2-4ff405a8718c",
   "metadata": {},
   "outputs": [],
   "source": [
    "def efficientAnagram(a, b):\n",
    "    if len(a) != len(b):\n",
    "        return 'Nope';\n",
    "    \n",
    "    # count array of size: 256, because 256 possible ASCII values\n",
    "    count = [0] * 256\n",
    "    \n",
    "    for i in range(len(a)):\n",
    "        count[ord(a[i])] += 1\n",
    "        count[ord(b[i])] -= 1\n",
    "    for x in count:\n",
    "        if x != 0:\n",
    "            return 'Nope'\n",
    "    return 'Yep'"
   ]
  },
  {
   "cell_type": "code",
   "execution_count": 293,
   "id": "908f424a-8b07-4214-b08d-8e0749945aff",
   "metadata": {},
   "outputs": [
    {
     "name": "stdout",
     "output_type": "stream",
     "text": [
      "True\n",
      "Yep\n"
     ]
    }
   ],
   "source": [
    "a = 'listen'\n",
    "b = 'silent'\n",
    "\n",
    "print(isAnagram(a, b) )\n",
    "print(efficientAnagram(a, b) )"
   ]
  },
  {
   "cell_type": "code",
   "execution_count": 295,
   "id": "e02c6436-25b0-40f9-868a-ee32a38d6e2d",
   "metadata": {},
   "outputs": [
    {
     "name": "stdout",
     "output_type": "stream",
     "text": [
      "Anagram\n"
     ]
    }
   ],
   "source": [
    "anagram(a, b)"
   ]
  },
  {
   "cell_type": "code",
   "execution_count": 271,
   "id": "62abe7ba-5364-4238-811a-bee14e9a8dd0",
   "metadata": {},
   "outputs": [
    {
     "name": "stdout",
     "output_type": "stream",
     "text": [
      "Anagram\n",
      "True\n",
      "Yep\n"
     ]
    }
   ],
   "source": [
    "a = 'a'\n",
    "b = 'a'\n",
    "\n",
    "anagram(a, b)\n",
    "print(isAnagram(a, b) )\n",
    "print(efficientAnagram(a, b) )"
   ]
  },
  {
   "cell_type": "code",
   "execution_count": 272,
   "id": "01212f74-a99a-47e1-a69c-99c4f90bbe64",
   "metadata": {},
   "outputs": [
    {
     "name": "stdout",
     "output_type": "stream",
     "text": [
      "Not Anagram\n",
      "False\n",
      "Nope\n"
     ]
    }
   ],
   "source": [
    "a = 'axb'\n",
    "b = 'aby'\n",
    "\n",
    "anagram(a, b)\n",
    "print(isAnagram(a, b) )\n",
    "print(efficientAnagram(a, b) )"
   ]
  },
  {
   "cell_type": "code",
   "execution_count": 273,
   "id": "63c6c727-b371-4645-9f9f-d68688142267",
   "metadata": {},
   "outputs": [
    {
     "name": "stdout",
     "output_type": "stream",
     "text": [
      "Not Anagram\n",
      "False\n",
      "Nope\n"
     ]
    }
   ],
   "source": [
    "a = 'aab'\n",
    "b = 'abb'\n",
    "\n",
    "anagram(a, b)\n",
    "print(isAnagram(a, b) )\n",
    "print(efficientAnagram(a, b) )"
   ]
  },
  {
   "cell_type": "code",
   "execution_count": 278,
   "id": "742034ca-2930-4b12-8cd6-1b0f17c6e1af",
   "metadata": {},
   "outputs": [
    {
     "name": "stdout",
     "output_type": "stream",
     "text": [
      "Not Anagram\n",
      "False\n",
      "Nope\n"
     ]
    }
   ],
   "source": [
    "a = 'aab'\n",
    "b = 'ab'\n",
    "\n",
    "print(anagram(a, b) )\n",
    "print(isAnagram(a, b) )\n",
    "print(efficientAnagram(a, b) )"
   ]
  },
  {
   "cell_type": "code",
   "execution_count": null,
   "id": "573f791b-43b4-4396-a15c-b11cb0b0b56a",
   "metadata": {},
   "outputs": [],
   "source": []
  }
 ],
 "metadata": {
  "kernelspec": {
   "display_name": "Python 3 (ipykernel)",
   "language": "python",
   "name": "python3"
  },
  "language_info": {
   "codemirror_mode": {
    "name": "ipython",
    "version": 3
   },
   "file_extension": ".py",
   "mimetype": "text/x-python",
   "name": "python",
   "nbconvert_exporter": "python",
   "pygments_lexer": "ipython3",
   "version": "3.9.12"
  }
 },
 "nbformat": 4,
 "nbformat_minor": 5
}
