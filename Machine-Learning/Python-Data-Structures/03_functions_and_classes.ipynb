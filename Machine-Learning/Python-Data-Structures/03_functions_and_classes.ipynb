{
 "cells": [
  {
   "cell_type": "markdown",
   "id": "efd3de08-332e-48eb-aeab-d99e002d7be2",
   "metadata": {},
   "source": [
    "# Functions\n",
    "\n",
    "In python, Functions are first class objects."
   ]
  },
  {
   "cell_type": "code",
   "execution_count": 7,
   "id": "cf73b034-c61c-4a19-b772-801d181f9802",
   "metadata": {},
   "outputs": [],
   "source": [
    "# Function\n",
    "def add_one(number):\n",
    "    number = number + 1\n",
    "    return number;\n",
    "\n",
    "def add_two(number):\n",
    "    number = number + 2\n",
    "    return number;"
   ]
  },
  {
   "cell_type": "code",
   "execution_count": 9,
   "id": "116b8ea4-6843-4775-9368-f48304fd5a13",
   "metadata": {},
   "outputs": [
    {
     "data": {
      "text/plain": [
       "2"
      ]
     },
     "execution_count": 9,
     "metadata": {},
     "output_type": "execute_result"
    }
   ],
   "source": [
    "# Call\n",
    "add_one(1)"
   ]
  },
  {
   "cell_type": "code",
   "execution_count": 8,
   "id": "d18ceef9-4abe-4206-a2e9-ecc2cec63f20",
   "metadata": {},
   "outputs": [
    {
     "data": {
      "text/plain": [
       "4"
      ]
     },
     "execution_count": 8,
     "metadata": {},
     "output_type": "execute_result"
    }
   ],
   "source": [
    "# Call\n",
    "add_two(2)"
   ]
  },
  {
   "cell_type": "markdown",
   "id": "2bf92139-4cbc-4fb4-8be0-cdd84c94ad74",
   "metadata": {},
   "source": [
    "## Inner Functions\n",
    "\n",
    "Whenever you call `parent()`, the inner functions `first_child()` and `second_child()` are also called. \n",
    "\n",
    "But because of their local scope, they aren’t available outside of the `parent()` function."
   ]
  },
  {
   "cell_type": "code",
   "execution_count": 18,
   "id": "50881b54-5caf-4ab2-b7f0-f9ab4e715ecb",
   "metadata": {},
   "outputs": [
    {
     "name": "stdout",
     "output_type": "stream",
     "text": [
      "Printing the parent() function\n",
      "|\n",
      "|--Printing the first_child() function\n",
      "|--Printing the second_child() function\n"
     ]
    }
   ],
   "source": [
    "def parent():\n",
    "    print(\"Printing the parent() function\")\n",
    "    print('|')\n",
    "    \n",
    "    def first_child():\n",
    "        print(\"|--Printing the first_child() function\")\n",
    "\n",
    "    def second_child():\n",
    "        print(\"|--Printing the second_child() function\")\n",
    "\n",
    "    # inner functions have to be called inside parent functions\n",
    "    first_child()\n",
    "    second_child()\n",
    "\n",
    "# Call\n",
    "parent()"
   ]
  },
  {
   "cell_type": "markdown",
   "id": "e47dfe80-1420-4c12-a19c-7ed9b2f97fac",
   "metadata": {},
   "source": [
    "## Tedious way of using decorators"
   ]
  },
  {
   "cell_type": "code",
   "execution_count": 4,
   "id": "48e656d1-4e10-4973-a724-ef437c6250f3",
   "metadata": {},
   "outputs": [
    {
     "name": "stdout",
     "output_type": "stream",
     "text": [
      "Before the function is called.\n",
      "Hello There!\n",
      "After the function is called.\n"
     ]
    }
   ],
   "source": [
    "def parent(func):\n",
    "    def child():\n",
    "        print(\"Before the function is called.\")\n",
    "        func()\n",
    "        print(\"After the function is called.\")\n",
    "    \n",
    "    return child();\n",
    "\n",
    "def function1():\n",
    "    print(\"Hello There!\")\n",
    "\n",
    "# Call\n",
    "parent(function1)"
   ]
  },
  {
   "cell_type": "markdown",
   "id": "9e682fc3-7cff-49f2-b37a-59d8a0bd8058",
   "metadata": {},
   "source": [
    "## Built-in Decorator Syntax\n",
    "Instead, Python allows you to use decorators in a simpler way with the `@` symbol, sometimes called the “pie” syntax."
   ]
  },
  {
   "cell_type": "code",
   "execution_count": 9,
   "id": "f3dc9a2e-2a94-49f2-a033-bd4bef435f7d",
   "metadata": {},
   "outputs": [
    {
     "name": "stdout",
     "output_type": "stream",
     "text": [
      "Before the function is called.\n",
      "Function 1 here, Hello There!\n",
      "After the function is called.\n"
     ]
    }
   ],
   "source": [
    "def parent(func):\n",
    "    def child():\n",
    "        print(\"Before the function is called.\")\n",
    "        func()\n",
    "        print(\"After the function is called.\")\n",
    "    \n",
    "    return child();\n",
    "\n",
    "@parent\n",
    "def function1():\n",
    "    print(\"Function 1 here, Hello There!\")"
   ]
  },
  {
   "cell_type": "markdown",
   "id": "6d62d785-f517-4d04-b56b-6c2cca5a1f6d",
   "metadata": {},
   "source": [
    "## Using Decorator to Measure Time Complexity"
   ]
  },
  {
   "cell_type": "code",
   "execution_count": 14,
   "id": "2349e490-9c2d-43a3-bb2a-3a661c8b10a1",
   "metadata": {},
   "outputs": [],
   "source": [
    "import functools\n",
    "import time\n",
    "\n",
    "def timer(func):\n",
    "    \"\"\"Print the runtime of the decorated function\"\"\"\n",
    "    @functools.wraps(func)\n",
    "    def wrapper_timer(*args, **kwargs):\n",
    "        start_time = time.perf_counter()    # 1\n",
    "        value = func(*args, **kwargs)\n",
    "        end_time = time.perf_counter()      # 2\n",
    "        run_time = end_time - start_time    # 3\n",
    "        print(f\"Finished {func.__name__!r} in {run_time:.4f} secs\")\n",
    "        return value\n",
    "    return wrapper_timer\n",
    "\n",
    "@timer\n",
    "def waste_some_time(num_times):\n",
    "    for _ in range(num_times):\n",
    "        sum([i**2 for i in range(10000)])"
   ]
  },
  {
   "cell_type": "code",
   "execution_count": 15,
   "id": "05989d3b-1ad5-4a52-9377-c5e37703fa7e",
   "metadata": {},
   "outputs": [
    {
     "name": "stdout",
     "output_type": "stream",
     "text": [
      "Finished 'waste_some_time' in 0.0077 secs\n"
     ]
    }
   ],
   "source": [
    "waste_some_time(1)"
   ]
  },
  {
   "cell_type": "code",
   "execution_count": 18,
   "id": "c216ab9d-2fbf-4051-944a-e344b52f55e4",
   "metadata": {},
   "outputs": [
    {
     "name": "stdout",
     "output_type": "stream",
     "text": [
      "Finished 'waste_some_time' in 0.5239 secs\n"
     ]
    }
   ],
   "source": [
    "waste_some_time(100)"
   ]
  },
  {
   "cell_type": "code",
   "execution_count": 19,
   "id": "55cc5baf-55dd-4838-8e1c-065a2928f16d",
   "metadata": {},
   "outputs": [
    {
     "name": "stdout",
     "output_type": "stream",
     "text": [
      "Finished 'waste_some_time' in 4.7373 secs\n"
     ]
    }
   ],
   "source": [
    "waste_some_time(1000)"
   ]
  },
  {
   "cell_type": "markdown",
   "id": "36b17cfd-6d04-4305-908e-bf1a30e870ec",
   "metadata": {},
   "source": [
    "# Classes\n",
    "\n",
    "A Class is like an object constructor, or a `blueprint` for creating subb-modules(functions) or objects. Basically breaking down a huge problem into simpler problems.\n",
    "\n",
    "This prevents us from writing the same code again and again."
   ]
  },
  {
   "cell_type": "code",
   "execution_count": 23,
   "id": "0cecc8c9-f290-4adc-b86a-f53f422b8979",
   "metadata": {},
   "outputs": [
    {
     "name": "stdout",
     "output_type": "stream",
     "text": [
      "40\n",
      "-20\n",
      "300\n"
     ]
    }
   ],
   "source": [
    "class calc:\n",
    "    # Add\n",
    "    def add(a, b):\n",
    "        c = a + b\n",
    "        return c;\n",
    "    \n",
    "    # Subtract\n",
    "    def subtract(a, b):\n",
    "        c = a - b\n",
    "        return c;\n",
    "    \n",
    "    # Multiply\n",
    "    def multiply(a, b):\n",
    "        c = a * b\n",
    "        return c;\n",
    "\n",
    "print(calc.add(10, 30))\n",
    "print(calc.subtract(10, 30))\n",
    "print(calc.multiply(10, 30))"
   ]
  },
  {
   "cell_type": "markdown",
   "id": "38981813-759b-4d15-b2b4-9b81d6d871c2",
   "metadata": {},
   "source": [
    "## `__init__` Function\n",
    "\n",
    "The `self` parameter is a reference to the current instance of the class, and is used to access variables that belongs to the class."
   ]
  },
  {
   "cell_type": "code",
   "execution_count": 37,
   "id": "49ca3566-b588-45b9-8c56-3d51fbd5837c",
   "metadata": {},
   "outputs": [
    {
     "name": "stdout",
     "output_type": "stream",
     "text": [
      "John\n",
      "Serjey\n",
      "kek\n",
      "20\n",
      "30\n",
      "25\n"
     ]
    }
   ],
   "source": [
    "class person:\n",
    "    def __init__(self, name, age):\n",
    "            self.name = name\n",
    "            self.age = age\n",
    "\n",
    "# Inputting Data\n",
    "p1 = person('John', 20)\n",
    "p2 = person('Serjey', 30)\n",
    "p3 = person('kek', 25)\n",
    "\n",
    "# Magic\n",
    "print(p1.name)\n",
    "print(p2.name)\n",
    "print(p3.name)\n",
    "\n",
    "print(p1.age)\n",
    "print(p2.age)\n",
    "print(p3.age)"
   ]
  },
  {
   "cell_type": "code",
   "execution_count": 38,
   "id": "743ff222-d3f4-43ab-8437-154c35abb6d1",
   "metadata": {},
   "outputs": [
    {
     "name": "stdout",
     "output_type": "stream",
     "text": [
      "20\n",
      "40\n"
     ]
    }
   ],
   "source": [
    "# Before modification\n",
    "print(p1.age)\n",
    "\n",
    "# Age of person 1 or any instance can be modified\n",
    "p1.age = 40\n",
    "\n",
    "# After modification\n",
    "print(p1.age)"
   ]
  },
  {
   "cell_type": "code",
   "execution_count": null,
   "id": "f2a9e733-de6c-44e1-ae10-6d92827e2b25",
   "metadata": {},
   "outputs": [],
   "source": []
  },
  {
   "cell_type": "code",
   "execution_count": null,
   "id": "6f7b7102-52e2-426c-a005-0956c3fadf1a",
   "metadata": {},
   "outputs": [],
   "source": []
  },
  {
   "cell_type": "code",
   "execution_count": null,
   "id": "2b7f5eb9-3735-4f39-ac4f-fae495b20a7e",
   "metadata": {},
   "outputs": [],
   "source": []
  }
 ],
 "metadata": {
  "kernelspec": {
   "display_name": "Python 3 (ipykernel)",
   "language": "python",
   "name": "python3"
  },
  "language_info": {
   "codemirror_mode": {
    "name": "ipython",
    "version": 3
   },
   "file_extension": ".py",
   "mimetype": "text/x-python",
   "name": "python",
   "nbconvert_exporter": "python",
   "pygments_lexer": "ipython3",
   "version": "3.9.12"
  }
 },
 "nbformat": 4,
 "nbformat_minor": 5
}
