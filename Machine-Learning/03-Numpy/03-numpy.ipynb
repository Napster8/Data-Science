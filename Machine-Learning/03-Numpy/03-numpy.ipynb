{
 "cells": [
  {
   "cell_type": "markdown",
   "id": "e653e98a-36c6-46fc-b740-cbb507020ac3",
   "metadata": {},
   "source": [
    "***\n",
    "<b>Author:</b> Raghavendra Tapas\n",
    "\n",
    "<b>Updated On:</b> May 2021\n",
    "\n",
    "<b>Context:</b>  Syntax Introduction to `NumPy`\n",
    "\n",
    "Feel free to reach out to me on __[Twitter](https://twitter.com/raghutapas12)__ for any corrections or additional updates!\n",
    "***"
   ]
  },
  {
   "cell_type": "markdown",
   "id": "4791bb55-faab-4639-9843-5356c3d8c5d1",
   "metadata": {},
   "source": [
    "# NumPy"
   ]
  },
  {
   "cell_type": "code",
   "execution_count": 1,
   "id": "d4ff8efd-5b72-4363-bda6-767effb301ee",
   "metadata": {},
   "outputs": [],
   "source": [
    "import numpy as np\n",
    "import pandas as pd"
   ]
  },
  {
   "cell_type": "markdown",
   "id": "d969c390-e54a-4628-958a-d0033759aeb0",
   "metadata": {},
   "source": [
    "## DataTypes and Attributes"
   ]
  },
  {
   "cell_type": "code",
   "execution_count": 2,
   "id": "634cdeac-580b-47e2-8560-e6d3de01fa0b",
   "metadata": {},
   "outputs": [],
   "source": [
    "# NumPy's main datatype is ndarray\n",
    "\n",
    "a1 = np.array([1,2,3])"
   ]
  },
  {
   "cell_type": "code",
   "execution_count": 3,
   "id": "78b9b6d4-a0ec-4380-b125-30e10cec6e52",
   "metadata": {},
   "outputs": [
    {
     "data": {
      "text/plain": [
       "numpy.ndarray"
      ]
     },
     "execution_count": 3,
     "metadata": {},
     "output_type": "execute_result"
    }
   ],
   "source": [
    "type(a1)"
   ]
  },
  {
   "cell_type": "code",
   "execution_count": 4,
   "id": "1e9a3920-2cd4-49f7-ab49-d9778fb2c369",
   "metadata": {},
   "outputs": [
    {
     "data": {
      "text/plain": [
       "array([[1, 2, 3],\n",
       "       [4, 5, 6],\n",
       "       [6, 7, 8]])"
      ]
     },
     "execution_count": 4,
     "metadata": {},
     "output_type": "execute_result"
    }
   ],
   "source": [
    "a2 = np.array([[1,2,3],\n",
    "             [4,5,6],\n",
    "             [6,7,8]])\n",
    "a2"
   ]
  },
  {
   "cell_type": "markdown",
   "id": "89ed9d7c-b286-422f-ae1d-ec5f19894909",
   "metadata": {},
   "source": [
    "## Creating Arrays"
   ]
  },
  {
   "cell_type": "code",
   "execution_count": 5,
   "id": "99aaad67-c5fc-4193-855f-b16258c79826",
   "metadata": {},
   "outputs": [
    {
     "data": {
      "text/plain": [
       "array([1, 2, 3])"
      ]
     },
     "execution_count": 5,
     "metadata": {},
     "output_type": "execute_result"
    }
   ],
   "source": [
    "sample_array = np.array([1,2,3])\n",
    "sample_array"
   ]
  },
  {
   "cell_type": "code",
   "execution_count": 6,
   "id": "1f514c88-fb42-4504-8fee-fe80e37eb1da",
   "metadata": {},
   "outputs": [
    {
     "data": {
      "text/plain": [
       "array([[1., 1., 1.],\n",
       "       [1., 1., 1.]])"
      ]
     },
     "execution_count": 6,
     "metadata": {},
     "output_type": "execute_result"
    }
   ],
   "source": [
    "# Creating a Matrix containing 1's\n",
    "ones = np.ones((2,3))\n",
    "ones"
   ]
  },
  {
   "cell_type": "code",
   "execution_count": 7,
   "id": "3cb6932c-1ecd-4713-a11f-c48fe9f822ed",
   "metadata": {},
   "outputs": [
    {
     "data": {
      "text/plain": [
       "dtype('float64')"
      ]
     },
     "execution_count": 7,
     "metadata": {},
     "output_type": "execute_result"
    }
   ],
   "source": [
    "ones.dtype"
   ]
  },
  {
   "cell_type": "code",
   "execution_count": 8,
   "id": "3e44aa52-1311-4960-8856-59e71febae38",
   "metadata": {},
   "outputs": [
    {
     "data": {
      "text/plain": [
       "array([[[0., 0., 0., 0.],\n",
       "        [0., 0., 0., 0.],\n",
       "        [0., 0., 0., 0.]],\n",
       "\n",
       "       [[0., 0., 0., 0.],\n",
       "        [0., 0., 0., 0.],\n",
       "        [0., 0., 0., 0.]]])"
      ]
     },
     "execution_count": 8,
     "metadata": {},
     "output_type": "execute_result"
    }
   ],
   "source": [
    "# Creating a Matrix containing 0's, 3 dimensional\n",
    "zeros = np.zeros((2,3,4))\n",
    "zeros"
   ]
  },
  {
   "cell_type": "code",
   "execution_count": 9,
   "id": "5b8a6b20-efe3-44e5-9988-1adedd9d4ddc",
   "metadata": {},
   "outputs": [
    {
     "data": {
      "text/plain": [
       "array([0, 2, 4, 6, 8])"
      ]
     },
     "execution_count": 9,
     "metadata": {},
     "output_type": "execute_result"
    }
   ],
   "source": [
    "# np.arange(start:stop:step)\n",
    "range_array = np.arange(0,10,2)\n",
    "range_array"
   ]
  },
  {
   "cell_type": "code",
   "execution_count": 10,
   "id": "ad7c1e5b-cd54-4aa4-a0d7-0d5f343942c7",
   "metadata": {},
   "outputs": [
    {
     "data": {
      "text/plain": [
       "array([ 0,  2,  4,  6,  8, 10])"
      ]
     },
     "execution_count": 10,
     "metadata": {},
     "output_type": "execute_result"
    }
   ],
   "source": [
    "range_array = np.arange(0,11,2)\n",
    "range_array"
   ]
  },
  {
   "cell_type": "code",
   "execution_count": 11,
   "id": "cf2d6e23-842b-4949-9c84-6e426c73c204",
   "metadata": {},
   "outputs": [
    {
     "data": {
      "text/plain": [
       "array([[7, 3, 7, 9, 6],\n",
       "       [3, 9, 2, 5, 4],\n",
       "       [3, 3, 7, 5, 1]])"
      ]
     },
     "execution_count": 11,
     "metadata": {},
     "output_type": "execute_result"
    }
   ],
   "source": [
    "random_array = np.random.randint(0, 10, size = (3,5))\n",
    "random_array"
   ]
  },
  {
   "cell_type": "code",
   "execution_count": 12,
   "id": "ab637f6f-c95d-4c9e-8a3f-48bd87b266a3",
   "metadata": {},
   "outputs": [
    {
     "data": {
      "text/plain": [
       "array([[0.71832876, 0.12493105, 0.73606102],\n",
       "       [0.30388106, 0.35059453, 0.16359319],\n",
       "       [0.91119101, 0.2334643 , 0.42472491],\n",
       "       [0.57874416, 0.6779144 , 0.37640605],\n",
       "       [0.54742404, 0.11664565, 0.14639244]])"
      ]
     },
     "execution_count": 12,
     "metadata": {},
     "output_type": "execute_result"
    }
   ],
   "source": [
    "# random array of value ranging from 0 to 1\n",
    "rd_array2 = np.random.random((5,3))\n",
    "rd_array2"
   ]
  },
  {
   "cell_type": "code",
   "execution_count": 13,
   "id": "3ce942ac-bdaf-4841-9db3-b4be4d4d2a10",
   "metadata": {},
   "outputs": [
    {
     "data": {
      "text/plain": [
       "array([[5, 8, 9],\n",
       "       [5, 0, 0],\n",
       "       [1, 7, 6],\n",
       "       [9, 2, 4],\n",
       "       [5, 2, 4]])"
      ]
     },
     "execution_count": 13,
     "metadata": {},
     "output_type": "execute_result"
    }
   ],
   "source": [
    "# Pseudo Random numbers. To create same random numbers everytime\n",
    "\n",
    "np.random.seed(1)\n",
    "array1 = np.random.randint(10,size=(5,3))\n",
    "array1"
   ]
  },
  {
   "cell_type": "code",
   "execution_count": 14,
   "id": "58ce488b-e11c-4d47-90ce-605af53ab6ff",
   "metadata": {},
   "outputs": [
    {
     "data": {
      "text/plain": [
       "array([[0.4359949 , 0.02592623, 0.54966248],\n",
       "       [0.43532239, 0.4203678 , 0.33033482],\n",
       "       [0.20464863, 0.61927097, 0.29965467],\n",
       "       [0.26682728, 0.62113383, 0.52914209],\n",
       "       [0.13457995, 0.51357812, 0.18443987]])"
      ]
     },
     "execution_count": 14,
     "metadata": {},
     "output_type": "execute_result"
    }
   ],
   "source": [
    "np.random.seed(2)\n",
    "array2 = np.random.random((5,3))\n",
    "array2"
   ]
  },
  {
   "cell_type": "code",
   "execution_count": 15,
   "id": "e8a98920-b868-4207-bae4-d0dfa691f9c3",
   "metadata": {},
   "outputs": [
    {
     "data": {
      "text/plain": [
       "array([[0.37454012, 0.95071431, 0.73199394],\n",
       "       [0.59865848, 0.15601864, 0.15599452],\n",
       "       [0.05808361, 0.86617615, 0.60111501],\n",
       "       [0.70807258, 0.02058449, 0.96990985],\n",
       "       [0.83244264, 0.21233911, 0.18182497]])"
      ]
     },
     "execution_count": 15,
     "metadata": {},
     "output_type": "execute_result"
    }
   ],
   "source": [
    "# seed number could be anything\n",
    "np.random.seed(seed=42)\n",
    "array2 = np.random.random((5,3))\n",
    "array2"
   ]
  },
  {
   "cell_type": "markdown",
   "id": "291a8f33-fd76-4220-bd5c-31672de58cae",
   "metadata": {},
   "source": [
    "## Viewing arrays and Matrices"
   ]
  },
  {
   "cell_type": "code",
   "execution_count": 16,
   "id": "4610f899-a26e-4f04-bcb5-d0fe947ae341",
   "metadata": {},
   "outputs": [
    {
     "data": {
      "text/plain": [
       "array([[5, 8, 9],\n",
       "       [5, 0, 0],\n",
       "       [1, 7, 6],\n",
       "       [9, 2, 4],\n",
       "       [5, 2, 4]])"
      ]
     },
     "execution_count": 16,
     "metadata": {},
     "output_type": "execute_result"
    }
   ],
   "source": [
    "array1"
   ]
  },
  {
   "cell_type": "code",
   "execution_count": 17,
   "id": "2c41cb3b-9ba2-4d9d-ad08-e37a00cde10d",
   "metadata": {},
   "outputs": [
    {
     "data": {
      "text/plain": [
       "array([0, 1, 2, 4, 5, 6, 7, 8, 9])"
      ]
     },
     "execution_count": 17,
     "metadata": {},
     "output_type": "execute_result"
    }
   ],
   "source": [
    "# np.unique returns unique or distinct objects of array\n",
    "np.unique(array1)"
   ]
  },
  {
   "cell_type": "code",
   "execution_count": 18,
   "id": "d1954665-973f-4479-964d-4257b415c514",
   "metadata": {},
   "outputs": [
    {
     "data": {
      "text/plain": [
       "array([[[[3, 6, 6, 0, 9],\n",
       "         [8, 4, 7, 0, 0],\n",
       "         [7, 1, 5, 7, 0],\n",
       "         [1, 4, 6, 2, 9]],\n",
       "\n",
       "        [[9, 9, 9, 1, 2],\n",
       "         [7, 0, 5, 0, 0],\n",
       "         [4, 4, 9, 3, 2],\n",
       "         [4, 6, 9, 3, 3]],\n",
       "\n",
       "        [[2, 1, 5, 7, 4],\n",
       "         [3, 1, 7, 3, 1],\n",
       "         [9, 5, 7, 0, 9],\n",
       "         [6, 0, 5, 2, 8]]],\n",
       "\n",
       "\n",
       "       [[[6, 8, 0, 5, 2],\n",
       "         [0, 7, 7, 6, 0],\n",
       "         [0, 8, 5, 5, 9],\n",
       "         [6, 4, 5, 2, 8]],\n",
       "\n",
       "        [[8, 1, 6, 3, 4],\n",
       "         [1, 8, 0, 2, 2],\n",
       "         [4, 1, 6, 3, 4],\n",
       "         [3, 1, 4, 2, 3]],\n",
       "\n",
       "        [[4, 9, 4, 0, 6],\n",
       "         [6, 9, 2, 9, 3],\n",
       "         [0, 8, 8, 9, 7],\n",
       "         [4, 8, 6, 8, 0]]]])"
      ]
     },
     "execution_count": 18,
     "metadata": {},
     "output_type": "execute_result"
    }
   ],
   "source": [
    "# Exercise filtering a part of a 4 dimensional array\n",
    "np.random.seed(5)\n",
    "a4 = np.random.randint(10, size=(2,3,4,5))\n",
    "a4"
   ]
  },
  {
   "cell_type": "code",
   "execution_count": 19,
   "id": "7ed196c3-0cf8-4484-8349-2a80152a0ca7",
   "metadata": {},
   "outputs": [
    {
     "data": {
      "text/plain": [
       "((2, 3, 4, 5), 4)"
      ]
     },
     "execution_count": 19,
     "metadata": {},
     "output_type": "execute_result"
    }
   ],
   "source": [
    "a4.shape, a4.ndim"
   ]
  },
  {
   "cell_type": "code",
   "execution_count": 20,
   "id": "d5b18078-60fb-42cc-b2b2-117854cd44b0",
   "metadata": {},
   "outputs": [
    {
     "data": {
      "text/plain": [
       "array([[[[3, 6, 6],\n",
       "         [8, 4, 7],\n",
       "         [7, 1, 5],\n",
       "         [1, 4, 6]],\n",
       "\n",
       "        [[9, 9, 9],\n",
       "         [7, 0, 5],\n",
       "         [4, 4, 9],\n",
       "         [4, 6, 9]],\n",
       "\n",
       "        [[2, 1, 5],\n",
       "         [3, 1, 7],\n",
       "         [9, 5, 7],\n",
       "         [6, 0, 5]]],\n",
       "\n",
       "\n",
       "       [[[6, 8, 0],\n",
       "         [0, 7, 7],\n",
       "         [0, 8, 5],\n",
       "         [6, 4, 5]],\n",
       "\n",
       "        [[8, 1, 6],\n",
       "         [1, 8, 0],\n",
       "         [4, 1, 6],\n",
       "         [3, 1, 4]],\n",
       "\n",
       "        [[4, 9, 4],\n",
       "         [6, 9, 2],\n",
       "         [0, 8, 8],\n",
       "         [4, 8, 6]]]])"
      ]
     },
     "execution_count": 20,
     "metadata": {},
     "output_type": "execute_result"
    }
   ],
   "source": [
    "# get the first 3 number of inner most arrays of a4\n",
    "a4[: , :, :, :3]"
   ]
  },
  {
   "cell_type": "markdown",
   "id": "dfbc71e3-1126-41fa-a354-2f281383a9f3",
   "metadata": {},
   "source": [
    "## Manipulating Arrays"
   ]
  },
  {
   "cell_type": "markdown",
   "id": "5df8c0e4-051b-4a65-a039-52af9ff9fa05",
   "metadata": {},
   "source": [
    "### Basic Operators"
   ]
  },
  {
   "cell_type": "code",
   "execution_count": 21,
   "id": "43167d6d-c0fb-4fb7-9bf0-251eb74100e4",
   "metadata": {},
   "outputs": [
    {
     "data": {
      "text/plain": [
       "array([1, 2, 3])"
      ]
     },
     "execution_count": 21,
     "metadata": {},
     "output_type": "execute_result"
    }
   ],
   "source": [
    "a1"
   ]
  },
  {
   "cell_type": "code",
   "execution_count": 22,
   "id": "3b33fb7f-233e-4acd-b536-57501a61a0a7",
   "metadata": {},
   "outputs": [
    {
     "data": {
      "text/plain": [
       "array([5, 6, 7])"
      ]
     },
     "execution_count": 22,
     "metadata": {},
     "output_type": "execute_result"
    }
   ],
   "source": [
    "# adding 4 to all elements of array\n",
    "\n",
    "a1 + 4"
   ]
  },
  {
   "cell_type": "code",
   "execution_count": 23,
   "id": "a2e433a6-dbdd-45f6-a0e9-2c48ec9c1ea4",
   "metadata": {},
   "outputs": [
    {
     "data": {
      "text/plain": [
       "array([-3, -2, -1])"
      ]
     },
     "execution_count": 23,
     "metadata": {},
     "output_type": "execute_result"
    }
   ],
   "source": [
    "# subtracting 4 from all elements of array\n",
    "a1 - 4"
   ]
  },
  {
   "cell_type": "code",
   "execution_count": 24,
   "id": "93145d9d-8f40-4d6a-b0a6-b9395edf313d",
   "metadata": {},
   "outputs": [
    {
     "data": {
      "text/plain": [
       "array([ 4,  8, 12])"
      ]
     },
     "execution_count": 24,
     "metadata": {},
     "output_type": "execute_result"
    }
   ],
   "source": [
    "a1 * 4"
   ]
  },
  {
   "cell_type": "code",
   "execution_count": 25,
   "id": "cf72c1aa-6935-46bd-addc-5cb1c766da3c",
   "metadata": {},
   "outputs": [
    {
     "data": {
      "text/plain": [
       "array([0.25, 0.5 , 0.75])"
      ]
     },
     "execution_count": 25,
     "metadata": {},
     "output_type": "execute_result"
    }
   ],
   "source": [
    "a1 / 4"
   ]
  },
  {
   "cell_type": "code",
   "execution_count": 26,
   "id": "16258d45-9065-4fd0-8a35-bf6afa9ed7d1",
   "metadata": {},
   "outputs": [
    {
     "data": {
      "text/plain": [
       "array([0, 0, 0], dtype=int32)"
      ]
     },
     "execution_count": 26,
     "metadata": {},
     "output_type": "execute_result"
    }
   ],
   "source": [
    "# floor division removes the decimels\n",
    "a1 // 4"
   ]
  },
  {
   "cell_type": "code",
   "execution_count": 27,
   "id": "d5a3187e-824c-4703-af22-1937049fbcd8",
   "metadata": {},
   "outputs": [
    {
     "data": {
      "text/plain": [
       "array([1, 4, 9], dtype=int32)"
      ]
     },
     "execution_count": 27,
     "metadata": {},
     "output_type": "execute_result"
    }
   ],
   "source": [
    "a1 ** 2"
   ]
  },
  {
   "cell_type": "code",
   "execution_count": 28,
   "id": "b720a9c9-ca80-49a7-bc78-09a836c774a3",
   "metadata": {},
   "outputs": [
    {
     "data": {
      "text/plain": [
       "array([1, 0, 1], dtype=int32)"
      ]
     },
     "execution_count": 28,
     "metadata": {},
     "output_type": "execute_result"
    }
   ],
   "source": [
    "# modulo shows us the element wise remainders. modulo \n",
    "a1 % 2"
   ]
  },
  {
   "cell_type": "code",
   "execution_count": 29,
   "id": "f5109acf-f463-4c5a-8fdc-8c0ed2893c70",
   "metadata": {},
   "outputs": [
    {
     "data": {
      "text/plain": [
       "array([ 2.71828183,  7.3890561 , 20.08553692])"
      ]
     },
     "execution_count": 29,
     "metadata": {},
     "output_type": "execute_result"
    }
   ],
   "source": [
    "np.exp(a1)"
   ]
  },
  {
   "cell_type": "code",
   "execution_count": 30,
   "id": "02550de9-2702-47db-b3bd-ebd9f7e10afa",
   "metadata": {},
   "outputs": [
    {
     "data": {
      "text/plain": [
       "array([0.        , 0.69314718, 1.09861229])"
      ]
     },
     "execution_count": 30,
     "metadata": {},
     "output_type": "execute_result"
    }
   ],
   "source": [
    "np.log(a1)"
   ]
  },
  {
   "cell_type": "markdown",
   "id": "ea1099ab-d0d6-41d0-bf6e-c995621211e3",
   "metadata": {},
   "source": [
    "### Aggregation"
   ]
  },
  {
   "cell_type": "markdown",
   "id": "04e5a2ec-68e6-4cdc-b769-ad053f425844",
   "metadata": {},
   "source": [
    "Performing the same operation on a number of things.\n",
    "\n",
    "Use Python's methods on (`sum()`) Python datatypes and use NumPy's methods on NumPy arrays(`np.sum()`)"
   ]
  },
  {
   "cell_type": "code",
   "execution_count": 31,
   "id": "c3cd12d0-2481-4422-8ddd-85077bc40654",
   "metadata": {},
   "outputs": [
    {
     "data": {
      "text/plain": [
       "100000"
      ]
     },
     "execution_count": 31,
     "metadata": {},
     "output_type": "execute_result"
    }
   ],
   "source": [
    "# Create a big NumPy Array\n",
    "big_array = np.random.random(100000)\n",
    "big_array.size"
   ]
  },
  {
   "cell_type": "code",
   "execution_count": 32,
   "id": "deaa6c9b-cdec-4cde-bdb7-dff89ea2ef11",
   "metadata": {},
   "outputs": [
    {
     "data": {
      "text/plain": [
       "array([0.80140153, 0.0539621 , 0.19047777, 0.45241885, 0.70294208,\n",
       "       0.33204815, 0.3599832 , 0.92147057, 0.95363051, 0.40768573])"
      ]
     },
     "execution_count": 32,
     "metadata": {},
     "output_type": "execute_result"
    }
   ],
   "source": [
    "# limited view\n",
    "big_array[:10]"
   ]
  },
  {
   "cell_type": "code",
   "execution_count": 33,
   "id": "72d02a6e-b408-493e-b029-d078b3e232fd",
   "metadata": {},
   "outputs": [
    {
     "name": "stdout",
     "output_type": "stream",
     "text": [
      "13.4 ms ± 1.29 ms per loop (mean ± std. dev. of 7 runs, 100 loops each)\n",
      "78.5 µs ± 6.81 µs per loop (mean ± std. dev. of 7 runs, 10000 loops each)\n"
     ]
    }
   ],
   "source": [
    "%timeit sum(big_array)  #Python's sum()\n",
    "\n",
    "%timeit np.sum(big_array) # NumPy's np.sum()"
   ]
  },
  {
   "cell_type": "code",
   "execution_count": 34,
   "id": "060e4676-ea94-4fd2-a9c5-8d1290bc11b8",
   "metadata": {},
   "outputs": [
    {
     "name": "stdout",
     "output_type": "stream",
     "text": [
      "NumPy's sum is 169.23076923076923 times faster than Python's sum function\n"
     ]
    }
   ],
   "source": [
    "a = 13200/78\n",
    "print(f\"NumPy's sum is {a} times faster than Python's sum function\")"
   ]
  },
  {
   "cell_type": "markdown",
   "id": "dc13251b-37ff-40aa-abf6-d41a7c2da405",
   "metadata": {},
   "source": [
    "### Reshape"
   ]
  },
  {
   "cell_type": "code",
   "execution_count": 35,
   "id": "80df4e2d-ff92-4588-bcac-873bf9796611",
   "metadata": {},
   "outputs": [
    {
     "data": {
      "text/plain": [
       "array([[ 1,  2,  3],\n",
       "       [ 4,  5,  6],\n",
       "       [ 7,  8,  9],\n",
       "       [10, 11, 12]])"
      ]
     },
     "execution_count": 35,
     "metadata": {},
     "output_type": "execute_result"
    }
   ],
   "source": [
    "# numpy.reshape(a, newshape, order='C'):\n",
    "# Gives a new shape to an array without changing its data.\n",
    "\n",
    "# a2 is a 1D NumPy array\n",
    "a2 = np.array([1, 2, 3, 4, 5, 6, 7, 8, 9, 10, 11, 12])\n",
    "\n",
    "# reshape it into a 4*3 matrix\n",
    "a2.reshape(4,3)"
   ]
  },
  {
   "cell_type": "code",
   "execution_count": 36,
   "id": "eb5edafc-795c-4005-8d7d-8a7931eecc07",
   "metadata": {},
   "outputs": [
    {
     "data": {
      "text/plain": [
       "array([[ 1,  2,  3,  4],\n",
       "       [ 5,  6,  7,  8],\n",
       "       [ 9, 10, 11, 12]])"
      ]
     },
     "execution_count": 36,
     "metadata": {},
     "output_type": "execute_result"
    }
   ],
   "source": [
    "# a2 is a 1D NumPy array\n",
    "a2 = np.array([1, 2, 3, 4, 5, 6, 7, 8, 9, 10, 11, 12])\n",
    "\n",
    "# reshape it into a 3*4 (rows * columns) matrix\n",
    "a2.reshape(3,4)"
   ]
  },
  {
   "cell_type": "markdown",
   "id": "e6755d53-9cf4-4ad2-a265-a8c543662d8d",
   "metadata": {},
   "source": [
    "### Transpose"
   ]
  },
  {
   "cell_type": "code",
   "execution_count": 37,
   "id": "c6d8b354-407a-4058-a4a2-3c1a0da01b2f",
   "metadata": {},
   "outputs": [
    {
     "data": {
      "text/plain": [
       "array([[1, 2, 3],\n",
       "       [4, 5, 6]])"
      ]
     },
     "execution_count": 37,
     "metadata": {},
     "output_type": "execute_result"
    }
   ],
   "source": [
    "a2 = np.array([[1,2,3],[4,5,6]])\n",
    "a2"
   ]
  },
  {
   "cell_type": "code",
   "execution_count": 38,
   "id": "0e52c456-b665-4871-995c-d53d5a479fa3",
   "metadata": {},
   "outputs": [
    {
     "data": {
      "text/plain": [
       "array([[1, 4],\n",
       "       [2, 5],\n",
       "       [3, 6]])"
      ]
     },
     "execution_count": 38,
     "metadata": {},
     "output_type": "execute_result"
    }
   ],
   "source": [
    "# Transposing matrices\n",
    "a2.T"
   ]
  },
  {
   "cell_type": "markdown",
   "id": "9da9e53a-3f56-474a-b8d2-cceb8abaa6ec",
   "metadata": {},
   "source": [
    "### Dot Product"
   ]
  },
  {
   "cell_type": "code",
   "execution_count": 39,
   "id": "421817fa-4cb3-4007-91e2-280d98c56f03",
   "metadata": {},
   "outputs": [
    {
     "data": {
      "text/plain": [
       "array([[9, 3],\n",
       "       [4, 0],\n",
       "       [9, 1]])"
      ]
     },
     "execution_count": 39,
     "metadata": {},
     "output_type": "execute_result"
    }
   ],
   "source": [
    "np.random.seed(6)\n",
    "\n",
    "mat1 = np.random.randint(10, size = (3, 2))\n",
    "mat1"
   ]
  },
  {
   "cell_type": "code",
   "execution_count": 40,
   "id": "eecfeeba-69cc-4b3b-8efc-2ef805b64c81",
   "metadata": {},
   "outputs": [
    {
     "data": {
      "text/plain": [
       "array([[4, 9, 6],\n",
       "       [3, 3, 7]])"
      ]
     },
     "execution_count": 40,
     "metadata": {},
     "output_type": "execute_result"
    }
   ],
   "source": [
    "np.random.seed(7)\n",
    "mat2 = np.random.randint(10, size = (2, 3))\n",
    "mat2"
   ]
  },
  {
   "cell_type": "markdown",
   "id": "f8d77d5d-19a2-4a20-99fc-a41ab499bd3b",
   "metadata": {},
   "source": [
    "shape of both the matrices is as follows\n",
    "(m * `n`) multiplied by (`n` * l) "
   ]
  },
  {
   "cell_type": "code",
   "execution_count": 41,
   "id": "6d719dac-fe99-4a5f-ac97-fb9e16b91b06",
   "metadata": {},
   "outputs": [
    {
     "data": {
      "text/plain": [
       "((3, 2), (2, 3))"
      ]
     },
     "execution_count": 41,
     "metadata": {},
     "output_type": "execute_result"
    }
   ],
   "source": [
    "mat1.shape, mat2.shape"
   ]
  },
  {
   "cell_type": "code",
   "execution_count": 42,
   "id": "ae0d3cf7-d2e0-40b0-ae23-f14437357482",
   "metadata": {},
   "outputs": [
    {
     "data": {
      "text/plain": [
       "array([[45, 90, 75],\n",
       "       [16, 36, 24],\n",
       "       [39, 84, 61]])"
      ]
     },
     "execution_count": 42,
     "metadata": {},
     "output_type": "execute_result"
    }
   ],
   "source": [
    "mat3 = np.dot(mat1,mat2)\n",
    "mat3"
   ]
  },
  {
   "cell_type": "markdown",
   "id": "f70f78a2-b801-4826-afa8-0e881bab700d",
   "metadata": {},
   "source": [
    "## Exercise: Store Sales"
   ]
  },
  {
   "cell_type": "code",
   "execution_count": 44,
   "id": "028cbb2b-9899-4cdc-9cbd-6a408dadfd6a",
   "metadata": {
    "tags": []
   },
   "outputs": [
    {
     "data": {
      "text/html": [
       "<div>\n",
       "<style scoped>\n",
       "    .dataframe tbody tr th:only-of-type {\n",
       "        vertical-align: middle;\n",
       "    }\n",
       "\n",
       "    .dataframe tbody tr th {\n",
       "        vertical-align: top;\n",
       "    }\n",
       "\n",
       "    .dataframe thead th {\n",
       "        text-align: right;\n",
       "    }\n",
       "</style>\n",
       "<table border=\"1\" class=\"dataframe\">\n",
       "  <thead>\n",
       "    <tr style=\"text-align: right;\">\n",
       "      <th></th>\n",
       "      <th>Almond</th>\n",
       "      <th>Peanut</th>\n",
       "      <th>Cashew</th>\n",
       "    </tr>\n",
       "  </thead>\n",
       "  <tbody>\n",
       "    <tr>\n",
       "      <th>Mon</th>\n",
       "      <td>2</td>\n",
       "      <td>7</td>\n",
       "      <td>1</td>\n",
       "    </tr>\n",
       "    <tr>\n",
       "      <th>Tues</th>\n",
       "      <td>9</td>\n",
       "      <td>4</td>\n",
       "      <td>16</td>\n",
       "    </tr>\n",
       "    <tr>\n",
       "      <th>Wed</th>\n",
       "      <td>11</td>\n",
       "      <td>14</td>\n",
       "      <td>18</td>\n",
       "    </tr>\n",
       "    <tr>\n",
       "      <th>Thu</th>\n",
       "      <td>13</td>\n",
       "      <td>13</td>\n",
       "      <td>16</td>\n",
       "    </tr>\n",
       "    <tr>\n",
       "      <th>Fri</th>\n",
       "      <td>15</td>\n",
       "      <td>18</td>\n",
       "      <td>9</td>\n",
       "    </tr>\n",
       "  </tbody>\n",
       "</table>\n",
       "</div>"
      ],
      "text/plain": [
       "      Almond  Peanut  Cashew\n",
       "Mon        2       7       1\n",
       "Tues       9       4      16\n",
       "Wed       11      14      18\n",
       "Thu       13      13      16\n",
       "Fri       15      18       9"
      ]
     },
     "execution_count": 44,
     "metadata": {},
     "output_type": "execute_result"
    }
   ],
   "source": [
    "sales_amounts = np.array([[2,7,1],\n",
    "                         [9,4,16],\n",
    "                         [11,14,18],\n",
    "                         [13,13,16],\n",
    "                         [15,18,9]])\n",
    "\n",
    "weekly_sales = pd.DataFrame(sales_amounts, \n",
    "                            index = [\"Mon\", \"Tues\", \"Wed\", \"Thu\",\"Fri\"],\n",
    "                            columns = [\"Almond\",\"Peanut\",\"Cashew\"])\n",
    "\n",
    "\n",
    "weekly_sales\n"
   ]
  },
  {
   "cell_type": "code",
   "execution_count": 45,
   "id": "40653dbe-f96c-46e4-996b-dda1cc3676a8",
   "metadata": {},
   "outputs": [
    {
     "data": {
      "text/html": [
       "<div>\n",
       "<style scoped>\n",
       "    .dataframe tbody tr th:only-of-type {\n",
       "        vertical-align: middle;\n",
       "    }\n",
       "\n",
       "    .dataframe tbody tr th {\n",
       "        vertical-align: top;\n",
       "    }\n",
       "\n",
       "    .dataframe thead th {\n",
       "        text-align: right;\n",
       "    }\n",
       "</style>\n",
       "<table border=\"1\" class=\"dataframe\">\n",
       "  <thead>\n",
       "    <tr style=\"text-align: right;\">\n",
       "      <th></th>\n",
       "      <th>Almond</th>\n",
       "      <th>Peanut</th>\n",
       "      <th>Cashew</th>\n",
       "    </tr>\n",
       "  </thead>\n",
       "  <tbody>\n",
       "    <tr>\n",
       "      <th>Prices</th>\n",
       "      <td>10</td>\n",
       "      <td>8</td>\n",
       "      <td>12</td>\n",
       "    </tr>\n",
       "  </tbody>\n",
       "</table>\n",
       "</div>"
      ],
      "text/plain": [
       "        Almond  Peanut  Cashew\n",
       "Prices      10       8      12"
      ]
     },
     "execution_count": 45,
     "metadata": {},
     "output_type": "execute_result"
    }
   ],
   "source": [
    "# Create prices array\n",
    "prices = np.array([10,8,12])\n",
    "prices = pd.DataFrame(prices.reshape(1,3),\n",
    "                      index = [\"Prices\"],\n",
    "                      columns = [\"Almond\",\"Peanut\",\"Cashew\"])\n",
    "prices"
   ]
  },
  {
   "cell_type": "code",
   "execution_count": 46,
   "id": "1c88d6ec-0812-4cea-a125-95342e55f6af",
   "metadata": {
    "tags": []
   },
   "outputs": [
    {
     "data": {
      "text/html": [
       "<div>\n",
       "<style scoped>\n",
       "    .dataframe tbody tr th:only-of-type {\n",
       "        vertical-align: middle;\n",
       "    }\n",
       "\n",
       "    .dataframe tbody tr th {\n",
       "        vertical-align: top;\n",
       "    }\n",
       "\n",
       "    .dataframe thead th {\n",
       "        text-align: right;\n",
       "    }\n",
       "</style>\n",
       "<table border=\"1\" class=\"dataframe\">\n",
       "  <thead>\n",
       "    <tr style=\"text-align: right;\">\n",
       "      <th></th>\n",
       "      <th>Mon</th>\n",
       "      <th>Tues</th>\n",
       "      <th>Wed</th>\n",
       "      <th>Thu</th>\n",
       "      <th>Fri</th>\n",
       "    </tr>\n",
       "  </thead>\n",
       "  <tbody>\n",
       "    <tr>\n",
       "      <th>Prices</th>\n",
       "      <td>88</td>\n",
       "      <td>314</td>\n",
       "      <td>438</td>\n",
       "      <td>426</td>\n",
       "      <td>402</td>\n",
       "    </tr>\n",
       "  </tbody>\n",
       "</table>\n",
       "</div>"
      ],
      "text/plain": [
       "        Mon  Tues  Wed  Thu  Fri\n",
       "Prices   88   314  438  426  402"
      ]
     },
     "execution_count": 46,
     "metadata": {},
     "output_type": "execute_result"
    }
   ],
   "source": [
    "# Dot product of prices with sales_amounts.\n",
    "# total_sales = prices.weekly_sales\n",
    "\n",
    "total_sales = prices.dot(weekly_sales.T)\n",
    "total_sales"
   ]
  },
  {
   "cell_type": "code",
   "execution_count": 47,
   "id": "ca1e9b7a-bc82-4b32-89a5-76eb7d95f2e9",
   "metadata": {},
   "outputs": [
    {
     "data": {
      "text/plain": [
       "((1, 3), (5, 3))"
      ]
     },
     "execution_count": 47,
     "metadata": {},
     "output_type": "execute_result"
    }
   ],
   "source": [
    "# checking the shapes of matrices. In order to align matrices, we transpose weekly_sales to 3*5\n",
    "prices.shape, weekly_sales.shape"
   ]
  },
  {
   "cell_type": "code",
   "execution_count": 48,
   "id": "31e2dc1d-ffcc-4c2c-803a-6edc30f17602",
   "metadata": {},
   "outputs": [
    {
     "data": {
      "text/html": [
       "<div>\n",
       "<style scoped>\n",
       "    .dataframe tbody tr th:only-of-type {\n",
       "        vertical-align: middle;\n",
       "    }\n",
       "\n",
       "    .dataframe tbody tr th {\n",
       "        vertical-align: top;\n",
       "    }\n",
       "\n",
       "    .dataframe thead th {\n",
       "        text-align: right;\n",
       "    }\n",
       "</style>\n",
       "<table border=\"1\" class=\"dataframe\">\n",
       "  <thead>\n",
       "    <tr style=\"text-align: right;\">\n",
       "      <th></th>\n",
       "      <th>Almond</th>\n",
       "      <th>Peanut</th>\n",
       "      <th>Cashew</th>\n",
       "      <th>Total ($)</th>\n",
       "    </tr>\n",
       "  </thead>\n",
       "  <tbody>\n",
       "    <tr>\n",
       "      <th>Mon</th>\n",
       "      <td>2</td>\n",
       "      <td>7</td>\n",
       "      <td>1</td>\n",
       "      <td>88</td>\n",
       "    </tr>\n",
       "    <tr>\n",
       "      <th>Tues</th>\n",
       "      <td>9</td>\n",
       "      <td>4</td>\n",
       "      <td>16</td>\n",
       "      <td>314</td>\n",
       "    </tr>\n",
       "    <tr>\n",
       "      <th>Wed</th>\n",
       "      <td>11</td>\n",
       "      <td>14</td>\n",
       "      <td>18</td>\n",
       "      <td>438</td>\n",
       "    </tr>\n",
       "    <tr>\n",
       "      <th>Thu</th>\n",
       "      <td>13</td>\n",
       "      <td>13</td>\n",
       "      <td>16</td>\n",
       "      <td>426</td>\n",
       "    </tr>\n",
       "    <tr>\n",
       "      <th>Fri</th>\n",
       "      <td>15</td>\n",
       "      <td>18</td>\n",
       "      <td>9</td>\n",
       "      <td>402</td>\n",
       "    </tr>\n",
       "  </tbody>\n",
       "</table>\n",
       "</div>"
      ],
      "text/plain": [
       "      Almond  Peanut  Cashew  Total ($)\n",
       "Mon        2       7       1         88\n",
       "Tues       9       4      16        314\n",
       "Wed       11      14      18        438\n",
       "Thu       13      13      16        426\n",
       "Fri       15      18       9        402"
      ]
     },
     "execution_count": 48,
     "metadata": {},
     "output_type": "execute_result"
    }
   ],
   "source": [
    "# append transposed total sales to the weekly sales\n",
    "weekly_sales[\"Total ($)\"] = total_sales.T\n",
    "weekly_sales"
   ]
  },
  {
   "cell_type": "markdown",
   "id": "a17f2d8b-8533-4fe6-a4e4-b042158231b0",
   "metadata": {},
   "source": [
    "## Comparison Operators on Matrices"
   ]
  },
  {
   "cell_type": "code",
   "execution_count": 49,
   "id": "23bd3e97-85a9-421c-8148-6a22d31459d1",
   "metadata": {},
   "outputs": [],
   "source": [
    "a1 = np.array([[1, 2, 3],\n",
    "              [4, 5, 6]])\n",
    "\n",
    "a2 = np.array([[1, 2, 4],\n",
    "              [5, 7 ,6]])"
   ]
  },
  {
   "cell_type": "code",
   "execution_count": 51,
   "id": "bc09faec-ded6-493b-b162-152229d35986",
   "metadata": {},
   "outputs": [
    {
     "data": {
      "text/plain": [
       "array([[False, False, False],\n",
       "       [False, False, False]])"
      ]
     },
     "execution_count": 51,
     "metadata": {},
     "output_type": "execute_result"
    }
   ],
   "source": [
    "a1 > a2"
   ]
  },
  {
   "cell_type": "code",
   "execution_count": 52,
   "id": "34e1bfd3-c328-4316-a0c0-618aba7a102a",
   "metadata": {},
   "outputs": [
    {
     "data": {
      "text/plain": [
       "array([[False, False,  True],\n",
       "       [ True,  True, False]])"
      ]
     },
     "execution_count": 52,
     "metadata": {},
     "output_type": "execute_result"
    }
   ],
   "source": [
    "a1 < a2"
   ]
  },
  {
   "cell_type": "code",
   "execution_count": 50,
   "id": "8e9916e7-3fe6-4538-99e3-64fef1ea2e50",
   "metadata": {},
   "outputs": [
    {
     "data": {
      "text/plain": [
       "array([[ True,  True, False],\n",
       "       [False, False,  True]])"
      ]
     },
     "execution_count": 50,
     "metadata": {},
     "output_type": "execute_result"
    }
   ],
   "source": [
    "a1 == a2"
   ]
  },
  {
   "cell_type": "code",
   "execution_count": 53,
   "id": "f9c82577-95e2-468d-b843-f433b2ebeec2",
   "metadata": {},
   "outputs": [
    {
     "data": {
      "text/plain": [
       "array([[False, False,  True],\n",
       "       [ True,  True, False]])"
      ]
     },
     "execution_count": 53,
     "metadata": {},
     "output_type": "execute_result"
    }
   ],
   "source": [
    "a1 != a2"
   ]
  },
  {
   "cell_type": "code",
   "execution_count": 54,
   "id": "1b857654-297b-4730-9126-ce1ad79022a3",
   "metadata": {},
   "outputs": [
    {
     "data": {
      "text/plain": [
       "array([[False, False,  True],\n",
       "       [ True,  True, False]])"
      ]
     },
     "execution_count": 54,
     "metadata": {},
     "output_type": "execute_result"
    }
   ],
   "source": [
    "bool_array = a1 < a2\n",
    "bool_array"
   ]
  },
  {
   "cell_type": "code",
   "execution_count": 55,
   "id": "ca598bda-7ece-4263-b182-a135921ed140",
   "metadata": {},
   "outputs": [
    {
     "data": {
      "text/plain": [
       "numpy.ndarray"
      ]
     },
     "execution_count": 55,
     "metadata": {},
     "output_type": "execute_result"
    }
   ],
   "source": [
    "type(bool_array)"
   ]
  },
  {
   "cell_type": "markdown",
   "id": "e64f896a-f15b-4493-993d-adbc970725a3",
   "metadata": {},
   "source": [
    "## Sorting, max, min on Arrays"
   ]
  },
  {
   "cell_type": "code",
   "execution_count": 56,
   "id": "ef62ce6a-2c43-4f8b-9c56-210420fc88a5",
   "metadata": {},
   "outputs": [
    {
     "data": {
      "text/plain": [
       "array([[5, 8, 9, 5, 0],\n",
       "       [0, 1, 7, 6, 9],\n",
       "       [2, 4, 5, 2, 4]])"
      ]
     },
     "execution_count": 56,
     "metadata": {},
     "output_type": "execute_result"
    }
   ],
   "source": [
    "# generate a random array\n",
    "np.random.seed(1)\n",
    "random_array = np.random.randint(10, size = (3,5))\n",
    "random_array"
   ]
  },
  {
   "cell_type": "markdown",
   "id": "06f8293f-ac94-4834-9007-18259461b98c",
   "metadata": {},
   "source": [
    "### Sorting"
   ]
  },
  {
   "cell_type": "code",
   "execution_count": 57,
   "id": "dc50f07e-6e1f-4a36-95d2-16c1a0880cc3",
   "metadata": {},
   "outputs": [
    {
     "data": {
      "text/plain": [
       "array([[0, 5, 5, 8, 9],\n",
       "       [0, 1, 6, 7, 9],\n",
       "       [2, 2, 4, 4, 5]])"
      ]
     },
     "execution_count": 57,
     "metadata": {},
     "output_type": "execute_result"
    }
   ],
   "source": [
    "# Return a sorted copy of an array.\n",
    "np.sort(random_array)"
   ]
  },
  {
   "cell_type": "code",
   "execution_count": 58,
   "id": "270622b3-6c3d-4995-a7b2-bb65869815b5",
   "metadata": {},
   "outputs": [
    {
     "data": {
      "text/plain": [
       "array([[4, 0, 3, 1, 2],\n",
       "       [0, 1, 3, 2, 4],\n",
       "       [0, 3, 1, 4, 2]], dtype=int64)"
      ]
     },
     "execution_count": 58,
     "metadata": {},
     "output_type": "execute_result"
    }
   ],
   "source": [
    "# Returns the indices that would sort an array. \n",
    "np.argsort(random_array)"
   ]
  },
  {
   "cell_type": "markdown",
   "id": "92147051-5959-4a52-a689-321224914874",
   "metadata": {},
   "source": [
    "### argmin"
   ]
  },
  {
   "cell_type": "code",
   "execution_count": 59,
   "id": "4e6818f2-0ed1-43a7-8c56-12f9125aa12d",
   "metadata": {},
   "outputs": [
    {
     "data": {
      "text/plain": [
       "array([[5, 8, 9, 5, 0],\n",
       "       [0, 1, 7, 6, 9],\n",
       "       [2, 4, 5, 2, 4]])"
      ]
     },
     "execution_count": 59,
     "metadata": {},
     "output_type": "execute_result"
    }
   ],
   "source": [
    "random_array"
   ]
  },
  {
   "cell_type": "code",
   "execution_count": 60,
   "id": "ab2e0832-ed85-404b-a361-63f7d9ad3e17",
   "metadata": {},
   "outputs": [
    {
     "data": {
      "text/plain": [
       "array([1, 1, 2, 2, 0], dtype=int64)"
      ]
     },
     "execution_count": 60,
     "metadata": {},
     "output_type": "execute_result"
    }
   ],
   "source": [
    "# axis = 0 is rows\n",
    "np.argmin(random_array, axis=0)"
   ]
  },
  {
   "cell_type": "code",
   "execution_count": 61,
   "id": "20090c9c-f07e-4eee-99d7-2224d3aef711",
   "metadata": {},
   "outputs": [
    {
     "data": {
      "text/plain": [
       "array([4, 0, 0], dtype=int64)"
      ]
     },
     "execution_count": 61,
     "metadata": {},
     "output_type": "execute_result"
    }
   ],
   "source": [
    "# axis = 1 is columns\n",
    "np.argmin(random_array, axis=1)"
   ]
  },
  {
   "cell_type": "markdown",
   "id": "ae0831b3-3ab4-4643-8c3f-6561075c0a57",
   "metadata": {},
   "source": [
    "Note: Same methodology for `argmax`, where `argmax` returns index location of maximum numbers"
   ]
  },
  {
   "cell_type": "markdown",
   "id": "307fde80-7908-4701-99b3-05b538bb00c5",
   "metadata": {},
   "source": [
    "## Turn Image into NumPy Array"
   ]
  },
  {
   "cell_type": "code",
   "execution_count": 62,
   "id": "0d689342-571c-464f-896a-c2b25bdfa356",
   "metadata": {},
   "outputs": [],
   "source": [
    "from matplotlib.image import imread\n",
    "\n",
    "panda = imread(\"../images/panda.png\")\n"
   ]
  },
  {
   "cell_type": "code",
   "execution_count": 63,
   "id": "200b5e51-7e96-41fb-b6c5-ea4c7250c68c",
   "metadata": {},
   "outputs": [
    {
     "data": {
      "text/plain": [
       "(24465000, (2330, 3500, 3), 3)"
      ]
     },
     "execution_count": 63,
     "metadata": {},
     "output_type": "execute_result"
    }
   ],
   "source": [
    "panda.size, panda.shape, panda.ndim"
   ]
  },
  {
   "cell_type": "code",
   "execution_count": 66,
   "id": "3bc7fe95-614c-4fb5-91bc-d74265fd8004",
   "metadata": {},
   "outputs": [
    {
     "data": {
      "text/plain": [
       "array([[[0.05490196, 0.10588235, 0.06666667],\n",
       "        [0.05490196, 0.10588235, 0.06666667],\n",
       "        [0.05490196, 0.10588235, 0.06666667],\n",
       "        ...,\n",
       "        [0.16470589, 0.12941177, 0.09411765],\n",
       "        [0.16470589, 0.12941177, 0.09411765],\n",
       "        [0.16470589, 0.12941177, 0.09411765]],\n",
       "\n",
       "       [[0.05490196, 0.10588235, 0.06666667],\n",
       "        [0.05490196, 0.10588235, 0.06666667],\n",
       "        [0.05490196, 0.10588235, 0.06666667],\n",
       "        ...,\n",
       "        [0.16470589, 0.12941177, 0.09411765],\n",
       "        [0.16470589, 0.12941177, 0.09411765],\n",
       "        [0.16470589, 0.12941177, 0.09411765]]], dtype=float32)"
      ]
     },
     "execution_count": 66,
     "metadata": {},
     "output_type": "execute_result"
    }
   ],
   "source": [
    "panda[:2]"
   ]
  },
  {
   "cell_type": "code",
   "execution_count": null,
   "id": "3643c5b6-4848-4fe1-8d62-4d72183c7f5d",
   "metadata": {},
   "outputs": [],
   "source": []
  }
 ],
 "metadata": {
  "kernelspec": {
   "display_name": "Python 3",
   "language": "python",
   "name": "python3"
  },
  "language_info": {
   "codemirror_mode": {
    "name": "ipython",
    "version": 3
   },
   "file_extension": ".py",
   "mimetype": "text/x-python",
   "name": "python",
   "nbconvert_exporter": "python",
   "pygments_lexer": "ipython3",
   "version": "3.7.10"
  },
  "toc-autonumbering": false
 },
 "nbformat": 4,
 "nbformat_minor": 5
}
