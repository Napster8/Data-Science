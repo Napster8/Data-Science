{
 "cells": [
  {
   "cell_type": "markdown",
   "id": "97801a94-f417-4449-8f72-3ace57c06d1d",
   "metadata": {},
   "source": [
    "***\n",
    "<b> Author:</b> Raghavendra Tapas\n",
    "    \n",
    "<b> Updated on:</b> May 2021\n",
    "    \n",
    "<b> Context:</b> Machine Learning Model on Heart Disease Prediction!\n",
    "\n",
    "Feel free to reach out to me on __[Twitter](https://twitter.com/raghutapas12)__ for any corrections or additional updates!\n",
    "***"
   ]
  },
  {
   "cell_type": "markdown",
   "id": "41602a8d-9333-4d30-a1ef-5b6d385ff971",
   "metadata": {},
   "source": [
    "# Heart Disease Prediction\n",
    "\n",
    "This notebook demonstrates solving a typical machine learning problem by taking an example.\n",
    "\n",
    "<b>Steps:\n",
    "\n",
    "1. Data Pre-Processing\n",
    "2. Choosing the right estimator/algorithm for the problem.\n",
    "3. Fit the model/algorithm and use it to make predictions on our data.\n",
    "4. Evaluating model.\n",
    "5. Improve a model.\n",
    "6. Save and load a trained model.\n",
    "7. Post-Processing Dashboards."
   ]
  },
  {
   "cell_type": "markdown",
   "id": "4b1597bb-7dd6-4c23-9a9b-253aefc9a37f",
   "metadata": {},
   "source": [
    "## Dependencies or Libraries\n",
    "\n",
    "Importing the NumPy, Pandas and scikit learn"
   ]
  },
  {
   "cell_type": "code",
   "execution_count": 1,
   "id": "5be19747-0547-42f7-b109-14655043b9a0",
   "metadata": {},
   "outputs": [],
   "source": [
    "import numpy as np\n",
    "import pandas as pd\n",
    "import matplotlib.pyplot as plt\n",
    "%matplotlib inline"
   ]
  },
  {
   "cell_type": "markdown",
   "id": "6d2e49a2-bf97-48ea-b3fa-34b005ce8b1a",
   "metadata": {},
   "source": [
    "## Data Pre-Processing"
   ]
  },
  {
   "cell_type": "markdown",
   "id": "6c7dfb03-dfb1-460a-be85-40dbdd2eaebe",
   "metadata": {},
   "source": [
    "<b>Data source:</b> a small subset of huge dataset from `https://archive.ics.uci.edu/ml/datasets/Heart+Disease`"
   ]
  },
  {
   "cell_type": "code",
   "execution_count": 3,
   "id": "b174eecd-5156-4de9-b6b5-d3b1ecdf943a",
   "metadata": {},
   "outputs": [
    {
     "data": {
      "text/html": [
       "<div>\n",
       "<style scoped>\n",
       "    .dataframe tbody tr th:only-of-type {\n",
       "        vertical-align: middle;\n",
       "    }\n",
       "\n",
       "    .dataframe tbody tr th {\n",
       "        vertical-align: top;\n",
       "    }\n",
       "\n",
       "    .dataframe thead th {\n",
       "        text-align: right;\n",
       "    }\n",
       "</style>\n",
       "<table border=\"1\" class=\"dataframe\">\n",
       "  <thead>\n",
       "    <tr style=\"text-align: right;\">\n",
       "      <th></th>\n",
       "      <th>age</th>\n",
       "      <th>sex</th>\n",
       "      <th>cp</th>\n",
       "      <th>trestbps</th>\n",
       "      <th>chol</th>\n",
       "      <th>fbs</th>\n",
       "      <th>restecg</th>\n",
       "      <th>thalach</th>\n",
       "      <th>exang</th>\n",
       "      <th>oldpeak</th>\n",
       "      <th>slope</th>\n",
       "      <th>ca</th>\n",
       "      <th>thal</th>\n",
       "      <th>target</th>\n",
       "    </tr>\n",
       "  </thead>\n",
       "  <tbody>\n",
       "    <tr>\n",
       "      <th>0</th>\n",
       "      <td>63</td>\n",
       "      <td>1</td>\n",
       "      <td>3</td>\n",
       "      <td>145</td>\n",
       "      <td>233</td>\n",
       "      <td>1</td>\n",
       "      <td>0</td>\n",
       "      <td>150</td>\n",
       "      <td>0</td>\n",
       "      <td>2.3</td>\n",
       "      <td>0</td>\n",
       "      <td>0</td>\n",
       "      <td>1</td>\n",
       "      <td>1</td>\n",
       "    </tr>\n",
       "    <tr>\n",
       "      <th>1</th>\n",
       "      <td>37</td>\n",
       "      <td>1</td>\n",
       "      <td>2</td>\n",
       "      <td>130</td>\n",
       "      <td>250</td>\n",
       "      <td>0</td>\n",
       "      <td>1</td>\n",
       "      <td>187</td>\n",
       "      <td>0</td>\n",
       "      <td>3.5</td>\n",
       "      <td>0</td>\n",
       "      <td>0</td>\n",
       "      <td>2</td>\n",
       "      <td>1</td>\n",
       "    </tr>\n",
       "    <tr>\n",
       "      <th>2</th>\n",
       "      <td>41</td>\n",
       "      <td>0</td>\n",
       "      <td>1</td>\n",
       "      <td>130</td>\n",
       "      <td>204</td>\n",
       "      <td>0</td>\n",
       "      <td>0</td>\n",
       "      <td>172</td>\n",
       "      <td>0</td>\n",
       "      <td>1.4</td>\n",
       "      <td>2</td>\n",
       "      <td>0</td>\n",
       "      <td>2</td>\n",
       "      <td>1</td>\n",
       "    </tr>\n",
       "  </tbody>\n",
       "</table>\n",
       "</div>"
      ],
      "text/plain": [
       "   age  sex  cp  trestbps  chol  fbs  restecg  thalach  exang  oldpeak  slope  \\\n",
       "0   63    1   3       145   233    1        0      150      0      2.3      0   \n",
       "1   37    1   2       130   250    0        1      187      0      3.5      0   \n",
       "2   41    0   1       130   204    0        0      172      0      1.4      2   \n",
       "\n",
       "   ca  thal  target  \n",
       "0   0     1       1  \n",
       "1   0     2       1  \n",
       "2   0     2       1  "
      ]
     },
     "execution_count": 3,
     "metadata": {},
     "output_type": "execute_result"
    }
   ],
   "source": [
    "# importing data from local storage\n",
    "heart_disease = pd.read_csv(\"../data/heart-disease.csv\")\n",
    "heart_disease.head(3)"
   ]
  },
  {
   "cell_type": "code",
   "execution_count": 5,
   "id": "f1a5ec95-4cb9-4d4e-87bc-9d7d18670bf8",
   "metadata": {},
   "outputs": [
    {
     "data": {
      "text/plain": [
       "age         0\n",
       "sex         0\n",
       "cp          0\n",
       "trestbps    0\n",
       "chol        0\n",
       "fbs         0\n",
       "restecg     0\n",
       "thalach     0\n",
       "exang       0\n",
       "oldpeak     0\n",
       "slope       0\n",
       "ca          0\n",
       "thal        0\n",
       "target      0\n",
       "dtype: int64"
      ]
     },
     "execution_count": 5,
     "metadata": {},
     "output_type": "execute_result"
    }
   ],
   "source": [
    "heart_disease.isna().sum()"
   ]
  },
  {
   "cell_type": "markdown",
   "id": "9fdb021a-5205-4e1c-8514-2733ae1b70bb",
   "metadata": {},
   "source": [
    "## Choosing the Model"
   ]
  },
  {
   "cell_type": "code",
   "execution_count": 3,
   "id": "cf65560b-d9fa-438f-9dfe-cf69161a78ab",
   "metadata": {},
   "outputs": [
    {
     "data": {
      "text/html": [
       "<img src=\"https://scikit-learn.org/stable/_static/ml_map.png\" width=\"900\"/>"
      ],
      "text/plain": [
       "<IPython.core.display.Image object>"
      ]
     },
     "execution_count": 3,
     "metadata": {},
     "output_type": "execute_result"
    }
   ],
   "source": [
    "# import the model choosing decision tree\n",
    "from IPython import display\n",
    "display.Image(url=\"https://scikit-learn.org/stable/_static/ml_map.png\",width=900)"
   ]
  },
  {
   "cell_type": "markdown",
   "id": "74039aaf-d5c4-4016-82f5-bb5861d49f25",
   "metadata": {},
   "source": [
    "A Decision tree on Choosing the Machine Learning Model:\n",
    "https://scikit-learn.org/stable/tutorial/machine_learning_map/index.html\n",
    "\n",
    "<b>Model:</b> Random Forest Classifier. \n",
    "\n",
    "Since the given problem is a classification problem (Has Heart Disease or not)\n"
   ]
  },
  {
   "cell_type": "code",
   "execution_count": 7,
   "id": "70d975bb-dcaa-4f63-ab1d-6c318a2f1783",
   "metadata": {},
   "outputs": [
    {
     "name": "stdout",
     "output_type": "stream",
     "text": [
      "Data Samples present in the dataset = 303\n"
     ]
    }
   ],
   "source": [
    "# Step 1: Data Samples above 50?\n",
    "# Answer: Yes\n",
    "\n",
    "print(f\"Data Samples present in the dataset = {len(heart_disease)}\")"
   ]
  },
  {
   "cell_type": "markdown",
   "id": "755806c5-ebcc-48ba-9eed-14224c1e8012",
   "metadata": {},
   "source": [
    "<b>Step 2:</b> Are we trying to predict a categorical data?\n",
    "\n",
    "Answer: `Yes`\n",
    "\n",
    "We are trying to predict a target variable named 'target' variable which is a categorical data (0 or 1 or i.e. Heart Disease or No Heart Disease).\n",
    "\n",
    "<b>Step 3:</b> Do we have labeled data?\n",
    "\n",
    "Answer: `Yes`\n",
    "\n",
    "<b>Step 4:</b> Do we have 100k+ samples?\n",
    "\n",
    "Answer: `Yes`\n",
    "\n",
    "Solution 1: Use `Linear SVC` : https://scikit-learn.org/stable/modules/svm.html#classification"
   ]
  },
  {
   "cell_type": "markdown",
   "id": "c51493d0-b29e-4792-b719-0036de61e35d",
   "metadata": {},
   "source": [
    "### Linear SVC"
   ]
  },
  {
   "cell_type": "markdown",
   "id": "2881d4b8-d690-4208-8b66-f5048c7da933",
   "metadata": {},
   "source": [
    "* Import LinearSVC estimator class\n",
    "* Setup random seeding = 1\n",
    "* Create Feature Matrix (x)\n",
    "* Create Labels (y)\n",
    "* Split the data\n",
    "* Instantiate LinearSVC\n",
    "* Fit the model\n",
    "* Evaluate LinearSVC"
   ]
  },
  {
   "cell_type": "code",
   "execution_count": 6,
   "id": "b13a8f6d-a147-43a3-971e-1750a5ff5495",
   "metadata": {},
   "outputs": [
    {
     "name": "stdout",
     "output_type": "stream",
     "text": [
      "Linear SVC Model Accuracy: 49.18 %\n"
     ]
    },
    {
     "name": "stderr",
     "output_type": "stream",
     "text": [
      "C:\\ProgramData\\Anaconda3\\lib\\site-packages\\sklearn\\svm\\_base.py:986: ConvergenceWarning: Liblinear failed to converge, increase the number of iterations.\n",
      "  \"the number of iterations.\", ConvergenceWarning)\n"
     ]
    }
   ],
   "source": [
    "from sklearn.svm import LinearSVC\n",
    "np.random.seed(1)\n",
    "x = heart_disease.drop(\"target\", axis=1)\n",
    "y = heart_disease[\"target\"]\n",
    "\n",
    "from sklearn.model_selection import train_test_split\n",
    "x_train, x_test, y_train, y_test = train_test_split(x, y, test_size = 0.2)\n",
    "\n",
    "clf = LinearSVC()\n",
    "clf.fit(x_train, y_train)\n",
    "\n",
    "accuracy = clf.score(x_test, y_test)\n",
    "print(f\"Linear SVC Model Accuracy: {(accuracy * 100).round(2)} %\")"
   ]
  },
  {
   "cell_type": "markdown",
   "id": "d2002c6d-a26b-44d9-9935-1e31e98f69b6",
   "metadata": {},
   "source": [
    "* Observation: The SVC Model is not accurate enough.\n",
    "* More importantly our model is a binary classification problem (0 or 1)\n",
    "* Structured Data: Ensemble methods\n",
    "* Unstructured data: Image, audio, etc.. use deep learning or transfer learning"
   ]
  },
  {
   "cell_type": "markdown",
   "id": "f82c6865-0ff0-4a2f-8e75-7cf30e8f4d4c",
   "metadata": {},
   "source": [
    "### K-Nearest Neighbour (NearestCentroid)"
   ]
  },
  {
   "cell_type": "markdown",
   "id": "ed86d120-8b45-4ebc-a34a-8d33b26ae046",
   "metadata": {},
   "source": [
    "If the Linear SVC does not work, go for the `K-Nearest neighbour`\n",
    "\n",
    "* Import K-Nearest estimator class (NearestCentroid)\n",
    "* Setup random seeding = 2\n",
    "* Create Feature Matrix (x)\n",
    "* Create Labels (y)\n",
    "* Split the data\n",
    "* Instantiate NearestCentroid\n",
    "* Fit the model\n",
    "* Evaluate NearestCentroid"
   ]
  },
  {
   "cell_type": "code",
   "execution_count": 6,
   "id": "f44d69fb-6520-4642-8bc2-147b4fe1d7ee",
   "metadata": {},
   "outputs": [
    {
     "name": "stdout",
     "output_type": "stream",
     "text": [
      "K-Nearest neighbour (Nearest centroid) Model Accuracy: 67.21 %\n"
     ]
    }
   ],
   "source": [
    "\n",
    "\n",
    "from sklearn.neighbors import NearestCentroid\n",
    "np.random.seed(2)\n",
    "x = heart_disease.drop(\"target\", axis=1)\n",
    "y = heart_disease[\"target\"]\n",
    "\n",
    "from sklearn.model_selection import train_test_split\n",
    "x_train, x_test, y_train, y_test = train_test_split(x, y, test_size = 0.2)\n",
    "\n",
    "clf = NearestCentroid()\n",
    "clf.fit(x_train, y_train)\n",
    "\n",
    "accuracy = clf.score(x_test, y_test)\n",
    "print(f\"K-Nearest neighbour (Nearest centroid) Model Accuracy: {(accuracy * 100).round(2)} %\")\n",
    "\n"
   ]
  },
  {
   "cell_type": "markdown",
   "id": "ea5f5fc3-cc7d-45d0-b99f-5b5b6d09ca35",
   "metadata": {},
   "source": [
    "### Random Forest Classifier"
   ]
  },
  {
   "cell_type": "markdown",
   "id": "87d80979-d25a-4d22-b008-2544943597a9",
   "metadata": {},
   "source": [
    "We will be checking if K-Nearest is the Optimum Model by evaluating accuracy of random forest classifier.\n",
    "\n",
    "Random Forest is a `low bias` and `high variance` model. But the majority vote reduces the variance of the model.\n",
    "\n",
    "* Import RandomForestClassifier class\n",
    "* Setup random seeding = 3\n",
    "* Create Feature Matrix (x)\n",
    "* Create Labels (y)\n",
    "* Split the data\n",
    "* Instantiate RandomForestClassifier\n",
    "* Fit the model\n",
    "* Evaluate RandomForestClassifier"
   ]
  },
  {
   "cell_type": "code",
   "execution_count": 7,
   "id": "05c53c86-a9b8-45bd-8359-e428968f6777",
   "metadata": {},
   "outputs": [
    {
     "name": "stdout",
     "output_type": "stream",
     "text": [
      "Random Forest Classifier Accuracy = 83.61 %\n"
     ]
    }
   ],
   "source": [
    "from sklearn.ensemble import RandomForestClassifier  \n",
    "np.random.seed(3)\n",
    "x = heart_disease.drop(\"target\", axis=1)\n",
    "y = heart_disease[\"target\"]\n",
    "\n",
    "from sklearn.model_selection import train_test_split\n",
    "x_train, x_test, y_train, y_test = train_test_split(x,y,test_size = 0.2)\n",
    "\n",
    "clf = RandomForestClassifier(n_estimators = 100)\n",
    "clf.fit(x_train, y_train)\n",
    "y_preds = clf.predict(x_test)\n",
    "clf.score(x_test, y_test)\n",
    "accuracy = clf.score(x_test, y_test)\n",
    "print(f\"Random Forest Classifier Accuracy = {(accuracy * 100).round(2)} %\")"
   ]
  },
  {
   "cell_type": "code",
   "execution_count": 8,
   "id": "218f2124-0cd3-4eec-82e8-9a43e57a57af",
   "metadata": {},
   "outputs": [
    {
     "name": "stdout",
     "output_type": "stream",
     "text": [
      "              precision    recall  f1-score   support\n",
      "\n",
      "           0       0.76      0.76      0.76        21\n",
      "           1       0.88      0.88      0.88        40\n",
      "\n",
      "    accuracy                           0.84        61\n",
      "   macro avg       0.82      0.82      0.82        61\n",
      "weighted avg       0.84      0.84      0.84        61\n",
      "\n"
     ]
    }
   ],
   "source": [
    "from sklearn.metrics import classification_report, confusion_matrix, accuracy_score\n",
    "print(classification_report(y_test, y_preds))"
   ]
  },
  {
   "cell_type": "code",
   "execution_count": 9,
   "id": "2c4a21d8-a0ed-4c4f-9574-6e6c5d3cc4e9",
   "metadata": {},
   "outputs": [
    {
     "data": {
      "text/plain": [
       "array([[16,  5],\n",
       "       [ 5, 35]], dtype=int64)"
      ]
     },
     "execution_count": 9,
     "metadata": {},
     "output_type": "execute_result"
    }
   ],
   "source": [
    "confusion_matrix(y_test, y_preds)"
   ]
  },
  {
   "cell_type": "code",
   "execution_count": 10,
   "id": "8ea6a555-0891-4c98-9445-278a570bb5a0",
   "metadata": {},
   "outputs": [
    {
     "name": "stdout",
     "output_type": "stream",
     "text": [
      "Random Forest Classifier Accuracy: 83.61 %\n"
     ]
    }
   ],
   "source": [
    "accuracy = accuracy_score(y_test, y_preds)\n",
    "print(f\"Random Forest Classifier Accuracy: {(accuracy * 100).round(2)} %\")"
   ]
  },
  {
   "cell_type": "markdown",
   "id": "dd09b1ce-1c9c-4434-8a71-c456f3c82496",
   "metadata": {},
   "source": [
    "## Improving model"
   ]
  },
  {
   "cell_type": "code",
   "execution_count": 11,
   "id": "a552580b-9af1-4ecd-b941-8c6331cc6706",
   "metadata": {
    "tags": []
   },
   "outputs": [
    {
     "name": "stdout",
     "output_type": "stream",
     "text": [
      "Trying model with 10 estimators...\n",
      "Model Accuracy on Test Set: 81.9672131147541\n",
      "\n",
      "Trying model with 20 estimators...\n",
      "Model Accuracy on Test Set: 78.68852459016394\n",
      "\n",
      "Trying model with 30 estimators...\n",
      "Model Accuracy on Test Set: 86.88524590163934\n",
      "\n",
      "Trying model with 40 estimators...\n",
      "Model Accuracy on Test Set: 83.60655737704919\n",
      "\n",
      "Trying model with 50 estimators...\n",
      "Model Accuracy on Test Set: 83.60655737704919\n",
      "\n",
      "Trying model with 60 estimators...\n",
      "Model Accuracy on Test Set: 90.1639344262295\n",
      "\n",
      "Trying model with 70 estimators...\n",
      "Model Accuracy on Test Set: 85.24590163934425\n",
      "\n",
      "Trying model with 80 estimators...\n",
      "Model Accuracy on Test Set: 85.24590163934425\n",
      "\n",
      "Trying model with 90 estimators...\n",
      "Model Accuracy on Test Set: 85.24590163934425\n",
      "\n"
     ]
    }
   ],
   "source": [
    "# Tweaking n_estimators\n",
    "np.random.seed(1)\n",
    "for i in range(10, 100, 10):\n",
    "    print(f\"Trying model with {i} estimators...\")\n",
    "    clf = RandomForestClassifier(n_estimators=i).fit(x_train, y_train)\n",
    "    print(f\"Model Accuracy on Test Set: {clf.score(x_test, y_test)* 100}\")\n",
    "    print(\"\")"
   ]
  },
  {
   "cell_type": "markdown",
   "id": "c7266497-37e3-4bfc-92c5-0c7793843243",
   "metadata": {},
   "source": [
    "* Observation: It seems that ~60 estimators has best accuracy. \n",
    "* Note that since the data is randomized, the observation may change."
   ]
  },
  {
   "cell_type": "markdown",
   "id": "8534a2b5-43d5-4631-b034-09064296ad7a",
   "metadata": {
    "tags": []
   },
   "source": [
    "## Save the model and load it"
   ]
  },
  {
   "cell_type": "code",
   "execution_count": 12,
   "id": "d57e5a43-9cef-43b1-9530-32c85b9a2d61",
   "metadata": {},
   "outputs": [],
   "source": [
    "import pickle\n",
    "pickle.dump(clf, open(\"../prediction-models/heartDiseasePredictionModel2.pkl\", \"wb\"))"
   ]
  },
  {
   "cell_type": "code",
   "execution_count": 13,
   "id": "17a79e7d-534b-4052-9f2a-48b2891bf27c",
   "metadata": {},
   "outputs": [
    {
     "data": {
      "text/plain": [
       "0.8524590163934426"
      ]
     },
     "execution_count": 13,
     "metadata": {},
     "output_type": "execute_result"
    }
   ],
   "source": [
    "loaded_model = pickle.load(open(\"../prediction-models/heartDiseasePredictionModel2.pkl\", \"rb\"))\n",
    "loaded_model.score(x_test, y_test)"
   ]
  },
  {
   "cell_type": "markdown",
   "id": "55f68188-0c92-45e6-9bb7-4ba58aacb46c",
   "metadata": {},
   "source": [
    "## Make Predictions\n",
    "\n",
    "Two methods:\n",
    " 1. predict()\n",
    " 2. predict_proba()\n",
    "    "
   ]
  },
  {
   "cell_type": "code",
   "execution_count": 14,
   "id": "6edd7eb1-d9e7-46d3-afe9-245966d7dbfe",
   "metadata": {},
   "outputs": [
    {
     "data": {
      "text/plain": [
       "array([0, 1, 1, 1, 1, 1, 0, 0, 0, 1, 1, 0, 1, 0, 0, 1, 1, 0, 1, 1, 0, 1,\n",
       "       1, 0, 1, 1, 1, 1, 1, 0, 0, 0, 1, 0, 1, 0, 1, 1, 1, 1, 1, 1, 1, 1,\n",
       "       0, 0, 1, 1, 0, 1, 1, 1, 1, 0, 1, 0, 1, 1, 0, 1, 1], dtype=int64)"
      ]
     },
     "execution_count": 14,
     "metadata": {},
     "output_type": "execute_result"
    }
   ],
   "source": [
    "# The Truth array\n",
    "np.array(y_test)"
   ]
  },
  {
   "cell_type": "code",
   "execution_count": 15,
   "id": "5a88da4e-4b54-4c6a-bf94-473bf77d55c0",
   "metadata": {},
   "outputs": [
    {
     "data": {
      "text/plain": [
       "array([0, 1, 1, 1, 1, 1, 0, 0, 1, 1, 0, 0, 0, 0, 0, 1, 1, 0, 1, 1, 0, 1,\n",
       "       1, 1, 1, 1, 1, 1, 1, 0, 1, 0, 1, 0, 0, 0, 1, 1, 1, 1, 1, 1, 1, 1,\n",
       "       1, 0, 1, 1, 0, 1, 1, 1, 1, 1, 1, 0, 1, 1, 1, 1, 1], dtype=int64)"
      ]
     },
     "execution_count": 15,
     "metadata": {},
     "output_type": "execute_result"
    }
   ],
   "source": [
    "# Our Final Prediction array\n",
    "clf.predict(x_test)"
   ]
  },
  {
   "cell_type": "code",
   "execution_count": 16,
   "id": "c8fe0e5c-1ea8-47e6-a096-0a73eba98ec8",
   "metadata": {},
   "outputs": [
    {
     "data": {
      "text/plain": [
       "0.8524590163934426"
      ]
     },
     "execution_count": 16,
     "metadata": {},
     "output_type": "execute_result"
    }
   ],
   "source": [
    "# Compare predictions to truth labels to evaluate the model\n",
    "\n",
    "y_preds = clf.predict(x_test)\n",
    "np.mean(y_preds == y_test)"
   ]
  },
  {
   "cell_type": "code",
   "execution_count": 17,
   "id": "2ce45618-08b3-4df4-9f63-f9f5e04f635e",
   "metadata": {},
   "outputs": [
    {
     "data": {
      "text/plain": [
       "0.8524590163934426"
      ]
     },
     "execution_count": 17,
     "metadata": {},
     "output_type": "execute_result"
    }
   ],
   "source": [
    "# Predict accuracy using scikit learn\n",
    "from sklearn.metrics import accuracy_score\n",
    "accuracy_score(y_test, y_preds)"
   ]
  },
  {
   "cell_type": "code",
   "execution_count": 18,
   "id": "c61e86d3-4f15-496b-b0b5-bbc668faaac4",
   "metadata": {},
   "outputs": [
    {
     "data": {
      "text/plain": [
       "array([[0.51111111, 0.48888889],\n",
       "       [0.04444444, 0.95555556],\n",
       "       [0.21111111, 0.78888889],\n",
       "       [0.11111111, 0.88888889],\n",
       "       [0.25555556, 0.74444444]])"
      ]
     },
     "execution_count": 18,
     "metadata": {},
     "output_type": "execute_result"
    }
   ],
   "source": [
    "# predict_proba() method\n",
    "# This method returns probabilities of a classification label\n",
    "\n",
    "clf.predict_proba(x_test[:5])"
   ]
  },
  {
   "cell_type": "code",
   "execution_count": 19,
   "id": "9cb362fe-640a-4fcb-ac97-1d91b094835f",
   "metadata": {},
   "outputs": [
    {
     "data": {
      "text/plain": [
       "array([0, 1, 1, 1, 1], dtype=int64)"
      ]
     },
     "execution_count": 19,
     "metadata": {},
     "output_type": "execute_result"
    }
   ],
   "source": [
    "clf.predict(x_test[:5])"
   ]
  },
  {
   "cell_type": "markdown",
   "id": "da77ff19-c70e-4d97-86cd-114fb06c45f7",
   "metadata": {},
   "source": [
    "`predict()` can be used for regression models too."
   ]
  },
  {
   "cell_type": "markdown",
   "id": "8492fe92-4010-4702-9570-14fe5c4aafc9",
   "metadata": {},
   "source": [
    "## Evaluating Machine Learning Methods"
   ]
  },
  {
   "cell_type": "markdown",
   "id": "3f485369-0395-4d7b-9671-dbe94bacdb8d",
   "metadata": {},
   "source": [
    "<b>Reference: </b> [Scikit Learn Metrics Documentation](https://scikit-learn.org/stable/modules/model_evaluation.html/ \"Metrics and scoring\")\n",
    "\n",
    "- <b>Estimator score method:</b> Estimators have a score method providing a default evaluation criterion for the problem they are designed to solve.\n",
    "\n",
    "- <b>Scoring parameter:</b> Model-evaluation tools using cross-validation (such as model_selection.cross_val_score and model_selection.GridSearchCV) rely on an internal scoring strategy. This is discussed in the section The scoring parameter: defining model evaluation rules.\n",
    "\n",
    "- <b>Metric functions:</b> The sklearn.metrics module implements functions assessing prediction error for specific purposes. These metrics are detailed in sections on Classification metrics, Multilabel ranking metrics, Regression metrics and Clustering metrics."
   ]
  },
  {
   "cell_type": "markdown",
   "id": "927d1cc8-0354-4607-85cf-eeba80ec72ae",
   "metadata": {},
   "source": [
    "### Scoring Parameters - Cross Validation"
   ]
  },
  {
   "cell_type": "code",
   "execution_count": 20,
   "id": "e2dcfc1a-a0ad-4a41-ace7-d66ff54735c2",
   "metadata": {},
   "outputs": [
    {
     "data": {
      "text/plain": [
       "0.8524590163934426"
      ]
     },
     "execution_count": 20,
     "metadata": {},
     "output_type": "execute_result"
    }
   ],
   "source": [
    "# Method 1: Default score method\n",
    "clf.score(x_test, y_test)"
   ]
  },
  {
   "cell_type": "code",
   "execution_count": 21,
   "id": "61b07b32-8c31-4f47-bdd2-b6b3f0b2b7ee",
   "metadata": {},
   "outputs": [
    {
     "data": {
      "text/html": [
       "<img src=\"https://scikit-learn.org/stable/_images/grid_search_cross_validation.png\" width=\"500\"/>"
      ],
      "text/plain": [
       "<IPython.core.display.Image object>"
      ]
     },
     "execution_count": 21,
     "metadata": {},
     "output_type": "execute_result"
    }
   ],
   "source": [
    "from IPython import display\n",
    "display.Image(url=\"https://scikit-learn.org/stable/_images/grid_search_cross_validation.png\",width=500)"
   ]
  },
  {
   "cell_type": "markdown",
   "id": "574d6bf5-5aed-4691-8149-883c87b1fd8c",
   "metadata": {},
   "source": [
    "`Cross Validation:` also known as 'k-fold cross-validation' is a process of re-sampling or shuffling the test data.\n",
    "\n",
    "The procedure has a single parameter called k that refers to the number of groups that a given data sample is to be split into. As such, the procedure is often called k-fold cross-validation. \n",
    "\n",
    "<b> General Process:</b> \n",
    "\n",
    "* Shuffle the dataset randomly.\n",
    "* Split the dataset into k groups\n",
    "* For each unique group:\n",
    "    * Take the group as a hold out or test data set\n",
    "    * Take the remaining groups as a training data set\n",
    "    * Fit a model on the training set and evaluate it on the test set\n",
    "    * Retain the evaluation score and discard the model\n",
    "* Summarize the skill of the model using the sample of model evaluation scores"
   ]
  },
  {
   "cell_type": "code",
   "execution_count": 22,
   "id": "bf09345d-3abf-41d7-8ff7-daae0074b27b",
   "metadata": {},
   "outputs": [
    {
     "data": {
      "text/plain": [
       "array([0.81967213, 0.90163934, 0.7704918 , 0.8       , 0.75      ])"
      ]
     },
     "execution_count": 22,
     "metadata": {},
     "output_type": "execute_result"
    }
   ],
   "source": [
    "# import cross validation score from scikit learn\n",
    "from sklearn.model_selection import cross_val_score\n",
    "cross_val_score(clf, x, y, cv = 5)"
   ]
  },
  {
   "cell_type": "code",
   "execution_count": 23,
   "id": "a933fe67-fd10-461f-b1a1-0f5352a9d2cf",
   "metadata": {},
   "outputs": [
    {
     "data": {
      "text/plain": [
       "(0.8524590163934426, 0.8149726775956283)"
      ]
     },
     "execution_count": 23,
     "metadata": {},
     "output_type": "execute_result"
    }
   ],
   "source": [
    "np.random.seed(1)\n",
    "\n",
    "# Single training and test split score\n",
    "clf_single_score = clf.score(x_test, y_test)\n",
    "\n",
    "# Take the mean of 5-fold cross validation score\n",
    "clf_cross_val_score = np.mean(cross_val_score(clf, x, y, cv = 5))\n",
    "\n",
    "# Compare the two\n",
    "clf_single_score, clf_cross_val_score"
   ]
  },
  {
   "cell_type": "code",
   "execution_count": 24,
   "id": "52da4ee0-8617-4ceb-9746-97c5285b7e3a",
   "metadata": {},
   "outputs": [
    {
     "data": {
      "text/plain": [
       "0.8524590163934426"
      ]
     },
     "execution_count": 24,
     "metadata": {},
     "output_type": "execute_result"
    }
   ],
   "source": [
    "# Default scoring parameter of classifier = mean accuracy\n",
    "clf.score(x_test, y_test)\n",
    "\n"
   ]
  },
  {
   "cell_type": "code",
   "execution_count": 25,
   "id": "87933d74-4cc8-40e1-8065-35fa2de23a0c",
   "metadata": {},
   "outputs": [
    {
     "data": {
      "text/plain": [
       "array([0.81967213, 0.90163934, 0.7704918 , 0.8       , 0.75      ])"
      ]
     },
     "execution_count": 25,
     "metadata": {},
     "output_type": "execute_result"
    }
   ],
   "source": [
    "# Scoring parameter set to None by default\n",
    "cross_val_score = cross_val_score(clf, x, y, cv = 5, scoring = None)\n",
    "cross_val_score"
   ]
  },
  {
   "cell_type": "markdown",
   "id": "a43c6d42-1520-4525-8463-45e9dee40926",
   "metadata": {},
   "source": [
    "### Accuracy"
   ]
  },
  {
   "cell_type": "code",
   "execution_count": 26,
   "id": "7a8344b0-c8ed-4626-9cc3-269c15a062d9",
   "metadata": {},
   "outputs": [
    {
     "name": "stdout",
     "output_type": "stream",
     "text": [
      "Cross-Validation Random Forest Classifier Accuracy = 80.84 %\n"
     ]
    }
   ],
   "source": [
    "# Taking the mean of cross-validation scores\n",
    "accuracy = np.mean(cross_val_score)\n",
    "print(f\"Cross-Validation Random Forest Classifier Accuracy = {(accuracy * 100).round(2)} %\")"
   ]
  },
  {
   "cell_type": "markdown",
   "id": "aec6cf3f-443e-4141-97ae-ed436bf25fa0",
   "metadata": {},
   "source": [
    "### ROC Curve"
   ]
  },
  {
   "cell_type": "markdown",
   "id": "a58f4c50-d4f5-4802-8926-565ce6856855",
   "metadata": {},
   "source": [
    "* **ROC** - Receiver Operating Characteristic Curve\n",
    "* **AUC** - Area under the ROC Curve\n",
    "\n",
    "ROC curve is a comparison of a model's true positive rate (TPR) vs. model's false positive rate (FPR).\n",
    "\n",
    "* True Positive: Model predicts 1 when the truth is 1. Model predicts 0 when the truth is 0.\n",
    "* False Positive: Model predicts 0 when the truth is 1. Model predicts 1 when the truth is 0."
   ]
  },
  {
   "cell_type": "code",
   "execution_count": 27,
   "id": "49c02494-27ba-43c7-b34e-9579570e7be3",
   "metadata": {},
   "outputs": [],
   "source": [
    "# Split the dataset\n",
    "x_test, x_test, y_train, y_train = train_test_split(x, y, test_size = 0.2)"
   ]
  },
  {
   "cell_type": "code",
   "execution_count": 28,
   "id": "180d918c-27b9-4d3c-aad2-e1d5785cd3f9",
   "metadata": {},
   "outputs": [
    {
     "data": {
      "text/plain": [
       "array([[0.03333333, 0.96666667],\n",
       "       [0.17777778, 0.82222222],\n",
       "       [0.32222222, 0.67777778],\n",
       "       [0.35555556, 0.64444444],\n",
       "       [0.26666667, 0.73333333]])"
      ]
     },
     "execution_count": 28,
     "metadata": {},
     "output_type": "execute_result"
    }
   ],
   "source": [
    "from sklearn.metrics import roc_curve\n",
    "\n",
    "# Make predictions with probabilities\n",
    "y_probs = clf.predict_proba(x_test)\n",
    "\n",
    "# y_probs returns an array of numbers that follow the following format\n",
    "# Probability that the prediction is 0 = P(0)\n",
    "# Probability that the prediction is 1 = P(1)\n",
    "# array in the form: [[P(0), P(1)]\n",
    "\n",
    "y_probs[:5]\n"
   ]
  },
  {
   "cell_type": "code",
   "execution_count": 29,
   "id": "3162495a-6662-4fef-8da8-ab659a4819ae",
   "metadata": {},
   "outputs": [
    {
     "data": {
      "text/plain": [
       "61"
      ]
     },
     "execution_count": 29,
     "metadata": {},
     "output_type": "execute_result"
    }
   ],
   "source": [
    "len(y_probs)"
   ]
  },
  {
   "cell_type": "code",
   "execution_count": 30,
   "id": "639e4cbc-4225-4b89-9157-bffb6674896a",
   "metadata": {},
   "outputs": [
    {
     "data": {
      "text/plain": [
       "array([0.96666667, 0.82222222, 0.67777778, 0.64444444, 0.73333333])"
      ]
     },
     "execution_count": 30,
     "metadata": {},
     "output_type": "execute_result"
    }
   ],
   "source": [
    "y_probs_positive = y_probs[:, 1]\n",
    "y_probs_positive[:5]"
   ]
  },
  {
   "cell_type": "code",
   "execution_count": 31,
   "id": "73f82014-22e3-4ab9-a4c5-fb0cd61252f3",
   "metadata": {},
   "outputs": [
    {
     "data": {
      "text/plain": [
       "array([0.  , 0.05, 0.05, 0.1 , 0.19, 0.29, 0.33, 0.33, 0.38, 0.43, 0.43,\n",
       "       0.48, 0.48, 0.52, 0.52, 0.62, 0.62, 0.67, 0.76, 0.76, 0.86, 0.9 ,\n",
       "       0.9 , 1.  , 1.  , 1.  , 1.  , 1.  ])"
      ]
     },
     "execution_count": 31,
     "metadata": {},
     "output_type": "execute_result"
    }
   ],
   "source": [
    "# Calculate FPR, TPR and Thresholds\n",
    "fpr, tpr, thresholds = roc_curve(y_test, y_probs_positive)\n",
    "\n",
    "# Check the false positive rates\n",
    "fpr.round(2)"
   ]
  },
  {
   "cell_type": "markdown",
   "id": "1610dc2b-d8ff-455a-9654-f273669f41af",
   "metadata": {},
   "source": [
    "Import the Matplot Library as shown in [Dependencies or Libraries used](#Dependencies-or-Libraries-used)\n",
    "\n",
    "* Calculating `AUC`\n",
    "* Creating a function for plotting `ROC Curve`"
   ]
  },
  {
   "cell_type": "code",
   "execution_count": 32,
   "id": "919b2abb-3426-4d87-b37c-70b5d99d9332",
   "metadata": {},
   "outputs": [
    {
     "data": {
      "text/plain": [
       "0.3744047619047619"
      ]
     },
     "execution_count": 32,
     "metadata": {},
     "output_type": "execute_result"
    }
   ],
   "source": [
    "from sklearn.metrics import roc_auc_score\n",
    "\n",
    "roc_auc_score(y_test, y_probs_positive)"
   ]
  },
  {
   "cell_type": "code",
   "execution_count": 33,
   "id": "02226bf8-3cc3-47cc-8228-b44201b48bff",
   "metadata": {},
   "outputs": [
    {
     "data": {
      "image/png": "[encoded data removed]",
      "text/plain": [
       "<Figure size 432x288 with 1 Axes>"
      ]
     },
     "metadata": {
      "needs_background": "light"
     },
     "output_type": "display_data"
    }
   ],
   "source": [
    "def plot_roc(fpr, tpr):\n",
    "    \"\"\"\n",
    "    Plots a ROC Curve given the false positive rate (FPR) \n",
    "    and True positive rate (TPR)\n",
    "    \"\"\"\n",
    "    \n",
    "    # Plot ROC\n",
    "    plt.plot(fpr, tpr, color=\"orange\", label=\"Model ROC\")\n",
    "    \n",
    "    # Plot Line with no predictive power (Guessing Game or baseline)\n",
    "    plt.plot([0, 1], [0, 1], color = \"darkblue\", linestyle = \"--\", label = \"Baseline\")\n",
    "    \n",
    "    #Plot Perfect/ideal ROC. To get this, we feed test to the model. Model already knows the test, so predictions will be perfect.\n",
    "    fpr, tpr, thresholds = roc_curve(y_test, y_test)\n",
    "    plt.plot(fpr, tpr, color=\"green\", linestyle = \"-.\", label = \"Ideal\")\n",
    "    \n",
    "    # Customize the plot\n",
    "    plt.xlabel(\"False Positive rate (FPR): \")\n",
    "    plt.ylabel(\"True Positive rate (TPR): \")\n",
    "    plt.title(\"Receiver Operating Characteristic (ROC) Curve\")\n",
    "    plt.legend()\n",
    "    plt.show()\n",
    "\n",
    "plot_roc(fpr,tpr)"
   ]
  },
  {
   "cell_type": "markdown",
   "id": "1bed69cd-111f-400d-b854-ee8d63c0cf0f",
   "metadata": {},
   "source": [
    "### Confusion Matrix\n",
    "\n",
    "Comparing labels the model predicts to the actual labels it was supposed to predict.\n",
    "\n",
    "An idea of where the model is getting confused."
   ]
  },
  {
   "cell_type": "code",
   "execution_count": 34,
   "id": "f03842de-214e-4306-a3cc-10371d6cfc91",
   "metadata": {},
   "outputs": [
    {
     "data": {
      "text/plain": [
       "array([[15,  6],\n",
       "       [ 3, 37]], dtype=int64)"
      ]
     },
     "execution_count": 34,
     "metadata": {},
     "output_type": "execute_result"
    }
   ],
   "source": [
    "from sklearn.metrics import confusion_matrix\n",
    "ypreds = clf.predict(x_test)\n",
    "confusion_matrix(y_test, y_preds)"
   ]
  },
  {
   "cell_type": "code",
   "execution_count": 35,
   "id": "c6a8d3af-00e0-4e6a-8591-b0e9034a6632",
   "metadata": {},
   "outputs": [
    {
     "data": {
      "text/html": [
       "<div>\n",
       "<style scoped>\n",
       "    .dataframe tbody tr th:only-of-type {\n",
       "        vertical-align: middle;\n",
       "    }\n",
       "\n",
       "    .dataframe tbody tr th {\n",
       "        vertical-align: top;\n",
       "    }\n",
       "\n",
       "    .dataframe thead th {\n",
       "        text-align: right;\n",
       "    }\n",
       "</style>\n",
       "<table border=\"1\" class=\"dataframe\">\n",
       "  <thead>\n",
       "    <tr style=\"text-align: right;\">\n",
       "      <th>Predicted Labels</th>\n",
       "      <th>0</th>\n",
       "      <th>1</th>\n",
       "    </tr>\n",
       "    <tr>\n",
       "      <th>Actual Labels</th>\n",
       "      <th></th>\n",
       "      <th></th>\n",
       "    </tr>\n",
       "  </thead>\n",
       "  <tbody>\n",
       "    <tr>\n",
       "      <th>0</th>\n",
       "      <td>15</td>\n",
       "      <td>6</td>\n",
       "    </tr>\n",
       "    <tr>\n",
       "      <th>1</th>\n",
       "      <td>3</td>\n",
       "      <td>37</td>\n",
       "    </tr>\n",
       "  </tbody>\n",
       "</table>\n",
       "</div>"
      ],
      "text/plain": [
       "Predicted Labels   0   1\n",
       "Actual Labels           \n",
       "0                 15   6\n",
       "1                  3  37"
      ]
     },
     "execution_count": 35,
     "metadata": {},
     "output_type": "execute_result"
    }
   ],
   "source": [
    "# Visualization of confusion matrix with pd.crosstab()\n",
    "pd.crosstab(y_test, y_preds, rownames = [\"Actual Labels\"], colnames = [\"Predicted Labels\"])"
   ]
  },
  {
   "cell_type": "code",
   "execution_count": 36,
   "id": "7bf89702-1b04-428a-adb2-b3c14d535424",
   "metadata": {},
   "outputs": [
    {
     "data": {
      "text/plain": [
       "61"
      ]
     },
     "execution_count": 36,
     "metadata": {},
     "output_type": "execute_result"
    }
   ],
   "source": [
    "total = 15 + 6 + 3 + 37\n",
    "total"
   ]
  },
  {
   "cell_type": "code",
   "execution_count": 37,
   "id": "44884a96-d088-4bda-b808-b092e90e2438",
   "metadata": {},
   "outputs": [
    {
     "data": {
      "text/plain": [
       "61"
      ]
     },
     "execution_count": 37,
     "metadata": {},
     "output_type": "execute_result"
    }
   ],
   "source": [
    "len(x_test)"
   ]
  },
  {
   "cell_type": "code",
   "execution_count": null,
   "id": "07774f6a-046a-4fec-91a6-d4e4e38e6d73",
   "metadata": {},
   "outputs": [],
   "source": []
  },
  {
   "cell_type": "code",
   "execution_count": 38,
   "id": "c377f539-0187-4fa9-a42d-a121a1a7baa4",
   "metadata": {},
   "outputs": [
    {
     "data": {
      "image/png": "[encoded data removed]",
      "text/plain": [
       "<Figure size 432x288 with 2 Axes>"
      ]
     },
     "metadata": {},
     "output_type": "display_data"
    }
   ],
   "source": [
    "# Heatmap of the Confusion Matrix using Seaborn's heatmap()\n",
    "import seaborn as sns\n",
    "\n",
    "# set font scale\n",
    "sns.set(font_scale = 1.5)\n",
    "\n",
    "# Create a confusion matrix\n",
    "conf_mat = confusion_matrix(y_test, y_preds)\n",
    "\n",
    "# Plot it using Seaborn\n",
    "sns.heatmap(conf_mat, cmap=\"Greens\");"
   ]
  },
  {
   "cell_type": "code",
   "execution_count": 39,
   "id": "16c7884e-b8ee-49c6-9edc-0905564277c3",
   "metadata": {},
   "outputs": [
    {
     "data": {
      "image/png": "[encoded data removed]",
      "text/plain": [
       "<Figure size 216x216 with 1 Axes>"
      ]
     },
     "metadata": {},
     "output_type": "display_data"
    }
   ],
   "source": [
    "def plot_conf_mat(conf_mat):\n",
    "    \"\"\"\n",
    "    Plots a confusion matrix using seaborn's heatmap()\n",
    "    \"\"\"\n",
    "    fig, ax = plt.subplots(figsize = (3,3))\n",
    "    ax = sns.heatmap(conf_mat, annot=True, cbar = False, cmap=\"Greens\")\n",
    "    plt.xlabel(\"True label\")\n",
    "    plt.ylabel(\"Predicted label\");\n",
    "    \n",
    "plot_conf_mat(conf_mat)"
   ]
  },
  {
   "cell_type": "code",
   "execution_count": 40,
   "id": "06862be6-beff-42f7-ac30-6de27f9f1293",
   "metadata": {},
   "outputs": [],
   "source": [
    "# or simply use inbuilt confusion matrix plot built into the scikit learn\n",
    "# from sklearn.metrics import plot_confusion_matrix\n",
    "# plot_confusion_matrix(clf, y_test, y_preds, cmap='Greens');\n",
    "\n",
    "# does not work as of scikit 0.24.2"
   ]
  },
  {
   "cell_type": "markdown",
   "id": "df3e7995-f060-4f7d-be79-2aa9b70d9e49",
   "metadata": {},
   "source": [
    "### Classification Report"
   ]
  },
  {
   "cell_type": "code",
   "execution_count": 41,
   "id": "5c83fa2e-3d6c-4b6e-84a6-4bfb7df94759",
   "metadata": {},
   "outputs": [
    {
     "name": "stdout",
     "output_type": "stream",
     "text": [
      "              precision    recall  f1-score   support\n",
      "\n",
      "           0       0.83      0.71      0.77        21\n",
      "           1       0.86      0.93      0.89        40\n",
      "\n",
      "    accuracy                           0.85        61\n",
      "   macro avg       0.85      0.82      0.83        61\n",
      "weighted avg       0.85      0.85      0.85        61\n",
      "\n"
     ]
    }
   ],
   "source": [
    "from sklearn.metrics import classification_report\n",
    "\n",
    "print(classification_report(y_test, y_preds))"
   ]
  },
  {
   "cell_type": "markdown",
   "id": "17b7038f-ab0e-4b1e-a798-fcbc634a239b",
   "metadata": {},
   "source": [
    "To summarize classification metrics:\n",
    "    \n",
    "* **Accuracy** is a good measure to start with if all classes are balanced (e.g. same amount of samples which are labelled with 0 or 1).\n",
    "* **Precision** and **recall** become more important when classes are imbalanced.\n",
    "* If false positive predictions are worse than false negatives, aim for higher precision.\n",
    "* If false negative predictions are worse than false positives, aim for higher recall.\n",
    "* **F1-score** is a combination of precision and recall.\n",
    "\n",
    "### Regression model evaluation metrics\n",
    "\n",
    "Model evaluation metrics documentation - https://scikit-learn.org/stable/modules/model_evaluation.html\n",
    "\n",
    "1. R^2 (pronounced r-squared) or coefficient of determination.\n",
    "2. Mean absolute error (MAE)\n",
    "3. Mean squared error (MSE)\n",
    "\n",
    "**R^2**\n",
    "\n",
    "What R-squared does: Compares your models predictions to the mean of the targets. Values can range from negative infinity (a very poor model) to 1.  For example, if all your model does is predict the mean of the targets, it's R^2 value would be 0. And if your model perfectly predicts a range of numbers it's R^2 value would be 1."
   ]
  },
  {
   "cell_type": "code",
   "execution_count": 47,
   "id": "8e503fb2-8597-4d56-a9a0-a2637f96327c",
   "metadata": {},
   "outputs": [],
   "source": [
    "from sklearn.ensemble import RandomForestRegressor\n",
    "\n",
    "np.random.seed(42)\n",
    "\n",
    "# Importing the Boston House Price dataset from the scikit library\n",
    "from sklearn.datasets import load_boston\n",
    "boston = load_boston()\n",
    "\n",
    "# Getting data set into Pandas Data Frame\n",
    "boston_df = pd.DataFrame(boston[\"data\"], columns = boston[\"feature_names\"])\n",
    "boston_df[\"target\"] = pd.Series(boston[\"target\"])\n",
    "\n",
    "# Create the feature matrix and label\n",
    "x = boston_df.drop(\"target\", axis=1)\n",
    "y = boston_df[\"target\"]\n",
    "\n",
    "x_train, x_test, y_train, y_test = train_test_split(x, y, test_size=0.2)\n",
    "\n",
    "model = RandomForestRegressor(n_estimators=100)\n",
    "model.fit(x_train, y_train);"
   ]
  },
  {
   "cell_type": "code",
   "execution_count": 49,
   "id": "4b9cfce8-6fa0-48a8-bcd1-a5ffa6b97de4",
   "metadata": {},
   "outputs": [
    {
     "data": {
      "text/plain": [
       "0.8654448653350507"
      ]
     },
     "execution_count": 49,
     "metadata": {},
     "output_type": "execute_result"
    }
   ],
   "source": [
    "# Return the coefficient of determination :math:`R^2` of the prediction.\n",
    "model.score(x_test, y_test)"
   ]
  },
  {
   "cell_type": "markdown",
   "id": "bdc93faf-4f5a-4c27-a892-ee96ce4eacec",
   "metadata": {},
   "source": []
  },
  {
   "cell_type": "code",
   "execution_count": null,
   "id": "238bc33a-2d74-4aa6-95c6-591119582ffd",
   "metadata": {},
   "outputs": [],
   "source": []
  }
 ],
 "metadata": {
  "kernelspec": {
   "display_name": "Python 3",
   "language": "python",
   "name": "python3"
  },
  "language_info": {
   "codemirror_mode": {
    "name": "ipython",
    "version": 3
   },
   "file_extension": ".py",
   "mimetype": "text/x-python",
   "name": "python",
   "nbconvert_exporter": "python",
   "pygments_lexer": "ipython3",
   "version": "3.7.10"
  },
  "toc-autonumbering": true
 },
 "nbformat": 4,
 "nbformat_minor": 5
}
