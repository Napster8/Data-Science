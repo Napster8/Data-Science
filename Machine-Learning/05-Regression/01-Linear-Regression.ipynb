{
 "cells": [
  {
   "cell_type": "code",
   "execution_count": 38,
   "id": "809d9b72-58fe-447e-be8f-ec01d2eb1287",
   "metadata": {},
   "outputs": [],
   "source": [
    "import numpy as np\n",
    "import pandas as pd\n",
    "import matplotlib.pyplot as plt\n",
    "%matplotlib inline\n",
    "from sklearn import linear_model"
   ]
  },
  {
   "cell_type": "markdown",
   "id": "0a1a40f7-4dcf-4df9-9262-0bb63c163427",
   "metadata": {},
   "source": [
    "# Linear Regression(Univariate) - House Price Prediction"
   ]
  },
  {
   "cell_type": "markdown",
   "id": "3b7f5d96-fc47-472a-925e-b0ccda14186a",
   "metadata": {},
   "source": [
    "## Example 1: House Price Prediction\n",
    "\n",
    "Area of the houses in Monroe Twp, NJ (USA) and their historical House prices:\n",
    "\n",
    "    * Areas:  2600, 3000, 3200, 3600, 4000\n",
    "    * Prices: 550000, 565000, 610000, 680000, 725000\n"
   ]
  },
  {
   "cell_type": "markdown",
   "id": "8093c452-340f-4866-a3a5-6a69f157f06d",
   "metadata": {},
   "source": [
    "To build machine learning algorithms, we initially assume (take as hypothesis) that our data is following a linear function. \n",
    "* Equation of a straight line in 2-dimensions is: y = mx + c, where `m` = slope of the straight line, `c` = y intercept.\n",
    "* To predict `y`, we need a dataset to fit a line. Once we fit the line, we know the optimum values of `c` and `m`. Therefore, we will be easily able to predict `y`."
   ]
  },
  {
   "cell_type": "markdown",
   "id": "a5c67634-6a4d-4628-bb8b-2bc4fc2fc88d",
   "metadata": {},
   "source": [
    "## Data Pre-Processing"
   ]
  },
  {
   "cell_type": "code",
   "execution_count": 39,
   "id": "3939030e-65d1-45ae-92e6-3544500dfc3c",
   "metadata": {},
   "outputs": [],
   "source": [
    "# Creating series\n",
    "x = pd.Series([2600, 3000, 3200, 3600, 4000])\n",
    "y = pd.Series([550000, 565000, 610000, 680000, 725000])\n",
    "\n",
    "# Creating Pandas DataFrame\n",
    "dataset = pd.DataFrame({'Areas': x, 'Prices': y})"
   ]
  },
  {
   "cell_type": "code",
   "execution_count": 37,
   "id": "d10496f1-df8e-408a-aa6d-e437439a3e76",
   "metadata": {},
   "outputs": [
    {
     "data": {
      "text/html": [
       "<div>\n",
       "<style scoped>\n",
       "    .dataframe tbody tr th:only-of-type {\n",
       "        vertical-align: middle;\n",
       "    }\n",
       "\n",
       "    .dataframe tbody tr th {\n",
       "        vertical-align: top;\n",
       "    }\n",
       "\n",
       "    .dataframe thead th {\n",
       "        text-align: right;\n",
       "    }\n",
       "</style>\n",
       "<table border=\"1\" class=\"dataframe\">\n",
       "  <thead>\n",
       "    <tr style=\"text-align: right;\">\n",
       "      <th></th>\n",
       "      <th>Areas</th>\n",
       "      <th>Prices</th>\n",
       "    </tr>\n",
       "  </thead>\n",
       "  <tbody>\n",
       "    <tr>\n",
       "      <th>count</th>\n",
       "      <td>5.000000</td>\n",
       "      <td>5.000000</td>\n",
       "    </tr>\n",
       "    <tr>\n",
       "      <th>mean</th>\n",
       "      <td>3280.000000</td>\n",
       "      <td>626000.000000</td>\n",
       "    </tr>\n",
       "    <tr>\n",
       "      <th>std</th>\n",
       "      <td>540.370243</td>\n",
       "      <td>74949.983322</td>\n",
       "    </tr>\n",
       "    <tr>\n",
       "      <th>min</th>\n",
       "      <td>2600.000000</td>\n",
       "      <td>550000.000000</td>\n",
       "    </tr>\n",
       "    <tr>\n",
       "      <th>25%</th>\n",
       "      <td>3000.000000</td>\n",
       "      <td>565000.000000</td>\n",
       "    </tr>\n",
       "    <tr>\n",
       "      <th>50%</th>\n",
       "      <td>3200.000000</td>\n",
       "      <td>610000.000000</td>\n",
       "    </tr>\n",
       "    <tr>\n",
       "      <th>75%</th>\n",
       "      <td>3600.000000</td>\n",
       "      <td>680000.000000</td>\n",
       "    </tr>\n",
       "    <tr>\n",
       "      <th>max</th>\n",
       "      <td>4000.000000</td>\n",
       "      <td>725000.000000</td>\n",
       "    </tr>\n",
       "  </tbody>\n",
       "</table>\n",
       "</div>"
      ],
      "text/plain": [
       "             Areas         Prices\n",
       "count     5.000000       5.000000\n",
       "mean   3280.000000  626000.000000\n",
       "std     540.370243   74949.983322\n",
       "min    2600.000000  550000.000000\n",
       "25%    3000.000000  565000.000000\n",
       "50%    3200.000000  610000.000000\n",
       "75%    3600.000000  680000.000000\n",
       "max    4000.000000  725000.000000"
      ]
     },
     "execution_count": 37,
     "metadata": {},
     "output_type": "execute_result"
    }
   ],
   "source": [
    "# brief measure of spread stats\n",
    "dataset.describe()"
   ]
  },
  {
   "cell_type": "code",
   "execution_count": 40,
   "id": "43fb25b2-e04d-4314-9398-8f5c29040590",
   "metadata": {},
   "outputs": [
    {
     "name": "stdout",
     "output_type": "stream",
     "text": [
      "<class 'pandas.core.frame.DataFrame'>\n",
      "RangeIndex: 5 entries, 0 to 4\n",
      "Data columns (total 2 columns):\n",
      " #   Column  Non-Null Count  Dtype\n",
      "---  ------  --------------  -----\n",
      " 0   Areas   5 non-null      int64\n",
      " 1   Prices  5 non-null      int64\n",
      "dtypes: int64(2)\n",
      "memory usage: 208.0 bytes\n"
     ]
    }
   ],
   "source": [
    "# To check if there exist any null objects\n",
    "dataset.info()"
   ]
  },
  {
   "cell_type": "markdown",
   "id": "76919814-b929-4b6a-b54c-a2d8fe3abd68",
   "metadata": {},
   "source": [
    "## Scatter Plot"
   ]
  },
  {
   "cell_type": "code",
   "execution_count": 41,
   "id": "8e761586-80d5-4b6e-a447-0be945b2d8be",
   "metadata": {},
   "outputs": [
    {
     "data": {
      "image/png": "[encoded data removed]",
      "text/plain": [
       "<Figure size 432x288 with 1 Axes>"
      ]
     },
     "metadata": {
      "needs_background": "light"
     },
     "output_type": "display_data"
    }
   ],
   "source": [
    "# Recommended to universally use the subplot method which leaves room to add more visualizations.\n",
    "fig, ax = plt.subplots()\n",
    "ax.scatter(x,y)\n",
    "ax.set(title = 'Area of the houses in Monroe Twp, NJ (USA) and their Prices', \n",
    "       xlabel = 'Areas', \n",
    "       ylabel = 'Prices');"
   ]
  },
  {
   "cell_type": "markdown",
   "id": "d1c32007-3d39-4d65-bd35-03149b66746d",
   "metadata": {},
   "source": [
    "## Fitting the Linear Regression Model\n",
    "\n",
    "Import linear regression model from scikit learn library and use the 'Areas' data to predict 'Prices'."
   ]
  },
  {
   "cell_type": "code",
   "execution_count": 42,
   "id": "2e2c8de4-dbc7-42e1-af02-e0889901a18a",
   "metadata": {
    "tags": []
   },
   "outputs": [],
   "source": [
    "# Fitting the model \n",
    "model = linear_model.LinearRegression()\n",
    "model.fit(dataset[['Areas']], dataset.Prices);"
   ]
  },
  {
   "cell_type": "markdown",
   "id": "f9503c18-6285-475e-a443-28288a048047",
   "metadata": {},
   "source": [
    "### Making Predictions"
   ]
  },
  {
   "cell_type": "code",
   "execution_count": 43,
   "id": "1dbb309b-5f75-4904-b2c2-d4251ea905e3",
   "metadata": {},
   "outputs": [
    {
     "name": "stdout",
     "output_type": "stream",
     "text": [
      "If the area is 3300, then the price of the house would be: [628715.75342466]\n"
     ]
    }
   ],
   "source": [
    "print(f'If the area is 3300, then the price of the house would be: {model.predict([[3300]])}')"
   ]
  },
  {
   "cell_type": "code",
   "execution_count": 16,
   "id": "94b28a06-af90-408a-b67e-bd85cd407037",
   "metadata": {},
   "outputs": [
    {
     "name": "stdout",
     "output_type": "stream",
     "text": [
      "If the area is 5000, then the price = [859554.79452055]\n"
     ]
    }
   ],
   "source": [
    "print(f'If the area is 5000, then the price = {model.predict([[5000]])}')"
   ]
  },
  {
   "cell_type": "markdown",
   "id": "db920342-ab75-45c2-84eb-2eb087121557",
   "metadata": {},
   "source": [
    "### Looking at the slope and the intercept\n",
    "\n",
    "* Linear Equation: y = mx + c\n",
    "* Prices = m * Areas + c"
   ]
  },
  {
   "cell_type": "code",
   "execution_count": 17,
   "id": "876bc3e4-2203-42f4-931a-efe1b65092b9",
   "metadata": {},
   "outputs": [
    {
     "name": "stdout",
     "output_type": "stream",
     "text": [
      "m = 135.78767123287673 and c = 180616.43835616432\n"
     ]
    }
   ],
   "source": [
    "m = model.coef_\n",
    "c = model.intercept_\n",
    "print(f'm = {m[0]} and c = {c}')"
   ]
  },
  {
   "cell_type": "code",
   "execution_count": 44,
   "id": "7a94569b-a7a9-49d5-988d-4c0dd72cae3b",
   "metadata": {},
   "outputs": [],
   "source": [
    "# Feature variables\n",
    "Areas = dataset.Areas\n",
    "\n",
    "# Prediction array for all the areas: 2600, 3000, 3200, 3600, 4000\n",
    "Prices = model.predict(dataset[['Areas']])\n"
   ]
  },
  {
   "cell_type": "markdown",
   "id": "1071dfbb-745a-4feb-8f51-736a9888e010",
   "metadata": {},
   "source": [
    "### Plotting the Best-Fit-Line"
   ]
  },
  {
   "cell_type": "code",
   "execution_count": 46,
   "id": "90aef367-e9a2-4963-98de-73dd9627a6ef",
   "metadata": {},
   "outputs": [
    {
     "data": {
      "image/png": "[encoded data removed]",
      "text/plain": [
       "<Figure size 432x288 with 1 Axes>"
      ]
     },
     "metadata": {
      "needs_background": "light"
     },
     "output_type": "display_data"
    }
   ],
   "source": [
    "fig, ax = plt.subplots()\n",
    "# scatter points\n",
    "ax.scatter(x,y)\n",
    "ax.set(title = 'Area of the houses in Monroe Twp, NJ (USA) and their Prices', \n",
    "       xlabel = 'Areas', \n",
    "       ylabel = 'Prices');\n",
    "\n",
    "# Plotting the Fit line: ax.plot(x-axis, y-axis, color = \"red\")\n",
    "# plot(x features, y-prediction, color = '')\n",
    "ax.plot(dataset.Areas, model.predict(dataset[['Areas']]), color = \"red\");"
   ]
  },
  {
   "cell_type": "markdown",
   "id": "72e2e2f2-8d46-4960-a904-5da3594321ba",
   "metadata": {},
   "source": [
    "### Export the Linear Regression model\n",
    "\n",
    "Exporting the model, allows us to export the `trained intelligence` and re-use it wherever we like.\n",
    "\n",
    "* Pickle\n",
    "* Joblib - more efficient as per scikit learn documentation."
   ]
  },
  {
   "cell_type": "markdown",
   "id": "4d2bdee1-96eb-414e-9872-7e8cc3b180d7",
   "metadata": {},
   "source": [
    "#### Pickle"
   ]
  },
  {
   "cell_type": "code",
   "execution_count": 47,
   "id": "44718b99-7a7d-4ea9-9e13-2118744c21fa",
   "metadata": {},
   "outputs": [],
   "source": [
    "# wb = saves as binary file\n",
    "import pickle\n",
    "pickle.dump(model, open(\"prediction-models/01-HousePricePrediction.pkl\", \"wb\"))"
   ]
  },
  {
   "cell_type": "markdown",
   "id": "d37fe832-8cb1-4fcc-a0a3-4e3c749cbd08",
   "metadata": {},
   "source": [
    "### Loading to re-use the model"
   ]
  },
  {
   "cell_type": "code",
   "execution_count": 56,
   "id": "4561309c-248e-4be6-a0de-7555d91472a6",
   "metadata": {
    "tags": []
   },
   "outputs": [],
   "source": [
    "# loaded_model = pickle.load(open(\"../prediction-models/heartDiseasePredictionModel2.pkl\", \"rb\"))\n",
    "\n",
    "pkl_loaded_model = pickle.load(open(\"prediction-models/01-HousePricePrediction.pkl\", \"rb\"))"
   ]
  },
  {
   "cell_type": "markdown",
   "id": "9bedb68a-28d4-4511-9163-4c9a950f131e",
   "metadata": {},
   "source": [
    "#### Joblib"
   ]
  },
  {
   "cell_type": "code",
   "execution_count": 61,
   "id": "19dd2cca-7163-46a7-9614-464b019445a7",
   "metadata": {},
   "outputs": [],
   "source": [
    "from joblib import dump, load\n",
    "dump(model, '../prediction-models/01-HousePricePrediction.joblib');"
   ]
  },
  {
   "cell_type": "code",
   "execution_count": 62,
   "id": "f70b50b7-21b2-43d1-844b-d5e0a24265ac",
   "metadata": {},
   "outputs": [],
   "source": [
    "# loading the joblib saved model for re-use\n",
    "joblib_loaded_model = load('../prediction-models/01-HousePricePrediction.joblib') "
   ]
  },
  {
   "cell_type": "markdown",
   "id": "f3802c47-cd35-472f-a1f0-a5c037e40323",
   "metadata": {},
   "source": [
    "### Comparing the models"
   ]
  },
  {
   "cell_type": "code",
   "execution_count": 64,
   "id": "191ad53f-f988-4b31-a1d2-e7c1e6c2e316",
   "metadata": {},
   "outputs": [
    {
     "name": "stdout",
     "output_type": "stream",
     "text": [
      "Trained model Prediction = [859554.79452055]\n",
      "Pickle Lib Loaded model Prediction = [859554.79452055]\n",
      "Joblib Loaded model Prediction = [859554.79452055]\n"
     ]
    }
   ],
   "source": [
    "print(f'Trained model Prediction = {model.predict([[5000]])}')\n",
    "print(f'Pickle Lib Loaded model Prediction = {pkl_loaded_model.predict([[5000]])}')\n",
    "print(f'Joblib Loaded model Prediction = {joblib_loaded_model.predict([[5000]])}')"
   ]
  },
  {
   "cell_type": "markdown",
   "id": "963bb24f-9907-44af-a37b-61588ae82ce1",
   "metadata": {},
   "source": [
    "## Example 2: Years vs Per Capita Income\n",
    "\n",
    "    * Years:  2005, 2006, 2007, 2008, 2009, 2010, 2011, 2012, 2013, 2014 2015, 2016\n",
    "    * Per Capita Income: 29198.05569, 32738.2629, 36144.48, 37000, 38420, 42665.255, 42676, 41039, 35175, 345229.1963"
   ]
  },
  {
   "cell_type": "code",
   "execution_count": 66,
   "id": "34d7e747-8291-4861-a487-01b30e89b005",
   "metadata": {},
   "outputs": [
    {
     "name": "stdout",
     "output_type": "stream",
     "text": [
      "[134363.21539489]\n"
     ]
    },
    {
     "data": {
      "image/png": "[encoded data removed]",
      "text/plain": [
       "<Figure size 432x288 with 1 Axes>"
      ]
     },
     "metadata": {
      "needs_background": "light"
     },
     "output_type": "display_data"
    }
   ],
   "source": [
    "x = pd.Series([2005, 2006, 2007, 2008, 2009, 2010, 2011, 2012, 2013, 2014, 2015, 2016])\n",
    "y = pd.Series([29198.05569, 32738.2629, 36144.48, 37000, 38420, 42665.255, 42676, 41039, 35175, 345229.1963,26547.65, 36000])\n",
    "\n",
    "dataset = pd.DataFrame({'Years': x, 'Income': y})\n",
    "model = linear_model.LinearRegression()\n",
    "model.fit(dataset[['Years']], dataset.Income)\n",
    "fig, ax = plt.subplots()\n",
    "\n",
    "# If, Year = 2020, then Income = ?\n",
    "answer = model.predict([[2020]])\n",
    "print(answer)\n",
    "\n",
    "# Scatter points\n",
    "ax.scatter(x,y)\n",
    "ax.set(title = 'Example2: Linear Regression', \n",
    "       xlabel = 'Years', \n",
    "       ylabel = 'Per Capita Income');\n",
    "\n",
    "# Plotting the Fit line: ax.plot(x-axis, y-axis, color = \"red\")\n",
    "# plot(x features, y-prediction, color = '')\n",
    "ax.plot(dataset.Years, model.predict(dataset[['Years']]), color = 'red');\n"
   ]
  },
  {
   "cell_type": "markdown",
   "id": "f8a0ed5e-edc5-4112-a0fd-4a304974e312",
   "metadata": {},
   "source": [
    "# Linear Regression(Multivariate) - House Price Prediction"
   ]
  },
  {
   "cell_type": "code",
   "execution_count": 70,
   "id": "83f69ce7-b3f9-458b-b9bf-4fe3d34041fe",
   "metadata": {},
   "outputs": [
    {
     "data": {
      "text/plain": [
       "area        0\n",
       "bedrooms    1\n",
       "age         0\n",
       "price       0\n",
       "dtype: int64"
      ]
     },
     "execution_count": 70,
     "metadata": {},
     "output_type": "execute_result"
    }
   ],
   "source": [
    "dataset = pd.read_csv(\"data/homeprices.csv\")\n",
    "\n",
    "# Check if there are any missing values\n",
    "dataset.isna().sum()"
   ]
  },
  {
   "cell_type": "code",
   "execution_count": 71,
   "id": "f8eaea6c-7d1d-47ad-9dd8-4002c5e38a16",
   "metadata": {
    "tags": []
   },
   "outputs": [
    {
     "data": {
      "text/plain": [
       "(4, int)"
      ]
     },
     "execution_count": 71,
     "metadata": {},
     "output_type": "execute_result"
    }
   ],
   "source": [
    "# Fill the missing value with median value of the number of bedrooms in the entire dataset\n",
    "import math\n",
    "median_bedrooms = math.floor(dataset.bedrooms.median())\n",
    "median_bedrooms, type(median_bedrooms)"
   ]
  },
  {
   "cell_type": "code",
   "execution_count": 72,
   "id": "69461c25-ab18-4269-92f2-505e8944bbd9",
   "metadata": {},
   "outputs": [
    {
     "data": {
      "text/html": [
       "<div>\n",
       "<style scoped>\n",
       "    .dataframe tbody tr th:only-of-type {\n",
       "        vertical-align: middle;\n",
       "    }\n",
       "\n",
       "    .dataframe tbody tr th {\n",
       "        vertical-align: top;\n",
       "    }\n",
       "\n",
       "    .dataframe thead th {\n",
       "        text-align: right;\n",
       "    }\n",
       "</style>\n",
       "<table border=\"1\" class=\"dataframe\">\n",
       "  <thead>\n",
       "    <tr style=\"text-align: right;\">\n",
       "      <th></th>\n",
       "      <th>area</th>\n",
       "      <th>bedrooms</th>\n",
       "      <th>age</th>\n",
       "      <th>price</th>\n",
       "    </tr>\n",
       "  </thead>\n",
       "  <tbody>\n",
       "    <tr>\n",
       "      <th>0</th>\n",
       "      <td>2600</td>\n",
       "      <td>3.0</td>\n",
       "      <td>20</td>\n",
       "      <td>550000</td>\n",
       "    </tr>\n",
       "    <tr>\n",
       "      <th>1</th>\n",
       "      <td>3000</td>\n",
       "      <td>4.0</td>\n",
       "      <td>15</td>\n",
       "      <td>565000</td>\n",
       "    </tr>\n",
       "    <tr>\n",
       "      <th>2</th>\n",
       "      <td>3200</td>\n",
       "      <td>4.0</td>\n",
       "      <td>18</td>\n",
       "      <td>610000</td>\n",
       "    </tr>\n",
       "    <tr>\n",
       "      <th>3</th>\n",
       "      <td>3600</td>\n",
       "      <td>3.0</td>\n",
       "      <td>30</td>\n",
       "      <td>595000</td>\n",
       "    </tr>\n",
       "    <tr>\n",
       "      <th>4</th>\n",
       "      <td>4000</td>\n",
       "      <td>5.0</td>\n",
       "      <td>8</td>\n",
       "      <td>760000</td>\n",
       "    </tr>\n",
       "    <tr>\n",
       "      <th>5</th>\n",
       "      <td>4100</td>\n",
       "      <td>6.0</td>\n",
       "      <td>8</td>\n",
       "      <td>810000</td>\n",
       "    </tr>\n",
       "  </tbody>\n",
       "</table>\n",
       "</div>"
      ],
      "text/plain": [
       "   area  bedrooms  age   price\n",
       "0  2600       3.0   20  550000\n",
       "1  3000       4.0   15  565000\n",
       "2  3200       4.0   18  610000\n",
       "3  3600       3.0   30  595000\n",
       "4  4000       5.0    8  760000\n",
       "5  4100       6.0    8  810000"
      ]
     },
     "execution_count": 72,
     "metadata": {},
     "output_type": "execute_result"
    }
   ],
   "source": [
    "dataset.bedrooms = dataset.bedrooms.fillna(median_bedrooms)\n",
    "dataset"
   ]
  },
  {
   "cell_type": "markdown",
   "id": "229ee0f4-f251-46d3-b815-71143f6b9573",
   "metadata": {},
   "source": [
    "The multi-variate equation looks like:\n",
    "$$ y = m_1*area + m_2*bedrooms + m_3*age + c $$\n",
    "The equation can be generalized as:\n",
    "$$ y = m_1*x_1 + m_2*x_2 + m_3*x_3 + c $$"
   ]
  },
  {
   "cell_type": "code",
   "execution_count": 73,
   "id": "d25d699a-86e4-4db6-a8d7-0d88489b4c5b",
   "metadata": {
    "tags": []
   },
   "outputs": [
    {
     "name": "stdout",
     "output_type": "stream",
     "text": [
      "m1 = 112.06244194213458, m2 = 23388.88007793922, m3 = -3231.7179086329634, c = y-intercept = [221323.0018654]\n"
     ]
    }
   ],
   "source": [
    "model = linear_model.LinearRegression()\n",
    "x = dataset[['area', 'bedrooms', 'age']]\n",
    "y = dataset[['price']]\n",
    "model.fit(x,y)\n",
    "\n",
    "m1 = model.coef_[0][0]\n",
    "m2 = model.coef_[0][1]\n",
    "m3 = model.coef_[0][2]\n",
    "c = model.intercept_\n",
    "print(f\"m1 = {m1}, m2 = {m2}, m3 = {m3}, c = y-intercept = {c}\")"
   ]
  },
  {
   "cell_type": "markdown",
   "id": "eb3d318a-6b40-4087-9edf-5407f1796782",
   "metadata": {},
   "source": [
    "Find price of home with 3000 sqr ft area, 3 bedrooms, 40 year old"
   ]
  },
  {
   "cell_type": "code",
   "execution_count": 74,
   "id": "8502e02d-41e4-4468-a223-ba1e62184505",
   "metadata": {
    "tags": []
   },
   "outputs": [
    {
     "data": {
      "text/plain": [
       "array([[498408.25158031]])"
      ]
     },
     "execution_count": 74,
     "metadata": {},
     "output_type": "execute_result"
    }
   ],
   "source": [
    "model.predict([[3000, 3, 40]])"
   ]
  },
  {
   "cell_type": "markdown",
   "id": "ab3a3593-540a-4a4a-a03d-702421b3e5b9",
   "metadata": {},
   "source": [
    "## Matrix operation in python"
   ]
  },
  {
   "cell_type": "code",
   "execution_count": null,
   "id": "5534b41d-0943-45a4-b236-5eca59c34c8c",
   "metadata": {},
   "outputs": [],
   "source": [
    "# Using numpy module we can easily do matrix calculations\n",
    "# a = np.matrix()\n",
    "\n",
    "a = np.matrix([[1, 0],\n",
    "               [2, 5],\n",
    "               [3, 1]])\n",
    "\n",
    "b = np.matrix([[4, 0.5],\n",
    "               [2, 5],\n",
    "               [0, 1]])\n",
    "\n",
    "c = a + b\n",
    "\n",
    "c"
   ]
  },
  {
   "cell_type": "code",
   "execution_count": null,
   "id": "b459650e-e5c1-470f-a2c6-8fbc8ecaca04",
   "metadata": {},
   "outputs": [],
   "source": [
    "# multiplication\n",
    "\n",
    "c = 2 * np.matrix([[4,5],\n",
    "                   [1,7]])\n",
    "c"
   ]
  },
  {
   "cell_type": "code",
   "execution_count": null,
   "id": "b2a64f16-088d-42c4-95a8-6b3d37c6c5ab",
   "metadata": {},
   "outputs": [],
   "source": [
    "a = np.matrix([[1, 2, 1, 5],\n",
    "          [0, 3, 0, 4], \n",
    "          [-1, -2, 0, 0]])\n",
    "\n",
    "b = np.matrix([[1],\n",
    "              [3],\n",
    "              [2],\n",
    "              [1]])\n",
    "\n",
    "c = a * b\n",
    "c"
   ]
  },
  {
   "cell_type": "code",
   "execution_count": null,
   "id": "ba015497-fdd3-48de-bbf1-9ebf3d293d41",
   "metadata": {},
   "outputs": [],
   "source": [
    "# Combinations of operands\n",
    "a = np.matrix([[1],\n",
    "               [4],\n",
    "               [2]])\n",
    "\n",
    "b = np.matrix([[0],\n",
    "               [0],\n",
    "               [5]])\n",
    "\n",
    "c = np.matrix([[3],\n",
    "               [0],\n",
    "               [2]])\n",
    "\n",
    "d = 3 * a + b - c/3\n",
    "d.round(2)"
   ]
  },
  {
   "cell_type": "markdown",
   "id": "f79de4d8-d12f-417c-9c9d-1bb3b37aed75",
   "metadata": {},
   "source": [
    "## Exercise 1: Hypothesis\n",
    "* Linear hypothesis equation of the form: y = mx + c\n",
    "* Hypothesis equation: y = h(x) = 0.25x - 40\n",
    "* Insert the usual column of 1's into the \"houseSizes\" matrix\n",
    "* np.insert(arr, obj, values, axis=None)"
   ]
  },
  {
   "cell_type": "code",
   "execution_count": null,
   "id": "755bbd5a-f4ce-4410-a3fe-67af80be214f",
   "metadata": {},
   "outputs": [],
   "source": [
    "houseSizes = np.matrix([[2104],\n",
    "                        [1416],\n",
    "                        [1534],\n",
    "                        [852]])\n",
    "houseSizes = np.insert(houseSizes, 0, 1,axis=1)\n",
    "\n",
    "parameters = np.matrix([[-40],\n",
    "                    [0.25]])\n",
    "\n",
    "c = houseSizes * parameters\n",
    "print(c)"
   ]
  },
  {
   "cell_type": "markdown",
   "id": "5fb4b35f-601d-4fed-8d31-8d018a110b03",
   "metadata": {},
   "source": [
    "## Exercise 2: Hypothesis"
   ]
  },
  {
   "cell_type": "code",
   "execution_count": null,
   "id": "24f1be95-60c7-4fa4-a773-801e0dc1436b",
   "metadata": {},
   "outputs": [],
   "source": [
    "# We have 3 competing Linear hypothesis equation of the form: y = mx + c\n",
    "# Hypothesis equation 1: y = h(x1) = 0.25x - 40\n",
    "# Hypothesis equation 2: y = h(x2) = 0.1*x + 200\n",
    "# Hypothesis equation 3: y = h(x3) = 0.4*x - 150\n",
    "\n",
    "# Insert the column of 1's into the \"houseSizes\" matrix\n",
    "# np.insert(arr, obj, values, axis=None)\n",
    "\n",
    "houseSizes = np.matrix([[2104],\n",
    "                        [1416],\n",
    "                        [1534],\n",
    "                        [852]])\n",
    "houseSizes = np.insert(houseSizes, 0, 1,axis=1)\n",
    "\n",
    "parameters = np.matrix([[-40, 200, 150],\n",
    "                        [0.25, 0.1, 0.4]])\n",
    "\n",
    "c = houseSizes * parameters\n",
    "print(c)"
   ]
  },
  {
   "cell_type": "markdown",
   "id": "ff77022d-3550-4223-8e09-9223631021df",
   "metadata": {},
   "source": [
    "* Matrix multiplication is not commutative\n",
    "* Identity Matrix: Diagonal numbers are 1 and other values are 0\n",
    "* a = a * identity_matrix = identity_matrix * a"
   ]
  },
  {
   "cell_type": "markdown",
   "id": "f7de9f0a-f1e6-45bb-bca3-7b6b20464c8e",
   "metadata": {},
   "source": [
    "## Matrix Inverse and Transpose"
   ]
  },
  {
   "cell_type": "code",
   "execution_count": null,
   "id": "97900f00-36dc-4dfe-a2d0-6cff4f677c9a",
   "metadata": {},
   "outputs": [],
   "source": [
    "a = np.array([[1, 2, 3], \n",
    "              [1, 3, 3], \n",
    "              [1, 2, 4]])\n",
    "\n",
    "ainv = np.linalg.inv(a)\n",
    "\n",
    "print(ainv)"
   ]
  },
  {
   "cell_type": "code",
   "execution_count": null,
   "id": "4c62f9bf-33bb-44ea-a0ca-928881ead405",
   "metadata": {},
   "outputs": [],
   "source": [
    "a = np.array([[1, 2, 3], \n",
    "              [4, 5, 6], \n",
    "              [7, 8, 9]])\n",
    "\n",
    "atrans = np.transpose(a)\n",
    "\n",
    "print(atrans)"
   ]
  }
 ],
 "metadata": {
  "kernelspec": {
   "display_name": "Python 3",
   "language": "python",
   "name": "python3"
  },
  "language_info": {
   "codemirror_mode": {
    "name": "ipython",
    "version": 3
   },
   "file_extension": ".py",
   "mimetype": "text/x-python",
   "name": "python",
   "nbconvert_exporter": "python",
   "pygments_lexer": "ipython3",
   "version": "3.7.10"
  },
  "toc-autonumbering": false
 },
 "nbformat": 4,
 "nbformat_minor": 5
}
